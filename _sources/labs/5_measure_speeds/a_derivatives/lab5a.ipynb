{
 "cells": [
  {
   "cell_type": "markdown",
   "id": "953afaee-02f1-4c15-b692-9390fb7c3025",
   "metadata": {},
   "source": [
    "# Week 12: Prepare to Build a Distance Measurement Tool (Floating Pt Numbers and Num. Differentiation)\n",
    "<font size=\"6\">  Laboratory 5a </font> <br>\n",
    "<font size=\"3\"> Last updated April 5, 2023 </font>"
   ]
  },
  {
   "cell_type": "markdown",
   "id": "e7cb454e-a252-41b3-b9a1-6148a8e97fa7",
   "metadata": {},
   "source": [
    "## <span style=\"color:orange;\"> 00. Content </span>"
   ]
  },
  {
   "cell_type": "markdown",
   "id": "e5354bd0-3e0d-4fea-9291-9f9eae5b1d2e",
   "metadata": {},
   "source": [
    "<font size=\"5\"> Mathematics </font>\n",
    "- Approximating derivatives using finite difference schemes\n",
    "- Approximation bias\n",
    "\n",
    "<font size=\"5\"> Programming Skills </font>\n",
    "- Number types: int, float\n",
    "- Use of underscore as a numerical separator\n",
    "- Vectorized computation\n",
    "\n",
    "<font size=\"5\"> Embedded Systems </font>\n",
    "- N/A"
   ]
  },
  {
   "cell_type": "markdown",
   "id": "8df63e6f-185e-4c50-bff5-fdf5ea98c0bb",
   "metadata": {},
   "source": [
    "## <span style=\"color:orange;\"> 0. Required Hardware </span>"
   ]
  },
  {
   "cell_type": "markdown",
   "id": "27cfcc1f-b36c-42b6-8ade-87a7d4af7f5a",
   "metadata": {},
   "source": [
    "- N/A"
   ]
  },
  {
   "cell_type": "markdown",
   "id": "12dad4b1-d5ac-45af-b1bb-559ea62d5fb7",
   "metadata": {},
   "source": [
    "<h3 style=\"background-color:lightblue\"> Copy the file `student_info.py` into the folder you are working in, then run this cell to put your name and email into this document.</h3>"
   ]
  },
  {
   "cell_type": "code",
   "execution_count": null,
   "id": "e783c022-66a9-40d1-a03d-f7e73d0a3e69",
   "metadata": {},
   "outputs": [],
   "source": [
    "from student_info import show_info\n",
    "show_info()"
   ]
  },
  {
   "cell_type": "markdown",
   "id": "c1cf00de-7df6-4c90-ade4-6510f2556974",
   "metadata": {},
   "source": [
    "## <span style=\"color:orange;\"> 1. Two Types of Numbers in Python </span> "
   ]
  },
  {
   "cell_type": "markdown",
   "id": "455245ae-b96f-4a94-9b62-6466a81c9e9c",
   "metadata": {},
   "source": [
    "## Integers\n",
    "\n",
    "One of the benefits of using Python is that it has great support for numbers. This makes it much more friendly for doing math than, for example, Javascript or C. Whole numbers in Python have the type `int`, which is short for Integer. You can check this yourself:"
   ]
  },
  {
   "cell_type": "code",
   "execution_count": null,
   "id": "73f55494-2ece-4044-bf90-286d8d867ba0",
   "metadata": {},
   "outputs": [],
   "source": [
    "type(5)"
   ]
  },
  {
   "cell_type": "markdown",
   "id": "839d2d8f-3ed9-4918-861b-f08f9f67fb9d",
   "metadata": {},
   "source": [
    "Python `int`s can be as big as you like, positive or negative. It can get a bit cumbersome writing and reading them, and the comma has a special meaning in Python, so you can't use it to separate big integers for legibility:"
   ]
  },
  {
   "cell_type": "code",
   "execution_count": null,
   "id": "fbe90685-65a2-4a9c-bae9-0a1f98b57a37",
   "metadata": {},
   "outputs": [],
   "source": [
    "123,456,789"
   ]
  },
  {
   "cell_type": "markdown",
   "id": "87db18f1-9b37-488a-b9a4-65998132d213",
   "metadata": {},
   "source": [
    "That gives us a list of three integers. If you want to refer to the number 123,456,789 you can write it without separations, but it is easier to read if you use the underscore symbol where there would be a comma:"
   ]
  },
  {
   "cell_type": "code",
   "execution_count": null,
   "id": "59bcec91-d551-4218-b08e-175370d40d05",
   "metadata": {},
   "outputs": [],
   "source": [
    "123_456_789 == 123456789"
   ]
  },
  {
   "cell_type": "markdown",
   "id": "f3124c37-c28b-4c57-8e97-89f5d1f600f8",
   "metadata": {},
   "source": [
    "You can put underscores wherever you like in a number -- python ignores them. You could represent a credit card number, for example:"
   ]
  },
  {
   "cell_type": "code",
   "execution_count": null,
   "id": "ce6fc078-9314-4d7d-b16a-ba7aad8923cf",
   "metadata": {},
   "outputs": [],
   "source": [
    "3782_8224_6310_005"
   ]
  },
  {
   "cell_type": "markdown",
   "id": "2ff0355a-cb19-4c44-aca1-b7cb24e7cbad",
   "metadata": {},
   "source": [
    "## Floats\n",
    "\n",
    "The other type of number was mentioned in Lab 4e, floating point numbers. As explained previously, floats are used to represent non-whole numbers like decimals. However, they do present some error since Python can only store a certain amount of digits. For almost all purposes, this relative error is no trouble at all, and if it is posing a problem then the tool introduced last time, SymPy, can be implemented to avoid this."
   ]
  },
  {
   "cell_type": "markdown",
   "id": "9180ff38-8c08-4626-9e36-abbc95ef6896",
   "metadata": {},
   "source": [
    "### <span style=\"color:red;\"> Exercise 1 </span> (5 pts)\n",
    "\n",
    "For each of the following constants, look them up on Wikipedia or WolframAlpha and report the relative error in their known values using SI units. If an error is not given, you can assume the absolute error is $\\pm 1 $ of the last digit given. Note that some times, the absolute error is given in a concise notation, as described here: https://physics.nist.gov/cgi-bin/cuu/Info/Constants/definitions.html. Compare your answers to the relative error in a floating point number, known as [_machine epsilon_](https://en.wikipedia.org/wiki/Machine_epsilon)\n",
    "(*Reminder: we are using single precision floats*). Make sure you are using relative error, not absolute error.\n",
    "\n",
    " - Mass of an electron\n",
    " - Orbital period of the moon (the Sidereal period, specifically)\n",
    " - Distance from New York to Los Angeles\n",
    " - Freezing point of water at atmospheric pressure"
   ]
  },
  {
   "cell_type": "markdown",
   "id": "85c472c3",
   "metadata": {},
   "source": [
    "<h3 style=\"background-color:lightblue\"> Write Answers for Exercise 1 Below: </h3>"
   ]
  },
  {
   "cell_type": "markdown",
   "id": "b905a24f",
   "metadata": {},
   "source": []
  },
  {
   "cell_type": "markdown",
   "id": "4fe8bcfb-87c6-4d15-9bf8-2faa84065f16",
   "metadata": {},
   "source": [
    "## <span style=\"color:orange;\"> 2. Troubles with Floating Point Numbers </span> "
   ]
  },
  {
   "cell_type": "markdown",
   "id": "084fb006-4600-4966-bb8f-6cf162e9118e",
   "metadata": {},
   "source": [
    "Precision is usually not a problem with floating point numbers, with one major exception which we will address later. The main issue you will face is when comparing numbers. Check this out:"
   ]
  },
  {
   "cell_type": "code",
   "execution_count": null,
   "id": "54ebd81a-36fe-42b9-982d-2c257ea2dd30",
   "metadata": {},
   "outputs": [],
   "source": [
    "for x in range(1, 10):\n",
    "    if x/10 == 0.1*x:\n",
    "        print(x)"
   ]
  },
  {
   "cell_type": "markdown",
   "id": "2859dc16-574b-4a39-a12f-b18594e4725b",
   "metadata": {},
   "source": [
    "### <span style=\"color:red;\"> Exercise 2 </span> (5 pts)\n",
    "\n",
    "Explain why a few numbers are missing from the printout above. Include the python values of `x/10` and `0.1*x` in your explanation, for some values of `x` (make a new code cell printing the relevant values)."
   ]
  },
  {
   "cell_type": "markdown",
   "id": "b803adc1",
   "metadata": {},
   "source": [
    "<h3 style=\"background-color:lightblue\"> Write Answers for Exercise 2 Below </h3>"
   ]
  },
  {
   "cell_type": "markdown",
   "id": "621b325c",
   "metadata": {},
   "source": []
  },
  {
   "cell_type": "markdown",
   "id": "12c8ec1c-2775-429d-af40-c6b07c28394a",
   "metadata": {},
   "source": [
    "There are two main ways to deal with this:\n",
    "\n",
    "1. Whenever possible, use `>=` or `<=` instead of `==` when comparing floating point numbers. This is usually the best thing to do. For example, if a number is decreasing and you want to know when it hits zero, check if it is positive instead of checking if it's zero. Or, better yet, check if it's less than 0.0001, keeping as much precision as you need for your purpose and no more.\n",
    "\n",
    "2. Instead of checking if floats are equal, check if they are close to eachother. For example, the builtin function `math.isclose` can do this for you, or you can use the version in numpy if working with arrays. Here is how that might look:"
   ]
  },
  {
   "cell_type": "code",
   "execution_count": null,
   "id": "09e47d2a-877a-42f2-9b83-8bc39e13d637",
   "metadata": {},
   "outputs": [],
   "source": [
    "import math\n",
    "for x in range(1, 10):\n",
    "    if math.isclose(x/10, 0.1*x):\n",
    "        print(x)"
   ]
  },
  {
   "cell_type": "code",
   "execution_count": null,
   "id": "24c6a49d-e857-4025-b4dd-4861588c4077",
   "metadata": {},
   "outputs": [],
   "source": [
    "import numpy as np\n",
    "x = np.arange(1, 10)\n",
    "print(np.isclose(x/10, 0.1*x))"
   ]
  },
  {
   "cell_type": "markdown",
   "id": "ca887925-3de8-4176-85bd-439e6903e1e5",
   "metadata": {},
   "source": [
    "## <span style=\"color:orange;\"> 3. Catastrophic Cancellation </span> "
   ]
  },
  {
   "cell_type": "markdown",
   "id": "31d94ec9-2381-492e-955e-0764c26ee79f",
   "metadata": {},
   "source": [
    "There is one situation where roundoff error is a really big problem. That is when you are subtracting two numbers which are very close together. This isn't anything special about floating point numbers, this is just a fact about rounding. Here, have a look:\n",
    "\n",
    "$$\n",
    "\\begin{array}{r}\n",
    "3.14159265358???\\\\\n",
    "-\\; 3.14159265332???\\\\\\hline\n",
    "0.00000000026???\n",
    "\\end{array}\n",
    "$$\n",
    "\n",
    "We have used question marks to represent unknown digits, i.e. digits which were lost due to rounding. See how the relative error in the output is much bigger than in either of the inputs: each input has 12 significant figures, but the output has only two significant figures. We can do this a bit more precisely by writing the absolute errors explicitly:\n",
    "\n",
    "\\begin{align*}\n",
    "3.14159265358??? &\\rightarrow 3.14159265358 \\pm 5\\times 10^{-12}\\\\\n",
    "3.14159265332??? &\\rightarrow 3.14159265332 \\pm 5\\times 10^{-12}\\\\\n",
    "0.00000000026??? &\\rightarrow 0.00000000026 \\pm \\text{(you figure this one out)}\\\\\n",
    "\\end{align*}\n",
    "\n",
    "### <span style=\"color:red;\"> Exercise 3 </span> (5 pts)\n",
    "\n",
    "What is the absolute error in the output? What are the relative errors of each of the inputs, and what is the relative error of the output?"
   ]
  },
  {
   "cell_type": "markdown",
   "id": "eab11086",
   "metadata": {},
   "source": [
    "<h3 style=\"background-color:lightblue\"> Write Answers for Exercise 3 Below </h3>"
   ]
  },
  {
   "cell_type": "markdown",
   "id": "4a94bf3c",
   "metadata": {},
   "source": []
  },
  {
   "cell_type": "markdown",
   "id": "0b4ee3b4-4d79-42b8-87d9-06efcff0b12a",
   "metadata": {},
   "source": [
    "### <span style=\"color:red;\"> Exercise 4 </span> (25 pts)\n",
    "\n",
    "### A practical example of catastrophic cancellation\n",
    "\n",
    "Before continuing, run the following block. This code will be able to check if your code works properly."
   ]
  },
  {
   "cell_type": "code",
   "execution_count": null,
   "id": "416de7fb",
   "metadata": {
    "deletable": false,
    "editable": false
   },
   "outputs": [],
   "source": [
    "%%sh\n",
    "wget -q -N https://raw.githubusercontent.com/TheDataScienceLabs/DSLab_Calculus/main/book/labs/5_measure_speeds/a_derivatives/autograder.py\n",
    "wget -q -N https://raw.githubusercontent.com/TheDataScienceLabs/DSLab_Calculus/main/book/labs/5_measure_speeds/a_derivatives/lab_5a_checker.py"
   ]
  },
  {
   "cell_type": "markdown",
   "id": "f3189d90",
   "metadata": {},
   "source": [
    "Here we walk you through coding an example where catastrophic cancellation makes a pretty big difference, and something clever you can do to fix it.\n",
    "\n",
    "__Part 1__ (5 pts)\n",
    "\n",
    "Write a function which takes the coefficients `a`, `b`, and `c` from a polynomial $ax^2+bx+c$ and gives you a list of the roots. Just apply the standard quadratic formula. For now, you can assume that $b^2-4ac>0$ so you can take the square root, and you can assume `a` is not zero. Have it give the smaller root first (you can use the built in function `sorted` for this).\n",
    "\n",
    "<h3 style=\"background-color:lightblue\"> Write Answers for Exercise 4 Part 1 Below </h3>"
   ]
  },
  {
   "cell_type": "code",
   "execution_count": null,
   "id": "884b8c90-f1cf-4648-82bf-ad7b3d7225ca",
   "metadata": {},
   "outputs": [],
   "source": [
    "import lab_5a_checker\n",
    "\n",
    "def naive_roots(a, b, c):\n",
    "    # fill in the formula here\n",
    "    \n",
    "    return sorted([x1, x2])\n",
    "\n",
    "lab_5a_checker.check_naive_roots(naive_roots)"
   ]
  },
  {
   "cell_type": "markdown",
   "id": "f0fb16fb-1d64-415f-b504-b5c03b94b88a",
   "metadata": {},
   "source": [
    "__Part 2__ (2.5 pts)\n",
    "\n",
    "Factor the polynomial $x^2-1,000,000.000,001 x +1$ exactly, on paper (note the decimal place in `b`). What should the roots be?\n",
    "\n",
    "<h3 style=\"background-color:lightblue\"> Write Answers for Exercise 4 Part 2 Below </h3>"
   ]
  },
  {
   "cell_type": "markdown",
   "id": "b38ad184",
   "metadata": {},
   "source": []
  },
  {
   "cell_type": "markdown",
   "id": "bd71a695-5af7-4fb1-95bd-caa0016b95fb",
   "metadata": {},
   "source": [
    "__Part 3__ (2.5 pts)\n",
    "\n",
    "Apply your simple root-finding function to this polynomial. What are the relative errors in your computed roots, compared to the true values? Explain why one of these has a larger relative error.\n",
    "\n",
    "<h3 style=\"background-color:lightblue\"> Write Answers for Exercise 4 Part 3 Below </h3>"
   ]
  },
  {
   "cell_type": "code",
   "execution_count": null,
   "id": "f2bb9841",
   "metadata": {},
   "outputs": [],
   "source": [
    "# call your root finding function"
   ]
  },
  {
   "cell_type": "markdown",
   "id": "45403d1c-2085-4cf8-8b16-1405aebf1fda",
   "metadata": {},
   "source": [
    "Here is a simple technique we can apply to reduce the error. Let's assume for now that `b` is a negative number. So, we get cancellation in the numerator when subtracting $-b$ and $\\sqrt{b^2-4ac}$. In this case, just multiply by one in a clever way:\n",
    "\n",
    "\\begin{align*}\n",
    "\\frac{-b-\\sqrt{b^2-4ac}}{2a}\n",
    "&= \\frac{-b-\\sqrt{b^2-4ac}}{2a} \\times \\frac{-b+\\sqrt{b^2-4ac}}{-b+\\sqrt{b^2-4ac}}\\\\\n",
    "&= \\frac{b^2-(b^2-4ac)}{2a(-b+\\sqrt{b^2-4ac})}\\\\\n",
    "&= \\frac{2c}{-b+\\sqrt{b^2-4ac}}\n",
    "\\end{align*}\n",
    "\n",
    "Since `b` is negative and `-b` is positive, there is no cancellation here! We can use this formula to compute the \"-\" root, while the original formula will continue to compute the \"+\" root correctly.\n",
    "\n",
    "__Part 4__ (5 pts)\n",
    "\n",
    "Assuming `b` is always negative, rewrite your function to use this formula for one root and the standard formula for the other root. Compute the relative errors on the example above, using your new formula.\n",
    "\n",
    "<h3 style=\"background-color:lightblue\"> Write Answers for Exercise 4 Part 4 Below </h3>"
   ]
  },
  {
   "cell_type": "code",
   "execution_count": null,
   "id": "5eb58472",
   "metadata": {},
   "outputs": [],
   "source": [
    "# rewrite your function\n",
    "import lab_5a_checker\n",
    "\n",
    "def naive_roots(a, b, c):\n",
    "    # fill in the formula here\n",
    "    return sorted([x1, x2])\n",
    "\n",
    "lab_5a_checker.check_improved_naive_roots(naive_roots)"
   ]
  },
  {
   "cell_type": "markdown",
   "id": "67a8490e-2acc-4786-84de-859a481e8549",
   "metadata": {},
   "source": [
    "__Part 5__ (5 pts)\n",
    "\n",
    "Figure out a similar formula which works when `b` is always positive. Use both formulas to write a function to compute the roots which is always accurate, and does not suffer from catastrophic cancellation.\n",
    "\n",
    "<h3 style=\"background-color:lightblue\"> Write Answers for Exercise 4 Part 5 Below </h3>"
   ]
  },
  {
   "cell_type": "code",
   "execution_count": null,
   "id": "c723a87f",
   "metadata": {},
   "outputs": [],
   "source": [
    "# write a better root finding function\n",
    "import lab_5a_checker\n",
    "\n",
    "def naive_roots(a, b, c):\n",
    "    # fill in the formula here\n",
    "    return sorted([x1, x2])\n",
    "\n",
    "lab_5a_checker.check_improved_naive_roots(naive_roots)"
   ]
  },
  {
   "cell_type": "markdown",
   "id": "360c4669-6262-4402-8a48-a477218a77c1",
   "metadata": {},
   "source": [
    "__Part 6__ (5 pts)\n",
    "\n",
    "Finish off your function by adding a special case for if `c` is exactly zero (don't want to divide by zero, after all!). We have provided a test you can use to check your work.\n",
    "\n",
    "<h3 style=\"background-color:lightblue\"> Write Answers for Exercise 4 Part 6 Below </h3>"
   ]
  },
  {
   "cell_type": "code",
   "execution_count": null,
   "id": "9da4fb30",
   "metadata": {},
   "outputs": [],
   "source": [
    "# add special cases for a and c\n",
    "def roots(a, b, c):\n",
    "    # fill in the formula here\n",
    "    return sorted([x1, x2])\n",
    "\n",
    "lab_5a_checker.check_roots(roots)"
   ]
  },
  {
   "cell_type": "markdown",
   "id": "92c175a1-19b2-464f-816d-df7ea97e0783",
   "metadata": {},
   "source": [
    "This example shows how catastrophic cancellation can occur even in friendly, well-known functions. This also shows that we can usually deal with it, by doing some clever algebra. This is such a common issue that there are now tools available to identify and fix catastrophic cancellation. If you are curious, check out [Herbie](http://herbie.uwplse.org/), which a friend of mine helped to create."
   ]
  },
  {
   "cell_type": "markdown",
   "id": "27fd4456-3733-4477-8e54-2557ad556510",
   "metadata": {},
   "source": [
    "## <span style=\"color:orange;\"> 4. Numerical Differentiation </span> "
   ]
  },
  {
   "cell_type": "markdown",
   "id": "aa10add3-ace5-46d0-bcce-7aa50bfd0b65",
   "metadata": {},
   "source": [
    "Now you are prepared to see the major problem we are up against when trying to compute derivatives using floating-point arithmetic. Remember that by definition, the derivative of a function $f(x)$ is\n",
    "\n",
    "$$\n",
    "f'(x) = \\lim_{h\\to 0} \\frac{f(x+h)-f(x)}{h}\n",
    "$$\n",
    "\n",
    "This suggests a simple way to compute a derivative: pick a really small number $h$, and compute $\\frac{f(x+h)-f(x)}{h}$. Since $h$ is just a small but finite number, this is called the *finite difference method*.\n",
    "\n",
    "### <span style=\"color:red;\"> Exercise 5 </span> (10 pts)\n",
    "\n",
    "Let's see what happens when we apply this procedure blindly. We will apply this formula for $f(x)=x^2$ at the point $x=4$. The correct derivative should be 8. We will compute the relative error in using the finite difference method, for various values of $h$. It is easy to get a good spread of values for $h$, in a geometric sequence:"
   ]
  },
  {
   "cell_type": "code",
   "execution_count": null,
   "id": "950de6a4-6432-46d6-911a-01c2001471d5",
   "metadata": {},
   "outputs": [],
   "source": [
    "h = np.geomspace(1e-15, 1, 200)"
   ]
  },
  {
   "cell_type": "markdown",
   "id": "40da2fdc-56e0-4757-a7a3-9c92124d7991",
   "metadata": {},
   "source": [
    "__Part 1__ (5 pts)\n",
    "\n",
    "Make an array giving approximations to $f'(4)$ for each value of `h`, using the finite difference method. Then, compute the relative error in this approximation using the relative error formula. Tools to check your work are available. You must use arrays and broadcasting to get full credit here.\n",
    "\n",
    "<h3 style=\"background-color:lightblue;\"> Write Answers for Exercise 5 Part 1 Below </h3>"
   ]
  },
  {
   "cell_type": "code",
   "execution_count": null,
   "id": "fd48b9b6-f1b5-4a33-8361-cbca7d6402fc",
   "metadata": {},
   "outputs": [],
   "source": [
    "approximation = \n",
    "relative_error = \n",
    "lab_5a_checker.check_finite_difference(approximation, relative_error)"
   ]
  },
  {
   "cell_type": "markdown",
   "id": "f12e8385-6f92-45e6-956c-0a624070146b",
   "metadata": {},
   "source": [
    "__Part 2__ (5 pts)\n",
    "\n",
    "Now that we have computed the relative error, let's inspect it in a plot. We will use a logarithmic scale for the x and y axes, which will help us to compare very different values. Since we are taking a logarithm, we must look at the absolute value of the relative error."
   ]
  },
  {
   "cell_type": "code",
   "execution_count": null,
   "id": "b0a3bca1-5a58-4d3e-82d0-6a3101216710",
   "metadata": {},
   "outputs": [],
   "source": [
    "import matplotlib.pyplot as plt\n",
    "plt.loglog(h, [abs(err) for err in relative_error])\n",
    "plt.xlabel('step size $h$')\n",
    "plt.ylabel('relative error in computing the finite difference')\n",
    "plt.show()"
   ]
  },
  {
   "cell_type": "markdown",
   "id": "d893f5ad-10d3-4584-9c81-5dfde0f6349d",
   "metadata": {},
   "source": [
    "In light of what you have learned today about catastrophic cancellation, explain the shape of the curve you get. Explain why it is not a good idea to just make $h$ as small as possible. What is the smallest relative error we can achieve using this method?\n",
    "\n",
    "<h3 style=\"background-color:lightblue;\"> Write Answers for Exercise 5 Part 2 Below </h3>"
   ]
  },
  {
   "cell_type": "markdown",
   "id": "b837d2f8-daa1-46f1-90fa-76de71e031f9",
   "metadata": {},
   "source": []
  },
  {
   "cell_type": "markdown",
   "id": "700f7c63-ea84-45f9-aba0-9140bf68012d",
   "metadata": {},
   "source": [
    "## <span style=\"color:orange;\"> 5. Finite Difference Schemes </span> "
   ]
  },
  {
   "cell_type": "markdown",
   "id": "53e7f4ac-00c4-4fc4-b61f-eacfb67b79cb",
   "metadata": {},
   "source": [
    "This shows the basic struggle of computing numerical derivatives: the definition of the derivative requires `h` to be infinitely small, but we can't practically make it that small. This isn't just because of catastrophic cancellation, by the way -- often when working with real data you are limited in how fast you can collect it. Hence, our goal will be to find ways to get more accurate estimates of the derivative without just making the step size $h$ tiny. We will consider $h$ to be fixed, and try to get our estimate as good as possible.\n",
    "\n",
    "### Bias in the forward difference\n",
    "\n",
    "Let's examine the finite difference method, applied to the function $f(x) = x^3$ at $x=2$. For ease of illustration, let's choose $h=0.5$. Our estimate of $f'(2)$ is\n",
    "\n",
    "$$\n",
    "f'(2)\\approx \\frac{(2+0.5)^3-2^3}{0.5}.\n",
    "$$\n",
    "\n",
    "Is this an over-estimate or an under-estimate? Let's draw a picture to help us see.\n",
    "\n",
    "### <span style=\"color:red;\"> Exercise 6 </span> (2.5 pts)\n",
    "\n",
    "**Part 1** (2.5 pts)\n",
    "\n",
    "Find an equation for the tangent line to $y=f(x)$ at $x=2$. \n",
    "\n",
    "**Part 2** (2.5 pts)\n",
    "\n",
    "Find an equation for the secant line intersecting $y=f(x)$ at $x=2$ and $x=2.5$.\n",
    "\n",
    "<h3 style=\"background-color:lightblue;\"> Write Answers for Exercise 6 Below </h3>"
   ]
  },
  {
   "cell_type": "markdown",
   "id": "5f42a0f0-b5a8-42a3-bbd8-4762b6710f8d",
   "metadata": {},
   "source": []
  },
  {
   "cell_type": "markdown",
   "id": "62941607-94f5-40a6-88e0-c630eb110fc0",
   "metadata": {},
   "source": [
    "Fill in the formulas you found for the secant and tangent lines below."
   ]
  },
  {
   "cell_type": "code",
   "execution_count": null,
   "id": "a87459c6-4362-4f14-9539-8ef21461c025",
   "metadata": {},
   "outputs": [],
   "source": [
    "x = np.linspace(1,3)\n",
    "cube = x**3\n",
    "tangent = #fill in here\n",
    "secant = #fill in here\n",
    "plt.plot(x, cube, label=\"$x^3$\")\n",
    "plt.plot(x, tangent, '--', label=\"tangent\")\n",
    "plt.plot(x, secant, '--', label=\"secant\")\n",
    "plt.ylim(0,27)\n",
    "plt.xlim(1, 3)\n",
    "plt.legend()\n",
    "plt.show()"
   ]
  },
  {
   "cell_type": "markdown",
   "id": "89d7e167-6322-4702-898a-312e76e2eb04",
   "metadata": {},
   "source": [
    "That shows it visually: the slope of the secant line is bigger than the slope of the tangent line. We can see it algebraically too:\n",
    "\\begin{align*}\n",
    "\\frac{(2+0.5)^3-2^3}{0.5}\n",
    "&=\\frac{12(0.5)+6(0.5)^2+(0.5)^3}{0.5}\\\\\n",
    "&=12+6(0.5)+(0.5)^2\n",
    "\\end{align*}\n",
    "The correct derivative is 12, and the other terms (most of all the term $6(0.5)$) are making it too big.\n",
    "\n",
    "When we choose $h$ to be a positive number, we call that a *forward difference*. What if we try making $h$ negative, doing a so-called *backward difference*? Try that now.\n",
    "\n",
    "### <span style=\"color:red;\"> Exercise 7 </span> (5 pts)\n",
    "\n",
    "**Part 1** (2.5 pts)\n",
    "\n",
    "Create a similar plot to show what happens if $h=-0.5$. \n",
    "\n",
    "**Part 2** (2.5 pts)\n",
    "\n",
    "Is the slope of the secant line too big, or too small, in this case? Support your claim using your figure. How is this related to the curvature of the function $f(x)=x^3$?\n",
    "\n",
    "<h3 style=\"background-color:lightblue;\"> Write Answers for Exercise 7 Part 1 Below </h3>"
   ]
  },
  {
   "cell_type": "code",
   "execution_count": null,
   "id": "2d1aec8d",
   "metadata": {},
   "outputs": [],
   "source": [
    "x = np.linspace(1,3)\n",
    "cube = x**3\n",
    "tangent = #fill in here\n",
    "secant = #fill in here\n",
    "plt.plot(x, cube, label=\"$x^3$\")\n",
    "plt.plot(x, tangent, '--', label=\"tangent\")\n",
    "plt.plot(x, secant, '--', label=\"secant\")\n",
    "plt.ylim(0,27)\n",
    "plt.xlim(1, 3)\n",
    "plt.legend()\n",
    "plt.show()"
   ]
  },
  {
   "cell_type": "markdown",
   "id": "35f80df1-d9ec-400a-bb86-7ce8f92e9f38",
   "metadata": {},
   "source": [
    "<h3 style=\"background-color:lightblue;\"> Write Answers for Exercise 7 Part 2 Below </h3>"
   ]
  },
  {
   "cell_type": "markdown",
   "id": "40f78d39-fff1-41de-a8b6-f63b71db0161",
   "metadata": {},
   "source": []
  },
  {
   "cell_type": "markdown",
   "id": "71f7ad2e-9092-469e-af20-e6d1439a5aab",
   "metadata": {},
   "source": [
    "### Correcting the bias\n",
    "\n",
    "As you have noticed, the forward difference gave us an over-estimate while the backward difference gave an under-estimate. This gives us a clear way to do better: we could average these answers out, which would give us a (hopefully) unbiased answer. Algebraically, this would look something like this:\n",
    "\n",
    "\\begin{align*}\n",
    "\\frac{1}{2}\\left[ \\frac{f(x+h) - f(x)}{h} + \\frac{f(x-h)-f(x)}{-h} \\right]\n",
    "&= \\frac{f(x+h)-f(x)-f(x-h) + f(x)}{2h}\\\\\n",
    "&= \\frac{f(x+h)-f(x-h)}{2h}\n",
    "\\end{align*}"
   ]
  },
  {
   "cell_type": "markdown",
   "id": "88917315-5fd0-45bc-8173-5c5bca02080a",
   "metadata": {},
   "source": [
    "This is the *symmetric difference* scheme. You can think of it as a secant line which doesn't go through a given point, but rather goes through its neighbors."
   ]
  },
  {
   "cell_type": "code",
   "execution_count": null,
   "id": "1366eea1-bfa0-4ef5-97c3-60a11b7c1caf",
   "metadata": {},
   "outputs": [],
   "source": [
    "x = np.linspace(1,3)\n",
    "cube = x**3\n",
    "tangent = 12*(x-2)+8\n",
    "secant = (2.5**3-1.5**3)*(x-1.5)+1.5**3\n",
    "plt.plot(x, cube, label=\"$x^3$\")\n",
    "plt.plot(x, tangent, '--', label=\"tangent\")\n",
    "plt.plot(x, secant, '--', label=\"secant\")\n",
    "plt.ylim(0,27)\n",
    "plt.xlim(1, 3)\n",
    "plt.legend()\n",
    "plt.show()"
   ]
  },
  {
   "cell_type": "markdown",
   "id": "970a113f-382c-4225-89f2-228306247c19",
   "metadata": {},
   "source": [
    "No obvious bias! We can still work out algebraically that it's not exact:\n",
    "\\begin{align*}\n",
    "\\frac{(2+0.5)^3 - (2-0.5)^3}{2*(0.5)} = 12.25\n",
    "\\end{align*}\n",
    "This is still a slight overestimate. However, it's clearly way better for any given step size $h$. The error gets small really fast, too: if we instead had $h=10^{-9}$, the error would be just $(10^{-9})^2 = 10^{-18}$, which is smaller than the floating-point error. Symmetric difference is better than forward difference!\n",
    "\n",
    "### <span style=\"color:red;\"> Exercise 8 </span> (5 pts)\n",
    "\n",
    "Work out the symmetric difference exactly on paper for the function $f(x)=5x^2+3x-7$, for a variable step size $h$, at the point $x=2$. Find the relative error algebraically, and comment on it.\n",
    "\n",
    "<h3 style=\"background-color:lightblue;\"> Write Answers for Exercise 8 Below </h3>"
   ]
  },
  {
   "cell_type": "markdown",
   "id": "e6f888f4",
   "metadata": {},
   "source": []
  },
  {
   "cell_type": "markdown",
   "id": "03ee89b1-602c-47cf-b0df-f00ee3591c31",
   "metadata": {},
   "source": [
    "## <span style=\"color:orange;\"> 6. Unequal Step Sizes </span> "
   ]
  },
  {
   "cell_type": "markdown",
   "id": "a5aa8e78-5dbf-40ba-be8f-d6638881e0d6",
   "metadata": {},
   "source": [
    "In Exercise 8 you should have found that the symmetric difference scheme gave exactly the right answer. This is not just a coincidence. Whenever your function is a quadratic polynomial, the symmetric finite difference scheme gives exactly the correct answer. A scheme with this property is called **second-order accurate**.\n",
    "\n",
    "The symmetric finite difference scheme is a very powerful way to estimate derivatives. It's a second-order accurate scheme, and it only uses two points to estimate the derivative. Unfortunately, it only works when the step sizes are equal, that is, when the samples are evenly spaced. Frequently we are not so lucky as to have evenly spaced samples. Data often arrive whenever they are available, and we have to deal with that. Fortunately, we can still get a second-order accurate scheme, even if the step sizes are unequal. In this section, we will develop a second-order accurate scheme to estimate the derivative of a function at a point $x=b$ using nearby points $x=a$ to the left and $x=c$ to the right, so $a<b<c$. That is, we will find numbers $\\alpha$, $\\beta$, and $\\gamma$ such that\n",
    "\n",
    "$$\n",
    "f'(b) = \\alpha f(a) + \\beta f(b) + \\gamma f(c) \\tag{$*$}\n",
    "$$\n",
    "\n",
    "whenever $f(x)$ is a quadratic polynomial. These numbers should depend on $a$, $b$, and $c$, but they shouldn't depend on $f$. There are many ways we could figure out the formulas for $\\alpha$, $\\beta$, and $\\gamma$. Next we will walk you through one of the simplest ways.\n",
    "\n",
    "## A quick way to figure out $\\alpha$, $\\beta$, and $\\gamma$.\n",
    "\n",
    "We know that $\\alpha$, $\\beta$, and $\\gamma$ will not depend on $f$. For some values of $f$, the values of $\\alpha$, $\\beta$, and $\\gamma$ will be obvious. For example, let's say we choose $f(x)=(x-b)(x-c)$. We can just evaluate each term in ($*$) directly.\n",
    "\n",
    "\n",
    "\\begin{align*}\n",
    "f'(x) &= 2x-b-c\\\\\n",
    "f'(b) &= b-c\\\\\n",
    "f(a) &= (a-b)(a-c)\\\\\n",
    "f(b) &= (b-b)(b-c)=0\\\\\n",
    "f(c) &= (c-b)(c-c)=0\n",
    "\\end{align*}\n",
    "\n",
    "By substituting these values, equation ($*$) becomes \n",
    "\n",
    "\\begin{align*}\n",
    "b-c &= \\alpha (a-b)(a-c)\\\\\n",
    "\\alpha &= \\frac{b-c}{(a-b)(a-c)}\\\\\n",
    "&= \\frac{1}{c-a}-\\frac{1}{b-a}\n",
    "\\end{align*}\n",
    "\n",
    "\n",
    "\n",
    "By choosing $f$ carefully, we were able to get the value of $\\alpha$ directly. The trick was to choose $f$ so that the terms $f(a)$ and $f(c)$ worked out to be zero.\n",
    "\n",
    "We will work out how to find $\\alpha$ together as another example. Then, you will be asked to choose $f$ to give you $\\gamma$. Since I want $f(a)=0$ and $f(c)=0$, I will choose $f(x)=(x-a)(x-c)$. This quadratic has zeros at $x=a$ and $x=c$, which is just what I want. Then I can fill out the values as before.\n",
    "\n",
    "\\begin{align*}\n",
    "f'(x) &= 2x-a-c\\\\\n",
    "f'(b) &= 2b-a-c\\\\\n",
    "f(a) &= (a-a)(a-c)=0\\\\\n",
    "f(b) &= (b-a)(b-c)\\\\\n",
    "f(c) &= (c-a)(c-c)=0\n",
    "\\end{align*}\n",
    "\n",
    "By substituting these values, equation ($*$) becomes \n",
    "\n",
    "\\begin{align*}\n",
    "2b-a-c &= \\beta(b-a)(b-c)\\\\\n",
    "\\beta &= \\frac{2b-a-c}{(b-a)(b-c)}\\\\\n",
    "&= \\frac{1}{b-a}-\\frac{1}{c-b}\n",
    "\\end{align*}\n"
   ]
  },
  {
   "cell_type": "markdown",
   "id": "5ced530b-d8d7-4cb4-a5d4-385c7073feec",
   "metadata": {},
   "source": [
    "### <span style=\"color:red;\"> Exercise 9 </span> (5 pts)\n",
    "\n",
    "Choose a symbolic quadratic polynomial $f(x)$ so that when you substitute $f(x)$ into ($*$), you find the value of $\\gamma$ using the method demonstrated above. For your choice of $f(x)$, copy the following table into your answer and fill it out.\n",
    "```latex\n",
    "\\begin{align*}\n",
    "f(x)  &=     \\\\\n",
    "f'(x) &=     \\\\\n",
    "f'(b) &=     \\\\\n",
    "f(a)  &=     \\\\\n",
    "f(b)  &=     \\\\\n",
    "f(c)  &= \n",
    "\\end{align*}\n",
    "```\n",
    "Then, substitute the values into ($*$) and write that equation in your answer as well. Solve the equation for $\\gamma$ in terms of $a$, $b$, and $c$. You should find that\n",
    "\\begin{align*}\n",
    "\\gamma = \\frac{1}{c-b}-\\frac{1}{c-a}.\n",
    "\\end{align*}\n",
    "\n",
    "<h3 style=\"background-color:lightblue;\"> Write Answers for Exercise 9 Below </h3>"
   ]
  },
  {
   "cell_type": "markdown",
   "id": "71daa15b",
   "metadata": {},
   "source": []
  },
  {
   "cell_type": "markdown",
   "id": "c811f1b1",
   "metadata": {},
   "source": [
    "### <span style=\"color:red;\"> Exercise 10 </span> (5 pts)\n",
    "\n",
    "Substitute $f(x)=1$ in ($*$). What relationship do you find between $\\alpha$, $\\beta$, and $\\gamma$? Substitute the formulas we found for $\\alpha$, $\\beta$, and $\\gamma$ into that expression to verify that our answers are correct.\n",
    "\n",
    "<h3 style=\"background-color:lightblue;\"> Write Answers for Exercise 10 Below </h3>"
   ]
  },
  {
   "cell_type": "markdown",
   "id": "b1ed384d",
   "metadata": {},
   "source": []
  },
  {
   "cell_type": "markdown",
   "id": "d100ea1d-8fb2-4cfa-8932-d526d283207c",
   "metadata": {},
   "source": [
    "## The symmetric finite difference method with unequal step sizes\n",
    "\n",
    "Suppose we have three x-values $a$, $b$, and $c$ with $a<b<c$. Suppose further that we have measured $f(a)$, $f(b)$, and $f(c)$. We now have a good way to approximate the derivative of $f$ at $b$. We compute\n",
    "\\begin{align*}\n",
    "\\alpha &=\\frac{1}{c-a}-\\frac{1}{b-a}\\\\\n",
    "\\beta  &=\\frac{1}{b-a}-\\frac{1}{c-b}\\\\\n",
    "\\gamma &=\\frac{1}{c-b}-\\frac{1}{c-a}\\\\\n",
    "f'(b) &\\approx \\alpha f(a) +\\beta f(b) + \\gamma f(c)\n",
    "\\end{align*}\n",
    "\n",
    "The final exercise for today walks you through the process of creating a vectorized version of this formula, which computes the symmetric difference scheme for unequal step sizes in a way that is\n",
    "1. Efficient (very fast to perform)\n",
    "2. Easy to read (easy to see that it does what it should).\n",
    "\n",
    "### <span style=\"color:red;\"> Exercise 11 </span> (25 pts)\n",
    "\n",
    "Our function will take two arguments, `x` and `y`, each of which is an array. The idea is that $y$ will have the $f(x)$ values corresponding to each $x$ value. It will produce an array of the same shape which has the symmetric finite difference scheme applied to find the first derivative.\n",
    "\n",
    "When working out a procedure, it is a good idea to have an example at hand so you can follow through the steps. Let's pick some examples for $x$ and $y$."
   ]
  },
  {
   "cell_type": "code",
   "execution_count": null,
   "id": "a0c28ef5-e806-40f1-b37a-f6a35cb159b6",
   "metadata": {},
   "outputs": [],
   "source": [
    "x = np.array([1.0, 2, 5, 7, 8])\n",
    "y = np.array([50.0, 49, 42, 35, 34])\n",
    "plt.plot(x, y)\n",
    "plt.show()"
   ]
  },
  {
   "cell_type": "markdown",
   "id": "c93a49ed-e7ee-41cf-80d8-7a3da88dcad7",
   "metadata": {},
   "source": [
    "We can see that the derivative is steeply negative, leveling at the end. That gives us an idea of what we are looking for: our answer will be an array of negative numbers.\n",
    "\n",
    "In order to make the function we are writing more legible, we will use the same symbols that are in the derivation we did above. Since we want $f'(x)$ and our approximation gives us $f'(b)$, we can just choose $b=x$."
   ]
  },
  {
   "cell_type": "code",
   "execution_count": null,
   "id": "911301ea-b4eb-4093-bdd7-987ccb126d8c",
   "metadata": {},
   "outputs": [],
   "source": [
    "b = x"
   ]
  },
  {
   "cell_type": "markdown",
   "id": "43d78223-981a-4037-b062-bdff92ebb77b",
   "metadata": {},
   "source": [
    "We want $a$ to be the number to the left of $b$. So, let's build an array which has all the same numbers as $x$ but shifted one to the right. Since the leftmost $x$ has no neighbor to the left, we should instead say that value is missing using the special value `nan`. Here is a quick way to do that:"
   ]
  },
  {
   "cell_type": "code",
   "execution_count": null,
   "id": "61d468ba-08ba-4a9e-bdc5-ac79eee5698c",
   "metadata": {},
   "outputs": [],
   "source": [
    "a = np.full_like(x, np.nan)\n",
    "a[1:] = x[:-1]\n",
    "print(b)\n",
    "print(a)"
   ]
  },
  {
   "cell_type": "markdown",
   "id": "f5032acf-e0c6-4e82-b8ff-ecc6a761523f",
   "metadata": {},
   "source": [
    "Now we can see that where `b` has the value `7`, for example, `a` has the value `5` and `5` is the number to the left of `7`. Each column corresponds to the values of `a` and `b` at one place in our answer. \n",
    "\n",
    "Step by step, what we did here was to make an array the same shape as `x` but full of the special value `nan`. Then, we took the spots of `a` starting after the first one, and filled them with values from `x` stopping before the last value of `x`.\n",
    "\n",
    "We will do the same thing to write `c`, but shifting the values in the other direction."
   ]
  },
  {
   "cell_type": "code",
   "execution_count": null,
   "id": "d37b848c-ae43-46c8-9b27-cb8eca50a382",
   "metadata": {},
   "outputs": [],
   "source": [
    "c = np.full_like(x, np.nan)\n",
    "c[:-1] = x[1:]\n",
    "print(c)"
   ]
  },
  {
   "cell_type": "markdown",
   "id": "0c0b7d7b-f16b-423c-a4de-af5fa4fd29ae",
   "metadata": {},
   "source": [
    "Now that we have those variables set up, we can compute `alpha`, `beta`, and `gamma` without needing any loops. Numpy will automatically compute each column for us using broadcasting."
   ]
  },
  {
   "cell_type": "code",
   "execution_count": null,
   "id": "d39036b8-7d8b-40de-b2f2-f06d411b24d9",
   "metadata": {},
   "outputs": [],
   "source": [
    "alpha = 1/(c-a)-1/(b-a)\n",
    "beta = 1/(b-a)-1/(c-b)\n",
    "print(alpha)\n",
    "print(beta)"
   ]
  },
  {
   "cell_type": "markdown",
   "id": "713c148e-443b-409b-b46e-284bdbea5973",
   "metadata": {},
   "source": [
    "Numpy even automatically filled in the values at the ends with `nan`, because we don't have neighbors there to compute the symmetric difference.\n",
    "\n",
    "**Part 1** (5 pts)\n",
    "\n",
    "Compute `gamma` as well, using broadcasting.\n",
    "\n",
    "<h3 style=\"background-color:lightblue;\"> Write Answers for Exercise 11 Part 1 Below </h3>"
   ]
  },
  {
   "cell_type": "code",
   "execution_count": null,
   "id": "eff11315-95d3-4b99-9f0e-e9082b39d1e6",
   "metadata": {},
   "outputs": [],
   "source": []
  },
  {
   "cell_type": "markdown",
   "id": "1cf71d1e-9254-44db-8042-da5c47c3c60d",
   "metadata": {},
   "source": [
    "We also need the values of $f(a)$, $f(b)$, and $f(c)$. We will build those just like we built `a`, `b`, and `c`."
   ]
  },
  {
   "cell_type": "code",
   "execution_count": null,
   "id": "bd59a55b-9430-41ad-afcd-5b7f0c5bf2e3",
   "metadata": {},
   "outputs": [],
   "source": [
    "fa = np.full_like(y, np.nan)\n",
    "fa[1:] = y[:-1]\n",
    "\n",
    "fb = y"
   ]
  },
  {
   "cell_type": "markdown",
   "id": "d5690285-a7c3-455e-ae05-4442b4d08a37",
   "metadata": {},
   "source": [
    "**Part 2** (5 pts)\n",
    "\n",
    "Build an array `fc` which holds the values of $f(c)$.\n",
    "\n",
    "<h3 style=\"background-color:lightblue;\"> Write Answers for Exercise 11 Part 2 Below </h3>"
   ]
  },
  {
   "cell_type": "code",
   "execution_count": null,
   "id": "7185de40-2561-454b-acaf-2eaaa430069c",
   "metadata": {},
   "outputs": [],
   "source": []
  },
  {
   "cell_type": "markdown",
   "id": "d0f8a44e-9375-4c01-85bd-566c94035014",
   "metadata": {},
   "source": [
    "Now that we have all of our variables set up, computing the derivative is as simple as applying the formula ($*$) from above."
   ]
  },
  {
   "cell_type": "code",
   "execution_count": null,
   "id": "2f79a617-bd8f-4d17-bbc9-4a82e6fa6c42",
   "metadata": {},
   "outputs": [],
   "source": [
    "derivative = alpha*fa+beta*fb+gamma*fc\n",
    "print(derivative)"
   ]
  },
  {
   "cell_type": "markdown",
   "id": "4c8494b6-4ea0-4eac-9196-67b56395058c",
   "metadata": {},
   "source": [
    "What should we do about the missing values? Since we can't do a symmetric difference, the next best thing is a one-sided difference. Since there are just two of these, we can fill them out manually."
   ]
  },
  {
   "cell_type": "code",
   "execution_count": null,
   "id": "c39e993b-2e03-4c86-9c5a-f793c0cd5796",
   "metadata": {},
   "outputs": [],
   "source": [
    "derivative[0] = (y[1]-y[0])/(x[1]-x[0])\n",
    "print(derivative)"
   ]
  },
  {
   "cell_type": "markdown",
   "id": "6ec1a79c-4c8b-4f31-99d3-26574ff73e74",
   "metadata": {},
   "source": [
    "**Part 3** (5 pts)\n",
    "\n",
    "Set the last entry of `derivative` similarly. Use negative indices, so that you don't need to know how many elements are in the array.\n",
    "\n",
    "<h3 style=\"background-color:lightblue;\"> Write Answers for Exercise 11 Part 3 Below </h3>"
   ]
  },
  {
   "cell_type": "code",
   "execution_count": null,
   "id": "2dbb4831-f292-4603-a88c-eec1e61cca55",
   "metadata": {},
   "outputs": [],
   "source": []
  },
  {
   "cell_type": "markdown",
   "id": "8dae0624-adf7-40b4-b579-9575c83dd0d7",
   "metadata": {},
   "source": [
    "**Part 4** (5 pts)\n",
    "\n",
    "Write a function called `symmetric_difference` which computes the symmetric difference for unequal step sizes. You can do this by copying code line-by-line from above -- all the code we wrote should work just fine using an arbitrary `x` and `y`.\n",
    "\n",
    "<h3 style=\"background-color:lightblue;\"> Write Answers for Exercise 11 Part 4 Below </h3>"
   ]
  },
  {
   "cell_type": "code",
   "execution_count": null,
   "id": "fb683df1-f683-4d63-82bc-a3369365c287",
   "metadata": {},
   "outputs": [],
   "source": [
    "def symmetric_difference(x, y):\n",
    "    #write a function here!\n",
    "    \n",
    "    return derivative.tolist()\n",
    "\n",
    "lab_5a_checker.check_symmetric_difference(symmetric_difference)"
   ]
  },
  {
   "cell_type": "markdown",
   "id": "1e943053-100b-4bb4-bbb7-6847add522b6",
   "metadata": {},
   "source": [
    "**Part 5** (5 pts)\n",
    "\n",
    "In a language like Python (or Julia, or Matlab, for that matter) a so-called \"vectorized\" procedure goes way faster than looping through the variables, because you can pass all the difficult computation to highly-optimized code (in our case, the code which comes in the package `numpy`). The difference in speed is very small for arrays without very many entries, but when we start to have hundreds or thousands of entries in our arrays it makes a huge difference. That is one reason why people often prefer to write functions which treat the data as arrays, rather than looping through lists like you would do in other languages like C, Java, or Javascript.\n",
    "\n",
    "Another reason is that many people find the code easier to read, and easier to understand, if it is written in a vectorized way.\n",
    "\n",
    "Write a few sentences of your thoughts on the matter. Do you find the function `symmetric_difference` you wrote to be easier to read than if it were done with a loop? Which parts are harder to read, which parts easier? Give your honest opinion.\n",
    "\n",
    "<h3 style=\"background-color:lightblue;\"> Write Answers for Exercise 11 Part 4 Below </h3>"
   ]
  },
  {
   "cell_type": "markdown",
   "id": "a3fcb845-7e2b-4ad1-a97e-da47e2dfb6d5",
   "metadata": {},
   "source": []
  }
 ],
 "metadata": {
  "kernelspec": {
   "display_name": "Python 3 (ipykernel)",
   "language": "python",
   "name": "python3"
  },
  "language_info": {
   "codemirror_mode": {
    "name": "ipython",
    "version": 3
   },
   "file_extension": ".py",
   "mimetype": "text/x-python",
   "name": "python",
   "nbconvert_exporter": "python",
   "pygments_lexer": "ipython3",
   "version": "3.11.5"
  },
  "vscode": {
   "interpreter": {
    "hash": "076ea2df6a962f3ca9feed853ca00bbf4379b68c3a07478b3b9a2535b0488b8d"
   }
  }
 },
 "nbformat": 4,
 "nbformat_minor": 5
}
