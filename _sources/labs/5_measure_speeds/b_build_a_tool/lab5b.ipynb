{
 "cells": [
  {
   "cell_type": "markdown",
   "id": "65a3a32b-7764-419c-8a13-d5f492c52788",
   "metadata": {},
   "source": [
    "# Week 13: Build a Distance Measurement Distance Tool Using an Ultrasonic Sensor (Data Cleaning and Micropython)\n",
    "<font size=\"6\">  Laboratory 5b </font> <br>\n",
    "<font size=\"3\"> Last updated Nov 30, 2023</font>"
   ]
  },
  {
   "cell_type": "markdown",
   "id": "5ac8086e-4c83-4cfb-b2cd-6f66151359d7",
   "metadata": {},
   "source": [
    "## <span style=\"color:orange;\"> 00. Content </span> "
   ]
  },
  {
   "cell_type": "markdown",
   "id": "53db2324-1a3d-477b-9a84-35921ddceec1",
   "metadata": {},
   "source": [
    "<font size=\"5\">Mathematics</font>\n",
    "- Difference schemes versus interpolation\n",
    "\n",
    "<font size=\"5\">Programming Skills</font>\n",
    "- Data cleaning\n",
    "- The While loop\n",
    "- Boolean masks\n",
    "\n",
    "<font size=\"5\">Embedded Systems</font>\n",
    "- Microcontroller programming\n",
    "- Time-based signaling"
   ]
  },
  {
   "cell_type": "markdown",
   "id": "ad895c30-531d-43a8-90b3-034d69f41694",
   "metadata": {},
   "source": [
    "## <span style=\"color:orange;\"> 0. Required Hardware </span>"
   ]
  },
  {
   "cell_type": "markdown",
   "id": "166e8075-2106-4273-88d3-3f4a48f76996",
   "metadata": {},
   "source": [
    "- Microcontroller: Raspberry Pi Pico\n",
    "- Level Shifter\n",
    "- Distance Sensor (SR04)\n",
    "- Breadboard\n",
    "- USB Connector"
   ]
  },
  {
   "cell_type": "markdown",
   "id": "1bb80957-7e0f-482a-ab51-ace4281641aa",
   "metadata": {},
   "source": [
    "<h3 style=\"background-color:lightblue\"> Copy the file `student_info.py` into the folder you are working in, then run this cell to put your name and email into this document. </h3>"
   ]
  },
  {
   "cell_type": "code",
   "execution_count": null,
   "id": "cf04c92d-dce1-4c0a-b1a4-4db3145ff037",
   "metadata": {},
   "outputs": [],
   "source": [
    "from student_info import show_info\n",
    "show_info()"
   ]
  },
  {
   "cell_type": "markdown",
   "id": "07fa4cd0-ad2a-4857-82ec-f290e7c33f25",
   "metadata": {},
   "source": [
    "## <span style=\"color:orange;\"> 1. The Sensor </span> "
   ]
  },
  {
   "cell_type": "markdown",
   "id": "2a675049-b1f2-43c5-8c75-974c25766899",
   "metadata": {},
   "source": [
    "Today we will start out with an ultrasonic distance sensor, called the SR04. It has a simple interface using only two pins. It sends out a very high-frequency sound (at a much higher frequency than anyone can hear) and listens for an echo. We can use the time delay between when the \"chirp\" happens and when we hear the echo to figure out how far away something is.\n",
    "\n",
    "To use this sensor, you will need:\n",
    "1. A Raspberry Pi Pico\n",
    "2. A level shifter\n",
    "3. An SR04 distance sensor\n",
    "4. A breadboard\n",
    "5. At least a dozen jumper wires of several colors.\n",
    "6. A micro USB cable\n",
    "\n",
    "Start by gathering the parts!\n",
    "\n",
    "### Wire it up\n",
    "Insert the pico, level shifter, and SR04 into the bread board so that the jumper wires you have will reach between them. You will also want the micro USB port to be accessible, and you will need the SR04 to be pointed outward.\n",
    "\n",
    "Then, use jumper wires to make the following connections:\n",
    "\n",
    "**Pico**| **Level shifter**\n",
    "-|-\n",
    "GND | GND (low voltage side)\n",
    "GND | LV3\n",
    "GND | LV4\n",
    "3V3(OUT) | LV\n",
    "VBUS | HV\n",
    "(any GP pin) | LV1\n",
    "(any other GP pin) | LV2\n",
    "\n",
    "<br>\n",
    "\n",
    "**SR04** | **Level shifter**\n",
    "-|-\n",
    "GND (high voltage side) | GND\n",
    "VCC | HV\n",
    "TRIG | HV1\n",
    "ECHO | HV2\n",
    "\n",
    "The level shifter and SR04 are labeled with their pins. Remember that you can look up the names of the pins on the Raspberry Pi Pico by consulting its datasheet [here](https://datasheets.raspberrypi.com/pico/Pico-R3-A4-Pinout.pdf).\n",
    "\n",
    "**Before you plug the Raspberry Pi Pico into your computer** (which will supply power to your circuit), get your circuit checked by an instructor. If you have it wired incorrectly, you could damage the computer's USB port.\n",
    "\n",
    "### What is the level shifter doing?\n",
    "The Raspberry Pi Pico runs all its circuits at 3.3 volts, while the SR04 runs at 5 volts. Luckily, we do have 5 volts available for it (the USB standard includes a 5 volt pin) so we can drive the ultrasonic sensor as long as the Pico is connected to a computer. The level shifter is in charge of translating between the voltage levels, which is why it has a low voltage side connected to 3V3, and a high voltage side connected to VBUS (which refers to the USB cable). We only need to do level shifting to two pins, and it is good practice to connect pins you are not using to ground.\n",
    "\n",
    "### The software\n",
    "Once you have it wired up, run the cell below to download some files you will need today, one of which will be [ultrasonic.py](https://github.com/TheDataScienceLabs/DSLab_Calculus/blob/main/book/labs/5_measure_speeds/b_build_a_tool/ultrasonic.py), go ahead and open it up in Thonny. "
   ]
  },
  {
   "cell_type": "code",
   "execution_count": null,
   "id": "5582b504-f663-4a32-a296-2438c636ab83",
   "metadata": {
    "deletable": false,
    "editable": false
   },
   "outputs": [],
   "source": [
    "%%sh\n",
    "wget -q -N https://raw.githubusercontent.com/TheDataScienceLabs/DSLab_Calculus/main/book/labs/5_measure_speeds/b_build_a_tool/example%20data%20cleaning.txt\n",
    "wget -q -N https://raw.githubusercontent.com/TheDataScienceLabs/DSLab_Calculus/main/book/labs/5_measure_speeds/b_build_a_tool/ultrasonic.py"
   ]
  },
  {
   "cell_type": "markdown",
   "id": "53e83537-676d-4e2b-85db-177f1ead1beb",
   "metadata": {},
   "source": [
    "There are a few things I would like to point out to you in that file.\n",
    "1. We use a `while` loop. A while loop is just like a `for` loop, repeating everything in the body of the loop. Instead of taking values from a list or a range, it just keeps going until its argument is `False`. By saying `while True`, we are telling it to do everything in the body of the loop, over and over, forever (or until we stop it manually). In order to stop this script, you will need to hit the \"Stop\" button in Thonny.\n",
    "2. The Raspberry Pi Pico runs a different version of Python called Micropython. Micropython is designed specifically for microcontrollers. It does not have many of the modules you are used to, like `numpy`, since the Pico does not have enough memory or processing power to make good use of them. Instead, it has libraries for interfacing with hardware, like the `machine` library we will use to control the pins on the Pico. Also, the `time` library in Micropython supports millisecond and microsecond `sleep` functions, which can count out much more precise units of time than you can in normal Python.\n",
    "3. Near the start we define two variables `trig` and `echo`. Each of those takes an integer, which refers to the pin you are using to connect with the SR04. Change the script so that `trig` corresponds to the GP port where you connected LV1, and `echo` with the GP port where you connected LV2. **Note:** the pins are numbered in python according to the green number on the datasheet. For example, the pin numbered in grey on the datasheet as `11` says `GP8` on it, so we would refer to that in Python as pin 8.\n",
    "\n",
    "As we work through this lab, you will learn what each part of this code does. Before we get into it, go ahead and run the script and see for yourself what it is doing. Move something in front of the sensor, see if you can make the numbers change."
   ]
  },
  {
   "cell_type": "markdown",
   "id": "18563884-32b4-4dab-8c74-f16198e2a516",
   "metadata": {},
   "source": [
    "Now that you have a feel for what this script does, let's bring some of the data in here. Make a new file called `initial_measurement.txt` and save it in your lab 5 directory. Copy and paste the output from Thonny into that file and save it."
   ]
  },
  {
   "cell_type": "code",
   "execution_count": null,
   "id": "b084a578-7649-4f0e-bb35-6c44601eb852",
   "metadata": {},
   "outputs": [],
   "source": [
    "import numpy as np\n",
    "import matplotlib.pyplot as plt"
   ]
  },
  {
   "cell_type": "code",
   "execution_count": null,
   "id": "b2ca3335-c697-456a-b3de-98be0352b47d",
   "metadata": {},
   "outputs": [],
   "source": [
    "measurement = np.loadtxt('initial_measurement.txt', dtype=int)\n",
    "measurement"
   ]
  },
  {
   "cell_type": "markdown",
   "id": "b1a2abef-2ca1-45bf-ba19-b9a6718b1b4b",
   "metadata": {},
   "source": [
    "Here we have loaded the file using `numpy`. It loaded it as a 2-dimensional array, with rows and columns. We can ask it what shape the measurement is (how many rows, and how many columns):"
   ]
  },
  {
   "cell_type": "code",
   "execution_count": null,
   "id": "a3dc9006-d79a-4484-ab57-71cd7f287a8e",
   "metadata": {},
   "outputs": [],
   "source": [
    "measurement.shape"
   ]
  },
  {
   "cell_type": "markdown",
   "id": "59c54dde-e29d-4eb6-b343-2b2aac1cd014",
   "metadata": {},
   "source": [
    "We see that it has read two columns. The first column has the time (in milliseconds) when each measurement was taken, after the script started. The second column tells us how long it was (in microseconds) between the chirp and the echo.\n",
    "\n",
    "Let's pull these apart using multidimensional slicing. This is just like normal slicing, but we can give more than one argument to the slice."
   ]
  },
  {
   "cell_type": "code",
   "execution_count": null,
   "id": "e43bc757-e257-4e29-921e-b9535ea753aa",
   "metadata": {},
   "outputs": [],
   "source": [
    "timestamp = measurement[:, 0]"
   ]
  },
  {
   "cell_type": "markdown",
   "id": "a50d9192-fb5c-4149-9fbf-3e88530901d2",
   "metadata": {},
   "source": [
    "Here we are saying \"give me every row, and the first column. Assign that to the variable `timestamp`.\" You do a slice to get the second column."
   ]
  },
  {
   "cell_type": "code",
   "execution_count": null,
   "id": "bcdc17f2-9acb-4e53-b0b6-9535e5d565c6",
   "metadata": {},
   "outputs": [],
   "source": [
    "echo = # fill in here"
   ]
  },
  {
   "cell_type": "markdown",
   "id": "8ac493b7-8643-4713-8fca-39621d03f461",
   "metadata": {},
   "source": [
    "The echo tell us the time, in microseconds, between the chirp and the echo.\n",
    "\n",
    "### <span style=\"color:red;\"> Exercise 1 </span> (5 pts)\n",
    "\n",
    "Look up the speed of sound, and say where you found it. Use it to compute distance from the echo time. Remember that the sound waves have to go out, bounce off an object, and return in order to be heard -- so you will need to divide by two to compensate for this. Pick reasonable units for the range of distances we are working with.\n",
    "\n",
    "<h3 style=\"background-color:lightblue\"> Write Answers for Exercise 1 Below </h3>"
   ]
  },
  {
   "cell_type": "code",
   "execution_count": null,
   "id": "e64faadf-d22d-46c7-8601-a210982c2d66",
   "metadata": {},
   "outputs": [],
   "source": [
    "distance = # fill in here"
   ]
  },
  {
   "cell_type": "markdown",
   "id": "2be859ff-9b3b-47ce-aa42-bd9e3a9d512b",
   "metadata": {},
   "source": [
    "### <span style=\"color:red;\"> Exercise 2 </span> (5 pts)\n",
    "\n",
    "Make a plot showing the distance over time. Since there was a variable amount of time between measurements (the sensor starts after the previous echo stops, and the echos take a variable amount of time) you will have to use the time stamps to get the x-axis scaled correctly. To get full credit, include axis labels with the correct units.\n",
    "\n",
    "<h3 style=\"background-color:lightblue\"> Write Answers for Exercise 2 Below </h3>"
   ]
  },
  {
   "cell_type": "code",
   "execution_count": null,
   "id": "0cb48f13-70d6-4a3f-91ed-191b3f7f09f2",
   "metadata": {},
   "outputs": [],
   "source": []
  },
  {
   "cell_type": "markdown",
   "id": "e37eca9d-7bc4-48d8-a7f3-5bf4caeb788d",
   "metadata": {},
   "source": [
    "## <span style=\"color:orange;\"> 2. Improving the Sensor Code </span> "
   ]
  },
  {
   "cell_type": "markdown",
   "id": "3b1af363-4065-4521-92e2-a8361cfe42d6",
   "metadata": {},
   "source": [
    "You may have noticed that some of the measurements are absurdly large. This is because some times the sensor does not hear the echo, either because it was too distorted or the object was too far away. We can make our code much better. Let's look at the portions of the loop, bit by bit.\n",
    "\n",
    "```\n",
    "time.sleep_ms(100)\n",
    "led.on()\n",
    "```\n",
    "This portion is responsible for the delay between measurements. The data sheet for the SR04 says this has to be at least 60 milliseconds, to give time for the sensor to reset itself. Turning the LED on is just for aesthetics.\n",
    "```\n",
    "trig.on()\n",
    "time.sleep_us(10)\n",
    "trig.off()\n",
    "```\n",
    "This portion turns the trigger pin on for 10 microseconds. That's the signal for the SR04 to begin a measurement.\n",
    "```\n",
    "pulse = time_pulse_us(echo, 1, 1_000_000)\n",
    "```\n",
    "This is responsible for taking the measurement. Note that `us` is a common way of writing $\\mu s$, short for microseconds. Our measurements are in units of microseconds.\n",
    "```\n",
    "now = time.ticks_ms() - start\n",
    "print(now, pulse)\n",
    "led.off()\n",
    "```\n",
    "This portion gets the current time, and sends the measurement out to Thonny to print. `ms` stands for milliseconds; the time stamps are in units of milliseconds.\n",
    "\n",
    "It looks like if we want the sensor to give us better readings, we have to modify the `time_pulse_us` function call. \n",
    "\n",
    "\n",
    "### <span style=\"color:red;\"> Exercise 3 </span> (5 pts)\n",
    "\n",
    "Look in [the official documentation for Micropython](https://docs.micropython.org/en/latest/library/machine.html) to find what the parameters of `time_pulse_us` do. Pick a sensible choice for the parameter `timeout_us`. Make sure your choice is based on the measurement you have taken. What range of distances are you going to measure? What range of possible echo times does that correspond to? Explain your choice here, and modify `ultrasonic.py` to use your choice.\n",
    "\n",
    "<h3 style=\"background-color:lightblue\"> Write Answers for Exercise 3 Below </h3>"
   ]
  },
  {
   "cell_type": "markdown",
   "id": "f98813bd-61f9-4a52-9ca7-809d975f9902",
   "metadata": {},
   "source": []
  },
  {
   "cell_type": "markdown",
   "id": "034a774c-8658-44a1-af0c-ef30b3ced196",
   "metadata": {},
   "source": [
    "Now that we have chosen that parameter sensibly, the microcontroller will spend less time waiting for an echo which will never arrive, and more time giving us useful information.\n",
    "\n",
    "Make a measurement using your new version of `ultrasonic.py`, and save it as `second measurement.txt`. Load it here, into the same variables `timestamp` and `echo`."
   ]
  },
  {
   "cell_type": "code",
   "execution_count": null,
   "id": "27ce219b",
   "metadata": {},
   "outputs": [],
   "source": [
    "# load in the data from second_measurement.txt"
   ]
  },
  {
   "cell_type": "markdown",
   "id": "a61d7f76-42b8-464b-9e0b-f9c75aaaeaa1",
   "metadata": {},
   "source": [
    "## <span style=\"color:orange;\"> 3. Boolean Indexing </span> "
   ]
  },
  {
   "cell_type": "markdown",
   "id": "9ab289eb-e6f6-49d9-a937-694ad72dc1bd",
   "metadata": {},
   "source": [
    "As you learned from reading the documentation, `time_pulse_us` indicates failed readings with a negative number. We would like a way to easily remove those negative numbers from our array. We could have the microcontroller only send data if it is good (if `time_pulse_us` gave a positive number) but I don't like that solution for three reasons:\n",
    "1. It's more things for the microcontroller to be thinking about. I would prefer that the microcontroller be getting me a new reading, rather than working out logic for when to send or not-send.\n",
    "2. It may be useful for us to know what times the sensor failed to give a reading. Also, it is better that the microcontroller is still communicating with us whenever possible, so we can tell if something has gone wrong.\n",
    "3. In general, it's good to separate the steps of data collection from data analysis. By dropping the bad values here, we maintain a strict separation.\n",
    "\n",
    "The easiest way to drop drop the negative values from our list is using a tool called Boolean indexing. Here is how it works."
   ]
  },
  {
   "cell_type": "code",
   "execution_count": null,
   "id": "76356eb4-8cd4-4f5b-b1c5-653287e06315",
   "metadata": {},
   "outputs": [],
   "source": [
    "x = np.array([1,3,5,7,6,4,2])\n",
    "y = np.array([True, True, True, False, False, True, False])\n",
    "print(x[y])"
   ]
  },
  {
   "cell_type": "markdown",
   "id": "5c087f46-045b-4df6-9430-59085d004b23",
   "metadata": {},
   "source": [
    "We can see that by slicing `x` using an array of the same size, holding only `True` and `False` values, we get a new array with only some of the  values from `x`, specifically the ones corresponding to a `True` value in `y`.\n",
    "\n",
    "That would be a tedious way to do things, unless we had a good way to get an array of the same size as `x` full of `True` and `False` values. Luckily with broadcasting, this is also easy. Check it out:"
   ]
  },
  {
   "cell_type": "code",
   "execution_count": null,
   "id": "96347272-d62b-477c-9160-f3219616e4f0",
   "metadata": {},
   "outputs": [],
   "source": [
    "print(x > 4)\n",
    "print(x % 3 == 2)\n",
    "print(x == 5)"
   ]
  },
  {
   "cell_type": "markdown",
   "id": "bd926dc2-093c-457d-8154-171d75b9d6ad",
   "metadata": {},
   "source": [
    "When we do a comparison with `x`, it broadcasts across the array. We can even combine these, using `and`, and `or`, and `not` statements. There is one caveat: the usual Python symbols won't work, because what we mean might be ambiguous. In order to be explicit, we use the so-called \"bitwise\" versions of those statements. If you have used a language like C or Javascript, these will look familiar:\n",
    "\n",
    "normal Python operator | bitwise operator\n",
    "-|-\n",
    "`and` | `&`\n",
    "`or` | `\\|`\n",
    "`not` | `~`\n",
    "\n",
    "We can use them like this:"
   ]
  },
  {
   "cell_type": "code",
   "execution_count": null,
   "id": "146ddc17-36ce-460e-a21b-c77581a6f837",
   "metadata": {},
   "outputs": [],
   "source": [
    "(x%2 == 1) & (x>3)"
   ]
  },
  {
   "cell_type": "code",
   "execution_count": null,
   "id": "ba5df011-6046-492b-80c2-adfef1944bd8",
   "metadata": {},
   "outputs": [],
   "source": [
    "~(x == 2)"
   ]
  },
  {
   "cell_type": "code",
   "execution_count": null,
   "id": "45ab1f1f-0e5c-4d93-a157-7820e2e0569e",
   "metadata": {},
   "outputs": [],
   "source": [
    "(x>4) | (x==1)"
   ]
  },
  {
   "cell_type": "markdown",
   "id": "4439c1e0-b7b2-408e-beac-cabd63cd356a",
   "metadata": {},
   "source": [
    "Then, we can use these as an index for the array:"
   ]
  },
  {
   "cell_type": "code",
   "execution_count": null,
   "id": "f9645e1e-2a63-46b2-9ca4-4b873702f14a",
   "metadata": {},
   "outputs": [],
   "source": [
    "x[x>3]"
   ]
  },
  {
   "cell_type": "code",
   "execution_count": null,
   "id": "c8d75c1b-9639-4ea5-8290-59138d4a0a9e",
   "metadata": {},
   "outputs": [],
   "source": [
    "x[x%2 == 1]"
   ]
  },
  {
   "cell_type": "code",
   "execution_count": null,
   "id": "8e414bf6-1bdd-473b-a9bb-721b29c5ceb4",
   "metadata": {},
   "outputs": [],
   "source": [
    "x[(x>4)|(x==1)]"
   ]
  },
  {
   "cell_type": "markdown",
   "id": "54a2ac52-d250-4319-b649-019000df548c",
   "metadata": {},
   "source": [
    "That's a fast way to get only the elements we want, and it's compact and explicit."
   ]
  },
  {
   "cell_type": "markdown",
   "id": "06d9b2c8-c4b0-4b8a-b67e-18516e2f0344",
   "metadata": {},
   "source": [
    "### <span style=\"color:red;\"> Exercise 4 </span> (5 pts)\n",
    "\n",
    " Here is a naive way we might try to get only the positive measurements. Figure out why it does not work, and explain it. Find a better way."
   ]
  },
  {
   "cell_type": "code",
   "execution_count": null,
   "id": "188538ce-99e0-4c89-8fe8-ea52471fda57",
   "metadata": {},
   "outputs": [],
   "source": [
    "timestamp = measurement[:, 0]\n",
    "echo = measurement[:, 1]\n",
    "echo = echo[echo > 0]\n",
    "timestamp = timestamp[echo > 0]"
   ]
  },
  {
   "cell_type": "markdown",
   "id": "b081dd79",
   "metadata": {},
   "source": [
    "<h3 style=\"background-color:lightblue\"> Write Answers for Exercise 4 Below </h3>"
   ]
  },
  {
   "cell_type": "markdown",
   "id": "9feb2071",
   "metadata": {},
   "source": []
  },
  {
   "cell_type": "markdown",
   "id": "4b915ecf-8114-4331-ad26-b121c87d52bf",
   "metadata": {},
   "source": [
    "Make a new file called `derivative.py`. Copy and paste the function `symmetric_difference` (which you wrote last week) into that file. At the top of the file, write the line:\n",
    "```\n",
    "import numpy as np\n",
    "```\n",
    "That line is necessary so that Python knows you are using Numpy in the file. We will use this function to clean the data even further, and plot derivatives of our function. In order to demonstrate a strategy for cleaning data, I will show you using a signal I recorded. Then, you will be asked to repeat the process using your own data. I am ignoring the units for now -- you will be asked to figure them out below."
   ]
  },
  {
   "cell_type": "code",
   "execution_count": null,
   "id": "32a84b7a-9d7e-4136-a3e0-aae9593c5383",
   "metadata": {},
   "outputs": [],
   "source": [
    "measurement = np.loadtxt('example data cleaning.txt', dtype=int)\n",
    "timestamp = measurement[:, 0]\n",
    "echo = measurement[:, 1]\n",
    "good_readings = echo > 0\n",
    "timestamp = timestamp[good_readings]\n",
    "echo = echo[good_readings]\n",
    "plt.plot(timestamp, echo)\n",
    "plt.show()"
   ]
  },
  {
   "cell_type": "markdown",
   "id": "9fe9db17-6b66-4896-b3ed-53605d2862e6",
   "metadata": {},
   "source": [
    "You can see there are still some strange jumps happening in the data. We should be able to identify them as the points with a very high derivative -- or even better, a very small second derivative. Let's plot the derivative and second derivative using the function you wrote last time."
   ]
  },
  {
   "cell_type": "code",
   "execution_count": null,
   "id": "b5867fcd-c0bb-431d-8fb2-3ab023152ebb",
   "metadata": {},
   "outputs": [],
   "source": [
    "from derivative import symmetric_difference"
   ]
  },
  {
   "cell_type": "code",
   "execution_count": null,
   "id": "8697c157-23ec-4686-a757-27f73c99520b",
   "metadata": {},
   "outputs": [],
   "source": [
    "first_derivative = symmetric_difference(timestamp, echo)\n",
    "second_derivative = symmetric_difference(timestamp, first_derivative)\n",
    "plt.plot(timestamp, first_derivative)\n",
    "plt.show()\n",
    "plt.plot(timestamp, second_derivative)\n",
    "plt.show()"
   ]
  },
  {
   "cell_type": "markdown",
   "id": "85bf9fba-58a2-40c1-85a9-8a469134a1ff",
   "metadata": {},
   "source": [
    "We can see four big spikes in the second derivative, right where we saw those spikes in the original graph.\n",
    "\n",
    "### <span style=\"color:red;\"> Exercise 5 </span> (5 pts)\n",
    "\n",
    "Explain why a sharp vertical spike in the original function corresponds to a large but negative second derivative.\n",
    "\n",
    "<h3 style=\"background-color:lightblue\"> Write Answers for Exercise 5 Below </h3>"
   ]
  },
  {
   "cell_type": "markdown",
   "id": "1e51f219",
   "metadata": {},
   "source": []
  },
  {
   "cell_type": "markdown",
   "id": "7473b0ed-b15d-443f-81c0-5ab7ab31da69",
   "metadata": {},
   "source": [
    "We can use that to filter our measurement, and get a better graph of position and velocity. Notice that we need to recompute the derivative, since we used the neighbors of each point to compute the derivative."
   ]
  },
  {
   "cell_type": "code",
   "execution_count": null,
   "id": "e5244085-79a0-4a43-a1e4-b795b49eda83",
   "metadata": {},
   "outputs": [],
   "source": [
    "spikes = second_derivative < -0.02\n",
    "timestamp = timestamp[~spikes]\n",
    "echo = echo[~spikes]"
   ]
  },
  {
   "cell_type": "code",
   "execution_count": null,
   "id": "6d0483d0-ee40-4cca-bb68-8d76f0850887",
   "metadata": {},
   "outputs": [],
   "source": [
    "first_derivative = symmetric_difference(timestamp, echo)\n",
    "second_derivative = symmetric_difference(timestamp, first_derivative)\n",
    "for curve in [echo, first_derivative, second_derivative]:\n",
    "    plt.plot(timestamp, curve)\n",
    "    plt.show()"
   ]
  },
  {
   "cell_type": "markdown",
   "id": "9709c555-6b46-497b-b076-ab4509e7cad7",
   "metadata": {},
   "source": [
    "### <span style=\"color:red;\"> Exercise 6 </span> (5 pts)\n",
    "\n",
    "The time stamp is measured in milliseconds. In the example above I ignored the units for distance, but you can use the speed-of-sound formula you applied above to scale your distance values appropriately. Given the units you used for distance, what should the units for velocity be? What about acceleration? Explain your answer in at least two sentences.\n",
    "\n",
    "<h3 style=\"background-color:lightblue\"> Write Answers for Exercise 6 Below </h3>"
   ]
  },
  {
   "cell_type": "markdown",
   "id": "334ab28c",
   "metadata": {},
   "source": []
  },
  {
   "cell_type": "markdown",
   "id": "6612fd43-2857-47fb-a160-6f13ee79ea70",
   "metadata": {},
   "source": [
    "### <span style=\"color:red;\"> Exercise 7 </span> (10 pts)\n",
    "\n",
    "Repeat this procedure using your own measurement, first scaling the echo to give units of distance. If you have any \"spikes\" as I did, choose an appropriate cutoff for the second derivative to remove them. Produce plots of the function value, first derivative, and second derivative. Put axis labels on your plots including units\n",
    "\n",
    "<h3 style=\"background-color:lightblue\"> Write Answers for Exercise 7 Below </h3>"
   ]
  },
  {
   "cell_type": "code",
   "execution_count": null,
   "id": "4d7b6d51",
   "metadata": {},
   "outputs": [],
   "source": []
  },
  {
   "cell_type": "markdown",
   "id": "cad945c9-824a-455f-a5d4-30f607f62e0e",
   "metadata": {},
   "source": [
    "### <span style=\"color:red;\"> Exercise 8 </span> (10 pts)\n",
    "\n",
    "For each curve below, produce a plot of the same shape by moving an object in front of the ultrasonic distance sensor. You can change the scale by adjusting the x and y limits on your plot. Try and get it as close as you can, but don't spend too long on this -- as long as the shape is close, you will receive full credit.\n",
    "\n",
    "![part 1](https://github.com/TheDataScienceLabs/DSLab_Calculus/blob/main/book/labs/5_measure_speeds/b_build_a_tool/exercise_5b_0.png?raw=true)\n",
    "![part 2](https://github.com/TheDataScienceLabs/DSLab_Calculus/blob/main/book/labs/5_measure_speeds/b_build_a_tool/exercise_5b_1.png?raw=true)\n",
    "![part 3](https://github.com/TheDataScienceLabs/DSLab_Calculus/blob/main/book/labs/5_measure_speeds/b_build_a_tool/exercise_5b_2.png?raw=true)\n",
    "\n",
    "<h3 style=\"background-color:lightblue\"> Write Answers for Exercise 8 Below </h3>"
   ]
  },
  {
   "cell_type": "code",
   "execution_count": null,
   "id": "1d4d2400",
   "metadata": {},
   "outputs": [],
   "source": []
  },
  {
   "cell_type": "markdown",
   "id": "5c8c8878-832b-41a6-bfae-aa5ec0816006",
   "metadata": {},
   "source": [
    "### <span style=\"color:red;\"> Exercise 9 </span> (5 pts)\n",
    "\n",
    "Choose one of the curves from exercise 8. Move an object in front of the sensor to make the same curve, but using the plot of the derivative this time.\n",
    "\n",
    "<h3 style=\"background-color:lightblue\"> Write Answers for Exercise 9 Below </h3>"
   ]
  },
  {
   "cell_type": "code",
   "execution_count": null,
   "id": "7e759e87",
   "metadata": {},
   "outputs": [],
   "source": []
  },
  {
   "cell_type": "markdown",
   "id": "37fd0544-5167-432a-8841-94db501416e0",
   "metadata": {},
   "source": [
    "### <span style=\"color:red;\"> Exercise 10 </span> (10 pts)\n",
    "\n",
    "Load up a measurement you took using the heart rate monitor. Try your symmetric difference formula on it. Compare that to the result you got from taking the derivative of the interpolating polynomial. Which method do you think gave a better result? Explain your choice in 3-5 sentences.\n",
    "\n",
    "<h3 style=\"background-color:lightblue\"> Write Answers for Exercise 10 Below </h3>"
   ]
  },
  {
   "cell_type": "code",
   "execution_count": null,
   "id": "6794d9f1",
   "metadata": {},
   "outputs": [],
   "source": []
  },
  {
   "cell_type": "markdown",
   "id": "4abcb6f3-2c7c-4502-b197-1e48bcec99db",
   "metadata": {},
   "source": [
    "### <span style=\"color:red;\"> Exercise 11 </span> (Optional - 0 pts)\n",
    "\n",
    "Get one of the heart rate sensors. Working with a partner, figure out a procedure to answer each of these questions:\n",
    "\n",
    "1. If you jog up and down the hallway briefly, how does your pulse rate change?\n",
    "2. If you measure your systolic amplitude with your finger above your shoulders versus below your waist, can you detect a difference? How big is the difference? Is there anything else which may be affecting this?\n",
    "3. Is your ratio b/a different from your classmates'? Does this ratio change depending on your heart rate / posture / other variables?\n",
    "\n",
    "You will be graded on the following rubric:\n",
    "\n",
    "**Score**                | **7 pts** | **4 pts** | **1 pt**\n",
    "-------------------------|-----------|--------------|------------\n",
    "Choice of strategy       | The method chosen is well-suited to the question. | The method for answering at least one question has a major source of error which was not accounted for. | None of the strategies were well-suited to the question posed.\n",
    "Description of procedure | The procedure was explained thoroughly enough that another student in this class could easily replicate what you did. | I can tell what you did, but some parts were unclear. Or, it is not explained at the level where another student would be able to follow it. | It is not clear what steps you took or how you acquired your data.\n",
    "Explanation of theory    | The theory behind what you are doing is explained so that a calculus 2 student who has not taken this course would be able to understand your computations. | There is some explanation of the theory behind what you are doing, but it would be hard to follow for someone who is not currently taking this class. | The theory is described incorrectly.\n",
    "Presentation             | The results are shared using informative plots with clear labels. All figures have accompanying text indicating what they show. | The results are described well, but some of the figures are hard to interpret. | It is not clear what the answer to each question is.\n",
    "Good coding practice     | Code is organized into blocks for clarity. If something unusual is being done, there is a comment giving some context. Formatting is consistent. Functions are used where appropriate. | Code is clear enough, but has inconsistent formatting or excessive commenting. There are multiple places where a function would be appropriate to organize the code, but functions are not used. | It is unclear what the code is doing in several places. It is not clear that the code does what is intended. Formatting makes the code hard to read.\n",
    "\n",
    "You don't have to turn in all the code you use -- in particular, it would be a good idea to collect your data in a separate document. This document should have a clear description of what you did in other documents, though, and you should present your findings here. It's okay if you and your partner write the same thing for this exercise. You should work together. Be creative -- it's okay to share inconclusive results, as long as you describe in detail why your findings are inconclusive."
   ]
  },
  {
   "cell_type": "markdown",
   "id": "5b233b0a-c308-4139-8f13-791bcde546df",
   "metadata": {},
   "source": [
    "**Write the name of your lab partner here:**"
   ]
  },
  {
   "cell_type": "markdown",
   "id": "2fb4cf59-3f23-4130-8a97-800c7ff389b7",
   "metadata": {},
   "source": []
  },
  {
   "cell_type": "markdown",
   "id": "913d7b0a",
   "metadata": {},
   "source": [
    "<h3 style=\"background-color:lightblue\"> Write Answers for Exercise 11 Below </h3>"
   ]
  },
  {
   "cell_type": "markdown",
   "id": "65cb66c3",
   "metadata": {},
   "source": []
  }
 ],
 "metadata": {
  "kernelspec": {
   "display_name": "Python 3 (ipykernel)",
   "language": "python",
   "name": "python3"
  },
  "language_info": {
   "codemirror_mode": {
    "name": "ipython",
    "version": 3
   },
   "file_extension": ".py",
   "mimetype": "text/x-python",
   "name": "python",
   "nbconvert_exporter": "python",
   "pygments_lexer": "ipython3",
   "version": "3.11.5"
  },
  "toc-showcode": false
 },
 "nbformat": 4,
 "nbformat_minor": 5
}
