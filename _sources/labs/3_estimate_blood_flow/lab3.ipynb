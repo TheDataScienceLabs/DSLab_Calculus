{
 "cells": [
  {
   "cell_type": "markdown",
   "id": "11f1aaa5-256c-400c-b0bd-57d908b99ff5",
   "metadata": {},
   "source": [
    "# Week 4: Estimate Blood Flow from PPG Data\n",
    "<font size=\"6\"> Laboratory 3: Intro to Functions, Polynomial Fitting </font> <br>\n",
    "<font size=\"3\"> Last updated Sep 14, 2023 </font>"
   ]
  },
  {
   "cell_type": "markdown",
   "id": "84bf27cd-7242-47c1-abd0-1574721f07f0",
   "metadata": {},
   "source": [
    "## <span style=\"color:orange;\"> 00. Content </span>"
   ]
  },
  {
   "cell_type": "markdown",
   "id": "6728659d-2902-4955-b6a6-d6023b3f1f1b",
   "metadata": {},
   "source": [
    "<font size=\"5\"> Mathematics </font>\n",
    "- Empirical mean\n",
    "- Empirical standard deviation\n",
    "- Slope\n",
    "    \n",
    "<font size=\"5\"> Programming Skills </font>\n",
    "- Functions\n",
    "    \n",
    "<font size=\"5\"> Embedded Systems </font>\n",
    "- Thonny and Micropython"
   ]
  },
  {
   "cell_type": "markdown",
   "id": "2b9da201-d881-410b-af8d-9c50f644e04a",
   "metadata": {},
   "source": [
    "## <span style=\"color:orange;\"> 0. Required Hardware </span> "
   ]
  },
  {
   "cell_type": "markdown",
   "id": "8f78675d-739d-4926-bb5c-b8ae30b3ce63",
   "metadata": {},
   "source": [
    "- Microcontroller: Raspberry Pi Pico\n",
    "- Pulse sensor\n",
    "- Breadboard\n",
    "- USB connector\n",
    "- Capacitor"
   ]
  },
  {
   "cell_type": "markdown",
   "id": "4b19e425-0549-4aa6-9c2f-9e3e3f871899",
   "metadata": {},
   "source": [
    "## <span style=\"color:orange;\"> 1. Functions in Python </span> "
   ]
  },
  {
   "cell_type": "markdown",
   "id": "8b116c15-00aa-4eda-9f14-ebf58006af2b",
   "metadata": {},
   "source": [
    "<h3 style=\"background-color:lightblue\"> Write your name and email below: </h3>\n",
    "\n",
    "First Name, Last Name, email "
   ]
  },
  {
   "cell_type": "markdown",
   "id": "4c296d30-b956-4367-8467-ecee2ab02b6b",
   "metadata": {},
   "source": [
    "### The most useful way to organize code is the function\n",
    "\n",
    "Up to now, we have been relying on functions other people have written to achieve our goals. One of the most important roles of a computer programmer is writing good functions.\n",
    "\n",
    "For this lab, we are going to learn how to write functions. As a refresher, last lab we discussed how functions are groups of code that always run together. When you call a function, you execute the code that is associated within that function. Functions can take inputs, manipulate the inputs, and return an output. \n",
    "\n",
    "Why use functions? Functions help reduce repetitive code. Functions also make your code easier to read."
   ]
  },
  {
   "cell_type": "markdown",
   "id": "99447a84-3ff5-42a5-bdbe-322b86dedae6",
   "metadata": {},
   "source": [
    "We define/create a function by using the key word ```def```, the name of the function, parameters enclosed within ```()```, and ```:``` signifying the end of the header. A function also has the ability to return a value via the command ```return```.\n",
    "\n",
    "Here are two examples of a simple function that prints something."
   ]
  },
  {
   "cell_type": "code",
   "execution_count": null,
   "id": "fd2a3892-94c7-4028-9ea6-3c96c43928cd",
   "metadata": {},
   "outputs": [],
   "source": [
    "def name():  # Function Header\n",
    "    print(\"Data Science is cool!\")  # Function Body\n",
    "\n",
    "\n",
    "name()  # Function Call"
   ]
  },
  {
   "cell_type": "code",
   "execution_count": null,
   "id": "8b01f37c-07dc-4f6f-93a5-eebc7a9a01dd",
   "metadata": {},
   "outputs": [],
   "source": [
    "def add12():\n",
    "    a = 1\n",
    "    b = 2\n",
    "    c = a + b\n",
    "    print(\"1 + 2 = {}\".format(c))\n",
    "\n",
    "\n",
    "add12()"
   ]
  },
  {
   "cell_type": "code",
   "execution_count": null,
   "id": "333887ab-bce1-4491-98cc-c3c1f1fab187",
   "metadata": {},
   "outputs": [],
   "source": [
    "def add_int(a, b):\n",
    "    c = a + b\n",
    "    return c\n",
    "\n",
    "add_int(3, 100)"
   ]
  },
  {
   "cell_type": "markdown",
   "id": "431aa8c1-99cf-481c-8f25-a1ff03fe329c",
   "metadata": {},
   "source": [
    "You can also pass information into functions so that you can manipulate the parameters of the function within the function. Parameters are enclosed within the ```()``` part of the function header. You can pass as many parameters as you would like within the function header. The order of the parameters are significant and should match the order in the function's header."
   ]
  },
  {
   "cell_type": "code",
   "execution_count": null,
   "id": "db00615f-0ff3-4d1a-842f-8e6026c77605",
   "metadata": {},
   "outputs": [],
   "source": [
    "import numpy as np\n",
    "\n",
    "\n",
    "def subtract(a, b):  # Function Header passes in parameters a and b\n",
    "    c = a - b\n",
    "    print(\"a - b = {}\".format(c))\n",
    "\n",
    "\n",
    "subtract(2, 1)  # Function call passes 2 as 'a' and 1 as 'b', 2 - 1 = 1\n",
    "subtract(25, 4)  # 25 - 4 = 21\n",
    "subtract(4, 25)  # 4 - 25 = -21\n",
    "\n",
    "a = 1\n",
    "b = -1\n",
    "subtract(b, a)  # Remember that order of the inputs into the parameters matter!\n",
    "\n",
    "d = np.array([1, 2, 3, 4, 5])\n",
    "e = np.array([18, 19, 20, 21, 22])\n",
    "subtract(e, d)"
   ]
  },
  {
   "cell_type": "markdown",
   "id": "01299876-6f36-4c39-9cd9-b7b94bf462cb",
   "metadata": {},
   "source": [
    "Parameters can be strings as well."
   ]
  },
  {
   "cell_type": "code",
   "execution_count": null,
   "id": "58308be7-fbcb-42eb-b13a-3042155dc4d5",
   "metadata": {},
   "outputs": [],
   "source": [
    "def info(name, email):\n",
    "    print(\"Name: {}\".format(name))\n",
    "    print(\"Email: {}\".format(email))\n",
    "\n",
    "\n",
    "info(\"Purdue Pete\", \"boilerup@purdue.edu\")"
   ]
  },
  {
   "cell_type": "markdown",
   "id": "b636b8f9-f2e5-4ced-8d63-950d819e801b",
   "metadata": {},
   "source": [
    "The neat thing about functions is that you could also return a value from a function utilizing the key word ```return```. You must remember to store the returned value from the function into a variable if you want to save it. Remember that when you call a function, it's like the function call is replaced by the code within the body of the function."
   ]
  },
  {
   "cell_type": "code",
   "execution_count": null,
   "id": "57e5590e-143a-450f-a398-bc642110402d",
   "metadata": {},
   "outputs": [],
   "source": [
    "def return5():\n",
    "    return 5\n",
    "\n",
    "\n",
    "def multiply(a, b):\n",
    "    c = a * b\n",
    "    return c  # return the value of a * b\n",
    "\n",
    "\n",
    "e = 9\n",
    "f = 4\n",
    "d = multiply(5, 6)  # d = 5 * 6\n",
    "g = multiply(e, f) + return5()  # d = (9 * 4) + (5)\n",
    "\n",
    "print(return5())\n",
    "print(\"The values of d and g are {} and {}, respectively.\".format(d, g))"
   ]
  },
  {
   "cell_type": "markdown",
   "id": "98cb479d-07c8-4e0f-b6c1-8fd8a2a86248",
   "metadata": {},
   "source": [
    "Let's look at why functions are good at reducing repetition in code."
   ]
  },
  {
   "cell_type": "code",
   "execution_count": null,
   "id": "7d912802-244a-440f-bbd2-3720df5526fa",
   "metadata": {},
   "outputs": [],
   "source": [
    "print(\"Repetitive code when functions can be used are unprofessional and take space.\")\n",
    "for i in range(1, 6):\n",
    "    if i == 3:\n",
    "        print(i)\n",
    "for i in range(1, 6):\n",
    "    if i == 3:\n",
    "        print(i)\n",
    "for i in range(1, 6):\n",
    "    if i == 3:\n",
    "        print(i)"
   ]
  },
  {
   "cell_type": "markdown",
   "id": "23b4af7f-32fd-440d-a6bb-3eab65a181fc",
   "metadata": {},
   "source": [
    "Instead of having repeating lines of code to create the output you want, you can use functions to shorten and organize them."
   ]
  },
  {
   "cell_type": "code",
   "execution_count": null,
   "id": "68207205-cb65-461a-9919-eb536b78362d",
   "metadata": {
    "scrolled": true
   },
   "outputs": [],
   "source": [
    "def print3():\n",
    "    for i in range(1, 6):\n",
    "        if i == 3:\n",
    "            print(i)\n",
    "\n",
    "\n",
    "print(\"Functions can help keep your code neat, concise, and easy to read.\")\n",
    "print3()\n",
    "print3()\n",
    "print3()"
   ]
  },
  {
   "cell_type": "markdown",
   "id": "2beb9bf8-f522-483d-b963-c54bbd8ba2b0",
   "metadata": {},
   "source": [
    "### <span style=\"color:red;\"> Exercise 1 </span> (10 pts)"
   ]
  },
  {
   "cell_type": "markdown",
   "id": "ced05b98-bbf2-4b05-9cdf-d8e737e80f3c",
   "metadata": {},
   "source": [
    "__Part 1__ (5 pts)\n",
    "\n",
    "Create the following functions. <br>\n",
    "\n",
    "1. Function named ```trapezoid_area``` that has three parameters named ```base1```, ```base2```, and ```height```, and returns the area of a trapezoid.\n",
    "2. Function named ```slope``` that calculates the slope of the straight line passing through the two points in the plane. The parameters are ```x1```, ```y1```, ```x2```, and ```y2``` and the function returns the slope.\n",
    "\n",
    "__Part 2__ (5 pts)\n",
    "\n",
    "Create the following functions for the following formulas. Do not use any of python's NumPy functions, with the exception of the ```sum()``` function.\n",
    "\n",
    "1) Arithmetic Mean\n",
    "\\begin{align*}\n",
    "\\mu \n",
    "&= \\frac{1}{n}\\sum_{i=1}^n a_i\\\\\n",
    "&= \\frac{a_1+a_2+\\dots+a_n}{n}\n",
    "\\end{align*}\n",
    "- Name: ```mean```\n",
    "- Parameters: ```x``` (an array of values of variable length)\n",
    "\n",
    "2) Standard Deviation (You must utilize your ```mean``` function from Question 1)\n",
    "\\begin{align*}\n",
    "\\sigma \n",
    "&= \\sqrt{\\frac{1}{n-1} \\sum_{i=1}^n (x_i-\\mu)^2}\\\\\n",
    "&= \\sqrt{\\frac{(x_1-\\mu)^2+(x_2-\\mu)^2+\\dots+(x_n-\\mu)^2}{n-1}}\n",
    "\\end{align*}\n",
    "- Name: ```std```\n",
    "- Parameters: ```x``` (an array of values of variable length)"
   ]
  },
  {
   "cell_type": "markdown",
   "id": "d779cd98-805e-4b85-90b6-96c2f5533722",
   "metadata": {
    "tags": []
   },
   "source": [
    "<h3 style=\"background-color:lightblue\"> Write Answers for Exercise 1 Below </h3>"
   ]
  },
  {
   "cell_type": "code",
   "execution_count": null,
   "id": "685a1b64-56e1-475a-b381-29dd12a87196",
   "metadata": {},
   "outputs": [],
   "source": []
  },
  {
   "cell_type": "markdown",
   "id": "b2e24afe-80b8-44b3-bfd0-0b773fefa695",
   "metadata": {},
   "source": [
    "### Functions make code reusable\n",
    "\n",
    "One of the most important things about functions is that they can allow us to reproduce a task we did before, very reliably. \n",
    "\n",
    "At the start of each lab, you must include your first name, last name, and email address. We can easily automate that process with functions. Run the following cell in order to download student_info.py. Afterwards, open it and make sure it is saved inside the same directory. Once you have read that, you should not be surprised by what the following cell does. "
   ]
  },
  {
   "cell_type": "code",
   "execution_count": null,
   "id": "7614a634-4b2b-491c-bcf2-d60297589c91",
   "metadata": {
    "deletable": false,
    "editable": false
   },
   "outputs": [],
   "source": [
    "%%sh\n",
    "wget -q -N https://raw.githubusercontent.com/TheDataScienceLabs/DSLab_Calculus/main/book/labs/3_estimate_blood_flow/student_info.py"
   ]
  },
  {
   "cell_type": "code",
   "execution_count": null,
   "id": "9b2a6a24-8757-4966-8222-974a7d787e58",
   "metadata": {},
   "outputs": [],
   "source": [
    "# this makes it so that changes to the imported module are automatically updated in this document.\n",
    "# usually not necessary, but if we are making changes, this is helpful.\n",
    "%load_ext autoreload\n",
    "%autoreload 2\n",
    "\n",
    "from student_info import show_info\n",
    "\n",
    "show_info()"
   ]
  },
  {
   "cell_type": "markdown",
   "id": "b7d8b742-d983-46e9-aceb-a603669cfd0e",
   "metadata": {},
   "source": [
    "### <span style=\"color:red;\"> Exercise 2 </span> (10 pts)\n",
    "\n",
    "Modify `student_info.py` to give your own contact information. You will use this file in the future to put a heading on your lab submissions.\n",
    "\n",
    "Check to make sure it is working by running the cell below. It should show your contact information."
   ]
  },
  {
   "cell_type": "code",
   "execution_count": null,
   "id": "8398a3ab-be8e-4ee8-846f-8f86c44d0665",
   "metadata": {},
   "outputs": [],
   "source": [
    "show_info()"
   ]
  },
  {
   "cell_type": "markdown",
   "id": "f29ee3f1-0745-4d7e-b38b-95cd045b5728",
   "metadata": {},
   "source": [
    "### Functions make it easy to check your work\n",
    "\n",
    "One of the great things about Python, which is not something every language can do, is that you can pass functions around as variables. You can put a function into another function, like so:"
   ]
  },
  {
   "cell_type": "code",
   "execution_count": null,
   "id": "0f114e84-9afd-4b93-9d27-f0850ace2faf",
   "metadata": {},
   "outputs": [],
   "source": [
    "def do_three_times(f):\n",
    "    f()\n",
    "    f()\n",
    "    f()\n",
    "    \n",
    "def greet():\n",
    "    print('hey')\n",
    "\n",
    "do_three_times(greet)"
   ]
  },
  {
   "cell_type": "markdown",
   "id": "fd6f4245-84c1-4012-b6ec-b7ec8e484f7d",
   "metadata": {},
   "source": [
    "In the above block, we are not calling the `greet` function directly -- instead we are passing it as a variable into the function `do_three_times`, which in turn calls the greet function.\n",
    "\n",
    "A really common way to take advantage of this pattern is to pass a function into another one, which checks to see if it is working correctly. Let's do that now! We have written a couple functions which check to see if the functions `trapezoid_area` and `slope` which you wrote are working correctly. Run the following cells to download lab3_grader.py and autograder.py (which will be used in later labs!). Afterwards, run the cell that checks your functions and see if you have all of the tests passed correctly! If your functions are not working how they should, go back and change them to make sure you get full points."
   ]
  },
  {
   "cell_type": "code",
   "execution_count": null,
   "id": "db96eddf-22df-46c9-86d3-6f2e014dae8f",
   "metadata": {
    "deletable": false,
    "editable": false
   },
   "outputs": [],
   "source": [
    "%%sh\n",
    "wget -q -N https://raw.githubusercontent.com/TheDataScienceLabs/DSLab_Calculus/main/book/labs/3_estimate_blood_flow/autograder.py\n",
    "wget -q -N https://raw.githubusercontent.com/TheDataScienceLabs/DSLab_Calculus/main/book/labs/3_estimate_blood_flow/lab3_grader.py"
   ]
  },
  {
   "cell_type": "code",
   "execution_count": null,
   "id": "013d9b17-a16c-404d-aa7a-7a6dae37af0a",
   "metadata": {},
   "outputs": [],
   "source": [
    "from lab3_grader import check_trapezoid_area, check_slope\n",
    "\n",
    "check_trapezoid_area(trapezoid_area)\n",
    "check_slope(slope)"
   ]
  },
  {
   "cell_type": "markdown",
   "id": "e2b4d780-38cd-4863-8377-835e9c767cf3",
   "metadata": {
    "tags": []
   },
   "source": [
    "#### Reusing code from last week\n",
    "\n",
    "We wish to explore the heartbeat data we collected in the previous lab further. To do so, let's copy that code into a new function. In the following cell, fill in the `heartbeat` and `time` variables with your heart beat array (and corresponding time) from last week. Then, fill out the missing parts of the function `get_period` with the steps you performed last week (it's okay to copy and paste). If your heartbeat measurements from last lab were not up to par or something went wrong while measuring, run the following cell in order to load the example_heartbeat.txt that you can use in order to correctly fill out the next few exercises."
   ]
  },
  {
   "cell_type": "code",
   "execution_count": null,
   "id": "cd2cf457-540b-4547-bc25-e75861c776a9",
   "metadata": {
    "deletable": false,
    "editable": false
   },
   "outputs": [],
   "source": [
    "%%sh\n",
    "wget -q -N https://raw.githubusercontent.com/TheDataScienceLabs/DSLab_Calculus/main/book/labs/3_estimate_blood_flow/example_heartbeat.txt"
   ]
  },
  {
   "cell_type": "code",
   "execution_count": null,
   "id": "f49614a4-936a-48d0-8723-20b013b4f416",
   "metadata": {},
   "outputs": [],
   "source": [
    "heartbeat = \n",
    "time = \n",
    "\n",
    "\n",
    "def get_period(heartbeat, time):\n",
    "    \"\"\"\n",
    "    Given a hearbeat signal, what is the period of the heart beat?\n",
    "\n",
    "    Arguments\n",
    "    ---------\n",
    "    heartbeat: array - the measured heartbeat signal\n",
    "    time: array - the times when the signal was measured. Should be the same\n",
    "        shape as heartbeat.\n",
    "\n",
    "    Returns\n",
    "    -------\n",
    "    period: float - the average period of the heartbeat signal.\n",
    "    error: float - an estimate of the error in the measurement of the period.\n",
    "    \"\"\"\n",
    "    \n",
    "    # put here the code which averages the function and finds where the function is increasing and decreasing.\n",
    "    # As always, ask for help if you get stuck.\n",
    "\n",
    "    maxima = np.zeros(averaged.shape, dtype=bool)\n",
    "    maxima[:-1] = increasing[:-1] & decreasing[1:]  \n",
    "    peak_indices = maxima & (averaged > averaged[maxima].mean())\n",
    "    peak_times = time[peak_indices]\n",
    "    gaps = peak_times[1:] - peak_times[:-1]\n",
    "    return gaps.mean(), gaps.std(ddof=1) / np.sqrt(len(gaps))"
   ]
  },
  {
   "cell_type": "code",
   "execution_count": null,
   "id": "9ad794df-cf28-479b-aad5-dc1a986b6280",
   "metadata": {},
   "outputs": [],
   "source": [
    "period = get_period(heartbeat, time)\n",
    "print(period)"
   ]
  },
  {
   "cell_type": "markdown",
   "id": "deffcbc2-d05c-4a6d-a2f9-aa6dc99a24f8",
   "metadata": {},
   "source": [
    "## <span style=\"color:orange;\"> 2. Using Functions with Data </span> "
   ]
  },
  {
   "cell_type": "markdown",
   "id": "cd7947be-4d74-4655-bf2c-0e0f5fa81487",
   "metadata": {},
   "source": [
    "### Looking deeper with polynomials\n",
    "\n",
    "The averaging technique we introduced in the previous lab works very well for identifying the locations of large features. Unfortunately, it blurs out some of the fine detail, brings peaks down, and lifts bottoms up. That's no good if you want to know information like the amplitude or shape of the signal. We can do much better.\n",
    "\n",
    "We will explore one way of finding a function which \"interpolates\" between the observed values. A function which interpolates is called an \"interpolant\".\n",
    "\n",
    "Since you have the period of your heartbeat signal, you can extract just one cycle of the initial signal. In the following cell, fill in a start time which gives you a good window capturing one full heart beat."
   ]
  },
  {
   "cell_type": "code",
   "execution_count": null,
   "id": "c69270e8-a99b-4ea5-97db-4086a4eeec44",
   "metadata": {
    "tags": []
   },
   "outputs": [],
   "source": [
    "start_time =\n",
    "mask = (time >= start_time) & (time < start_time + period[0])\n",
    "cycle = heartbeat[mask]\n",
    "cycle_t = time[mask]\n",
    "\n",
    "import matplotlib.pyplot as plt\n",
    "\n",
    "plt.plot(cycle_t, cycle)\n",
    "plt.show()"
   ]
  },
  {
   "cell_type": "markdown",
   "id": "10c37f04-c53f-4581-bfa3-1a86da2477ae",
   "metadata": {},
   "source": [
    "A parabola has one local maximum or minimum. A cubic polynomial has at most two. A fourth degree polynomial has at most three local maxima and minima. Fit a polynomial of degree one more than the number of local maxima and minima. Numpy has a built in tool which finds a polynomial which matches observed values closely. Here is how it works:"
   ]
  },
  {
   "cell_type": "code",
   "execution_count": null,
   "id": "72e20e8f-9bc3-4c0a-b28f-00754cf1d45c",
   "metadata": {},
   "outputs": [],
   "source": [
    "from numpy.polynomial import Polynomial\n",
    "\n",
    "interpolant = Polynomial.fit(cycle_t, cycle, deg= )\n",
    "print(interpolant)"
   ]
  },
  {
   "cell_type": "markdown",
   "id": "a50c8a7d-a4d7-4481-9d7d-84e75b3fa3f9",
   "metadata": {},
   "source": [
    "The object `interpolant` represents a list of coefficients of a polynomial. We can also call it as a function. Let's use that to show how well it lines up with the data we measured:"
   ]
  },
  {
   "cell_type": "code",
   "execution_count": null,
   "id": "b93ff6fd-e569-44ff-a44b-6a343748caba",
   "metadata": {},
   "outputs": [],
   "source": [
    "plt.plot(cycle_t, cycle)\n",
    "plt.plot(cycle_t, interpolant(cycle_t))\n",
    "plt.show()"
   ]
  },
  {
   "cell_type": "markdown",
   "id": "efe71c94-403f-4cef-ab11-0fd817bc24e3",
   "metadata": {},
   "source": [
    "What other values of the degree could we try? What kind of interpolant do we get with a smaller degree, or a larger degree than 7? \n",
    "\n",
    "### <span style=\"color:red;\"> Exercise 3 </span> (10 pts)\n",
    "\n",
    "Use a `for` loop to make plots showing the interpolants of degrees 3 through 15. Which ones fit best? Try larger values too. What if you have an interpolant of degree 30? 100?"
   ]
  },
  {
   "cell_type": "markdown",
   "id": "44cc2c99-46a4-4f42-9aa5-e5c60ad30e6e",
   "metadata": {},
   "source": [
    "<h3 style=\"background-color:lightblue\"> Write Answers for Exercise 3 Below </h3>"
   ]
  },
  {
   "cell_type": "code",
   "execution_count": null,
   "id": "ffa9cdec-d5b6-44fa-b7cd-e89f9bcd426e",
   "metadata": {},
   "outputs": [],
   "source": []
  },
  {
   "cell_type": "markdown",
   "id": "f909669e-318b-46d2-b7ea-b2f9b4df8df7",
   "metadata": {},
   "source": [
    "#### Quantifying the fit\n",
    "\n",
    "Beyond a certain point, the polynomial can snake through each point we give it, capturing all the noise. That defeats the purpose of the fit! It is good practice to choose as low a degree as possible while still matching the data well. This is called the *parsimony principle*. We can quantify this with the so-called \"mean square error\" of a fit: the average value of the difference between the interpolant and the measured value. If the measured values are $y_i$ and we are measuring how well an interpolant $f(x_i)$ agrees, then the mean square error is given by the formula\n",
    "$\n",
    "\\frac{1}{n}\\sum_{i=0}^n \\left(f(x_i)-y_i\\right)^2 \n",
    "$"
   ]
  },
  {
   "cell_type": "markdown",
   "id": "ccfeeb8c-e9e6-42e4-8c17-c37860190a0b",
   "metadata": {},
   "source": [
    "### <span style=\"color:red;\"> Exercise 4 </span> (10 pts)\n",
    "\n",
    "Write a function which takes an interpolant and returns the mean square error. Then, read and run the cell below it, which will use the code you wrote to make a plot of how the polynomial degree relates to the mean square error."
   ]
  },
  {
   "cell_type": "markdown",
   "id": "eedfe71d-8b1b-4cd4-81e3-274c6654a688",
   "metadata": {},
   "source": [
    "<h3 style=\"background-color:lightblue\"> Write Answers for Exercise 4 Below </h3>"
   ]
  },
  {
   "cell_type": "code",
   "execution_count": null,
   "id": "228a0a18-1f10-4289-9c0a-861e930109a5",
   "metadata": {},
   "outputs": [],
   "source": [
    "def mean_square_error(x, y, interpolant):\n",
    "    # put your answer here!"
   ]
  },
  {
   "cell_type": "code",
   "execution_count": null,
   "id": "011a7564-b1cf-4e88-a2e0-84450183dca8",
   "metadata": {},
   "outputs": [],
   "source": [
    "degrees = list(range(1, 20))\n",
    "errors = []\n",
    "for deg in degrees:\n",
    "    interpolant = Polynomial.fit(cycle_t, cycle, deg=deg)\n",
    "    errors.append(mean_square_error(cycle_t, cycle, interpolant))\n",
    "    \n",
    "plt.plot(degrees, errors)\n",
    "plt.xlabel(\"polynomial degree\")\n",
    "plt.ylabel(\"mean square error\")\n",
    "plt.show()"
   ]
  },
  {
   "cell_type": "markdown",
   "id": "0b6b8385-0f08-4913-a81f-38c5c6191b88",
   "metadata": {},
   "source": [
    "### <span style=\"color:red;\"> Exercise 5 </span> (10 pts)\n",
    "\n",
    "Interpret the plot above. After what point do we see diminishing returns on the model's fit? What is the smallest degree of polynomial which has a reasonably low mean square error, in your opinion? Write in complete sentences here, as if you were describing the plot in a professional report."
   ]
  },
  {
   "cell_type": "markdown",
   "id": "a5954918-838d-450c-9a0c-83fef0fa067b",
   "metadata": {},
   "source": [
    "<h3 style=\"background-color:lightblue\"> Write Answers for Exercise 5 Below </h3>"
   ]
  },
  {
   "cell_type": "markdown",
   "id": "12bbda65-2dd3-4c6b-82d2-838cc9ada788",
   "metadata": {},
   "source": []
  },
  {
   "cell_type": "markdown",
   "id": "f8465e2e-591f-4536-a418-bd0d668d9324",
   "metadata": {},
   "source": [
    "### Exploring the data using the polynomial model\n",
    "\n",
    "Now that we have a good model for the behavior of each cycle, we can start asking questions of our model. We can ask things like, \"What is the largest value of the function on the interval?\" Here is an example of how we might do that. Suppose we have the following interpolant:"
   ]
  },
  {
   "cell_type": "code",
   "execution_count": null,
   "id": "78d368df-972e-4264-ae9a-105af22d0435",
   "metadata": {},
   "outputs": [],
   "source": [
    "interpolant = np.polynomial.Polynomial(\n",
    "    [\n",
    "        43497.94586794,\n",
    "        -5266.09794496,\n",
    "        -14940.13657245,\n",
    "        57262.21812427,\n",
    "        48591.17239832,\n",
    "        -146342.3668821,\n",
    "        -31204.60140348,\n",
    "        96269.6657132,\n",
    "    ],\n",
    "    domain=[0.0, 0.78],\n",
    ")\n",
    "\n",
    "t = np.linspace(*interpolant.domain, 200)\n",
    "plt.plot(t, interpolant(t))\n",
    "plt.show()"
   ]
  },
  {
   "cell_type": "markdown",
   "id": "e752fead-43df-4b44-8e61-4c5445c12e5c",
   "metadata": {},
   "source": [
    "Since we have a function which represents our data accurately, we can use standard calculus tools to find its local extrema. The Polynomial object which NumPy creates is very versatile. If you have a polynomial, you can find things like its roots easily, like so:"
   ]
  },
  {
   "cell_type": "code",
   "execution_count": null,
   "id": "46896afa-6f3b-44ea-ab6e-84a570bfee36",
   "metadata": {},
   "outputs": [],
   "source": [
    "print(interpolant.roots())"
   ]
  },
  {
   "cell_type": "markdown",
   "id": "35560a24-2d89-45e9-923c-c4abc483017c",
   "metadata": {},
   "source": [
    "We can also find derivatives, which are given back to us as Polynomial objects which we can do all those same things to."
   ]
  },
  {
   "cell_type": "code",
   "execution_count": null,
   "id": "9e494d6d-4e87-430c-b2db-803ea7a7d052",
   "metadata": {},
   "outputs": [],
   "source": [
    "print(interpolant.deriv())"
   ]
  },
  {
   "cell_type": "markdown",
   "id": "3ae80d10-e79e-4c56-8fdd-70015f553e9f",
   "metadata": {},
   "source": [
    "We can ask it for its domain, which it also stores for us as an array:"
   ]
  },
  {
   "cell_type": "code",
   "execution_count": null,
   "id": "d412af83-c50f-44dd-a171-6081baa04873",
   "metadata": {},
   "outputs": [],
   "source": [
    "interpolant.domain"
   ]
  },
  {
   "cell_type": "markdown",
   "id": "0cb23080-125f-45e1-860e-367c569220c7",
   "metadata": {},
   "source": [
    "### <span style=\"color:red;\"> Exercise 6 </span> (10 pts)\n",
    "\n",
    "Remember the closed interval method from calculus 1, where you find all the critical numbers of a function within its interval, and plug those into the function to find the maximum and minimum values. Write a function which does exactly that, to a polynomial interpolant. \n",
    "\n",
    "Hint: critical points are the roots of the derivative of a certain function."
   ]
  },
  {
   "cell_type": "code",
   "execution_count": null,
   "id": "ca9348da-2197-460a-a3df-4ae34ae6f054",
   "metadata": {},
   "outputs": [],
   "source": [
    "def closed_interval(interpolant):\n",
    "    #your code goes here.\n",
    "    \n",
    "    return minimum, maximum\n",
    "    \n",
    "print(closed_interval(interpolant))"
   ]
  },
  {
   "cell_type": "markdown",
   "id": "574f3ded-7509-4554-a1ea-756c1b7f955e",
   "metadata": {},
   "source": [
    "#### Interpretation and code reuse\n",
    "\n",
    "[This article published in Current Cardiology News](https://www.ncbi.nlm.nih.gov/pmc/articles/PMC3394104/pdf/CCR-8-14.pdf) gives several commonly used statistics which can be read from a photoplethysmogram. We will focus on just two of them: the \"systolic amplitude\" which is roughly proportional to blood flow, and the \"ratio b/a\" which is connected to arterial stiffness and can indicate exposure to lead and risk of heart disease.\n",
    "\n",
    "First, let's make a function which computes the systolic amplitude. We have already done most of the work, when we wrote the function `closed_interval`. Let's take advantage of that:"
   ]
  },
  {
   "cell_type": "code",
   "execution_count": null,
   "id": "a88d5f45-1c5b-49fe-85d3-6c1f8a1136ed",
   "metadata": {},
   "outputs": [],
   "source": [
    "def systolic_amplitude(interpolant):\n",
    "    minimum, maximum = closed_interval(interpolant)\n",
    "    return maximum - minimum\n",
    "\n",
    "systolic_amplitude(interpolant)"
   ]
  },
  {
   "cell_type": "markdown",
   "id": "295b5cc6-54e0-4014-b1f4-dc72eb7c49e3",
   "metadata": {},
   "source": [
    "The ratio b/a is based off the maximum and minimum values of the second derivative. Specifically, it is their ratio. Since the photoplethysmogram is concave up in some places and concave down in others, the maximum will be positive and the minimum will be negative. Since we are more familiar working with positive numbers, people usually compute $-b/a$, where $b$ is the minimum value of the second derivative and $a$ is the maximum value of the second derivative.\n",
    "\n",
    "### <span style=\"color:red;\"> Exercise 7 </span> (10 pts)\n",
    "\n",
    "Write a function to compute the ratio b/a. You should still be able to reuse the function `closed_interval` (ask for help if you need a hint for how to do this)."
   ]
  },
  {
   "cell_type": "code",
   "execution_count": null,
   "id": "36205821-25e6-4d0c-9ed5-9e14b714131c",
   "metadata": {},
   "outputs": [],
   "source": [
    "def ratio_b_a(interpolant):\n",
    "    # your code here\n",
    "\n",
    "ratio_b_a(interpolant)"
   ]
  },
  {
   "cell_type": "markdown",
   "id": "b5c3297f-5b56-4bcc-880b-d3fae9ab8ae5",
   "metadata": {},
   "source": [
    "Let's look at where we are. Today, you have learned about writing functions. You have written functions which identify the period of a heartbeat signal, interpolate it with a polynomial, and compute two medically interesting values from it. We saw that by reusing old code, we can save ourselves a lot of time. That is a lot! Well done.\n",
    "\n",
    "### <span style=\"color:red;\"> Exercise 8 </span> (Optional - 0 pts)\n",
    "\n",
    "### Measure yourself!\n",
    "\n",
    "In the case that you have remaining time within your lab, you should put the tools you have used to work. Make a new Jupyter notebook, copying code from lab 2, to capture some new pulse data (remember, it is good practice to separate data acquisition from data analysis!). Then, analyze it here using the functions you have written. You can use the prompts below for scenarios for your analysis: \n",
    "\n",
    "1. If you jog up and down the hallway briefly, how does your pulse rate change?\n",
    "2. If you measure your systolic amplitude with your finger above your shoulders versus below your waist, can you detect a difference? How big is the difference?\n",
    "3. Is your ratio b/a different from your classmates'?\n",
    "\n",
    "If you have time, try to at least answer two of the three questions. Write markdown cells explaining what you are doing and why. Interpret your results."
   ]
  },
  {
   "cell_type": "markdown",
   "id": "1f9f05a2-e2f9-4467-8bc7-ca82ee3cf16c",
   "metadata": {},
   "source": [
    "<h3 style=\"background-color:lightblue\"> Write Answers for Exercise 8 Below </h3>"
   ]
  },
  {
   "cell_type": "code",
   "execution_count": null,
   "id": "a46da2d6-51d1-4bc9-824a-05db3d5c7dd4",
   "metadata": {},
   "outputs": [],
   "source": []
  }
 ],
 "metadata": {
  "kernelspec": {
   "display_name": "Python 3 (ipykernel)",
   "language": "python",
   "name": "python3"
  },
  "language_info": {
   "codemirror_mode": {
    "name": "ipython",
    "version": 3
   },
   "file_extension": ".py",
   "mimetype": "text/x-python",
   "name": "python",
   "nbconvert_exporter": "python",
   "pygments_lexer": "ipython3",
   "version": "3.11.5"
  },
  "vscode": {
   "interpreter": {
    "hash": "31f2aee4e71d21fbe5cf8b01ff0e069b9275f58929596ceb00d14d90e3e16cd6"
   }
  }
 },
 "nbformat": 4,
 "nbformat_minor": 5
}
