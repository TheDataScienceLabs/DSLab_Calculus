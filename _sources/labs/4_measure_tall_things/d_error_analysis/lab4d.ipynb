{
 "cells": [
  {
   "cell_type": "markdown",
   "id": "2d950baa-72c6-4a14-b296-d98a0c282e02",
   "metadata": {},
   "source": [
    "# Week 10: How Accurate is Your Height Measurement? (Derivative Rule for Error Propagation)\n",
    "<font size=\"6\"> Laboratory 4d  </font> <br>\n",
    "<font size=\"3\"> Last updated Mar 21, 2023 </font>"
   ]
  },
  {
   "cell_type": "markdown",
   "id": "aa79afe9-428e-49d4-8866-469c454064bf",
   "metadata": {},
   "source": [
    "## <span style=\"color:orange;\"> 00. Content </span>"
   ]
  },
  {
   "cell_type": "markdown",
   "id": "f6c64422-e699-4eec-b070-9c1199ddcdff",
   "metadata": {},
   "source": [
    "<font size=\"5\"> Mathematics </font>\n",
    "- Accuracy \n",
    "- Precision \n",
    "- Absolute error\n",
    "- Relative error \n",
    "- Combining errors\n",
    "- Error propagation \n",
    "- Partial derivatives \n",
    "     \n",
    "<font size=\"5\"> Programming Skills </font>\n",
    "- Symbolic computation using SymPy\n",
    "    \n",
    "<font size=\"5\"> Embedded Systems </font>\n",
    "- N/A"
   ]
  },
  {
   "cell_type": "markdown",
   "id": "3a397885-d510-4c82-9050-5a965a76f5ff",
   "metadata": {},
   "source": [
    "## <span style=\"color:orange;\"> 0. Required Hardware </span>"
   ]
  },
  {
   "cell_type": "markdown",
   "id": "d4746fee-7f52-4340-b2c2-548caa3945ec",
   "metadata": {},
   "source": [
    "- N/A"
   ]
  },
  {
   "cell_type": "markdown",
   "id": "041d4a94-532c-49ae-a991-741877e6934e",
   "metadata": {},
   "source": [
    "<h3 style=\"background-color:lightblue\"> Copy the file `student_info.py` into the folder you are working in, then run this cell to put your name and email into this document. </h3>"
   ]
  },
  {
   "cell_type": "code",
   "execution_count": null,
   "id": "5061a17f-f3ca-4199-92fa-784ac08421d1",
   "metadata": {},
   "outputs": [],
   "source": [
    "from student_info import show_info\n",
    "show_info()"
   ]
  },
  {
   "cell_type": "markdown",
   "id": "ba677ed2-1eb8-4914-a605-1e9f13fd166e",
   "metadata": {},
   "source": [
    "## <span style=\"color:orange;\"> 1. The Plan </span> "
   ]
  },
  {
   "cell_type": "markdown",
   "id": "d8329cd4-5569-4c47-a390-9c96deb88868",
   "metadata": {},
   "source": [
    "In the previous lab, you collected data which will give us the heights of several buildings around campus. You identified several sources of error which may affect the accuracy of your results. This is typical: usually, error comes from more than one source. In this lab, you learn how to incorporate what you know about the errors in your measurements to get a numerical value for the error in your results."
   ]
  },
  {
   "cell_type": "markdown",
   "id": "ee1a675c-eff2-49c2-930f-b200d5f375d8",
   "metadata": {},
   "source": [
    "## <span style=\"color:orange;\"> 2. A Review of Errors </span> "
   ]
  },
  {
   "cell_type": "markdown",
   "id": "8aaa04bc-765f-4acf-90bf-184b52bd0724",
   "metadata": {
    "tags": []
   },
   "source": [
    "### <span style=\"color:red\"> Exercise 1 </span> (5 pts)\n",
    "\n",
    "In a sentence or two, write down the difference between random and systematic errors. Look at previous labs if you have forgotten.\n",
    "\n",
    "<h3 style=\"background-color:lightblue\"> Write Answers for Exercise 1 Below </h3>"
   ]
  },
  {
   "cell_type": "markdown",
   "id": "28cec991-b806-4ad0-99cf-48eddd4e6474",
   "metadata": {},
   "source": []
  },
  {
   "cell_type": "markdown",
   "id": "c14383f0-b8a5-4dcc-a572-4051a2da8913",
   "metadata": {
    "tags": []
   },
   "source": [
    "### Accuracy and precision\n",
    "\n",
    "The distinction between random and systematic errors is often phrased in terms of how accurate a measurement is and how precise a measurement is. Professional scientists and engineers use the words \"accuracy\" and \"precision\" to refer to two different, related concepts. *Accuracy* refers to how close the measurement is to the true value. *Precision* refers to how close repeated measurements are to each other. This is summarized in the following image -- in this metaphor the arrows are our measurements, and the target is the true value.\n",
    "\n",
    "![accuracy vs precision](https://github.com/TheDataScienceLabs/DSLab_Calculus/blob/main/book/labs/4_measure_tall_things/d_error_analysis/accuracy_and_precision.png?raw=true)\n",
    "\n",
    "In the terms described above, a measurement is accurate if $|\\varepsilon|$ is small. A measurement is precise if $|\\varepsilon|$ is close to its average value. It follows that the accuracy can only be as good as the precision, so we often do want to have good precision. However, as the picture shows, it is possible (and indeed, common) to have lots of precision but not much accuracy. In that case, the precision isn't really doing you any good. The real goal is accuracy. Don't lose sight of that!\n",
    "\n",
    "## Two ways of reporting errors\n",
    "\n",
    "So far we have been talking about the error $\\varepsilon$ directly. This is also called the *absolute error*. This term has nothing to do with absolute value. Absolute error can be positive or negative. The units of absolute error are the same as the units of the measured quantity. A typical ruler has markings down to the 1/16 inch, so interpolating by eye you can make sure the error is less than 1/32 inches. This can be very good for measuring, say, how long your pencil is, since a typical pencil is around 7 inches long. The pencil on my desk is 7 1/8 inches long, $\\pm$ 1/32 inch. I use the symbol $\\pm$ to indicate that I don't know whether my guess is too high or too low. All I can say for sure is\n",
    "$$\n",
    "7\\frac{1}{8} -\\frac{1}{32}< t < 7\\frac{1}{8}+\\frac{1}{32}\n",
    "$$\n",
    "\n",
    "A ruler like this would not be as appropriate for measuring how wide the pencil is -- it can only tell me it is 1/4 inch wide, $\\pm$ 1/32 inch. To express this idea mathematically, we simply divide the error by the true value $x$ -- or if we don't know the true value, by our best guess. We write this as\n",
    "\n",
    "\\begin{align*}\n",
    "\\eta = \\frac{\\varepsilon}{t} \\approx \\frac{\\varepsilon}{x}, \n",
    "\\end{align*}\n",
    "\n",
    "using the greek letter eta ($\\eta$) which also makes an \"e\" sound, though it looks sort of like a lowercase n. This quantity is called the relative error. Unlike the absolute error, the relative error is dimensionless -- it would be the same if we expressed the answer in inches or centimeters or smoots. Relative error is usually expressed as a percentage. For example, the length of my pencil is 7 1/8 inches $\\pm$ 0.44%. The width of my pencil is 1/4 inch $\\pm$ 12.5%. This shows how a ruler is not appropriate for measuring the width of a pencil, but it's fine for measuring the length -- the relative error is significantly different.\n",
    "\n",
    "We often want an equation relating $t$ and $x$ using the relative error instead of the absolute error. This is easily achieved by factoring:\n",
    "\n",
    "\\begin{align*}\n",
    "x \n",
    "&= t + \\varepsilon\\\\\n",
    "&= t\\left(1+\\frac{\\varepsilon}{t}\\right)\\\\\n",
    "&=t(1+\\eta)\n",
    "\\end{align*}\n",
    "\n",
    "\n",
    "### <span style=\"color:red\"> Exercise 2 </span> (10 pts)\n",
    "\n",
    "For each of the quantities expressed below, identify whether it is an absolute error or a relative error. Then, convert it to the other type of error. Make sure you are using appropriate units.\n",
    "\n",
    "1. 135 pounds $\\pm$ 3 pounds\n",
    "2. 15 PSI $\\pm$ 30%\n",
    "3. 22 hours $\\pm$ 0.5%\n",
    "4. 3 weeks $\\pm$ 4 days\n",
    "\n",
    "<h3 style=\"background-color:lightblue\"> Write Answers for Exercise 2 Below </h3>"
   ]
  },
  {
   "cell_type": "markdown",
   "id": "a8409715-90f2-4680-b6ce-d9cfde944c05",
   "metadata": {},
   "source": []
  },
  {
   "cell_type": "markdown",
   "id": "35ef8c6b-e565-4a61-8cd3-76e0c40c566e",
   "metadata": {},
   "source": [
    "### Combined errors and significant figures\n",
    "\n",
    "Most calculations we do involve more than one number. Each number has its own error associated with it. As an example, suppose I measure the length of one pencil to be $x_1$, and another to be $x_2$ inches long. How long will they be together, put end to end? $y = x_1+x_2$, of course. How will the errors relate to each other? They will also add together. We can see this in a formula:\n",
    "\n",
    "\\begin{align*}\n",
    "(x_1+\\varepsilon_1)+(x_2+\\varepsilon_2) &= y+(\\varepsilon_1+\\varepsilon_2)\\\\\n",
    "&=y+\\varepsilon_{total}\n",
    "\\end{align*}\n",
    "\n",
    "The answer is of the form $y+\\varepsilon_{total}$, where the total error is $\\varepsilon_{total}=\\varepsilon_1+\\varepsilon_2$. So, when adding quantities with error, the absolute errors should add together. \n",
    "\n",
    "### <span style=\"color:red\"> Exercise 3 </span> (5 pts)\n",
    "\n",
    "I measure the length of a rope by dividing it in two sections (so that I can use my measuring tape, which is shorter than the rope). The first part measures $311\\pm 0.5$ inches, and the second measures $214 \\pm 0.25$ inches. What is the length of the full rope, including the error?\n",
    "\n",
    "<h3 style=\"background-color:lightblue\"> Write Answers for Exercise 3 Below </h3>"
   ]
  },
  {
   "cell_type": "markdown",
   "id": "0dbf7f5f-edc1-4a43-9d2b-37d452b2ceca",
   "metadata": {},
   "source": []
  },
  {
   "cell_type": "markdown",
   "id": "4b5542e9-64b2-460d-aca0-085063e49dba",
   "metadata": {},
   "source": [
    "### Multiplication\n",
    "\n",
    "What about if the numbers are multiplied? For example, if you know the length and width of a rectangular sheet of paper, how do you find the error associated with calculating the area? Let's try the formula again:\n",
    "\n",
    "$$\n",
    "(x_1+\\varepsilon_1)(x_2+\\varepsilon_2) = x_1x_2 +x_1\\varepsilon_2 + x_2\\varepsilon_1 + \\varepsilon_1\\varepsilon_2.\n",
    "$$\n",
    "\n",
    "That is not such a tidy formula. There are a couple things we can do to make it easy on ourselves, though. For one thing, in any reasonable computation, the error is much smaller than the actual quantity being measured. It follows that the product of two errors should be much, much smaller than the product of the two quantities. Symbolically, we can write this as $\\varepsilon_1\\varepsilon_2<<x_1x_2$. So, we should be safe ignoring that term in the equation:\n",
    "\n",
    "$$\n",
    "(x_1+\\varepsilon_1)(x_2+\\varepsilon_2) \\approx x_1x_2 +x_1\\varepsilon_2 + x_2\\varepsilon_1.\n",
    "$$\n",
    "\n",
    "We can do better yet. Let's do just a bit of factoring:\n",
    "\n",
    "\\begin{align*}\n",
    "x_1x_2 +x_1\\varepsilon_2 + x_2\\varepsilon_1 &= x_1x_2\\left(1+\\frac{\\varepsilon_2}{x_2}+\\frac{\\varepsilon_1}{x_1}\\right)\\\\\n",
    "&=x_1x_2(1+\\eta_2+\\eta_1)\\\\\n",
    "&=x_1x_2(1+\\eta_{total})\n",
    "\\end{align*}\n",
    "\n",
    "There is our rule! instead of the *absolute* errors adding together, the *relative* errors add when multiplying. This is another reason why relative error is so popular: it is easier to propagate a relative error through a product.\n",
    "\n",
    "### <span style=\"color:red\"> Exercise 4 </span> (10 pts)\n",
    "\n",
    "![img](https://raw.githubusercontent.com/TheDataScienceLabs/DSLab_Calculus/main/book/labs/4_measure_tall_things/d_error_analysis/notepad_dimensions.jpg?raw=true)\n",
    "\n",
    "\n",
    "I measured a page from my notepad. The width was $76\\pm 0.25$ mm and the length was $118.5\\pm 0.25$ mm. That means the width has a relative error of $\\frac{0.25}{76}=0.33\\%$.\n",
    "\n",
    "- Give the relative error of the length\n",
    "- Find the area of the notepad, assuming it is a rectangle. Give your answer with a relative error.\n",
    "- Besides the error in measuring the length and width, what other major form of error will affect the answer, if we take that as the area of the page?\n",
    "\n",
    "<h3 style=\"background-color:lightblue\"> Write Answers for Exercise 4 Below </h3>"
   ]
  },
  {
   "cell_type": "markdown",
   "id": "d0cb9a13-d4b5-498e-b4b2-7e616894160a",
   "metadata": {},
   "source": []
  },
  {
   "cell_type": "markdown",
   "id": "22c3a247-0d50-4cfa-aa2c-0e0e40a75bf4",
   "metadata": {},
   "source": [
    "## <span style=\"color:orange;\"> 3. The Derivative Rule for Error Propagation </span> "
   ]
  },
  {
   "cell_type": "markdown",
   "id": "966669e6-4aea-472d-bab0-9f9122a4b1f5",
   "metadata": {},
   "source": [
    "We have shared two rules for combining errors, when adding and when multiplying. There is just one more tool you need to be able to propagate errors through a great variety of computations. That is a general rule for how to propagate an error through a general function.\n",
    "\n",
    "### Errors in linear functions\n",
    "\n",
    "Let's do the simplest function we can think of first. Suppose you know the absolute error in $x$ is $\\varepsilon=0.1$ and we wish to know the error in computing $y=mx+b$. Let's assume for now that $m$ is positive. The largest $x$ can possibly be is $x+0.1$, so the largest $y$ can be is $m (x+0.1)+b= mx+b+0.1m$. The smallest $x$ can be is $x-0.1$, so the smallest $y$ can be is $m (x-0.1) +b = mx+b-0.1m$. That is, we could write \n",
    "\\begin{align*}\n",
    "y= mx+b \\pm 0.1m.\n",
    "\\end{align*}\n",
    "The absolute error was multiplied by the slope of the line; the intercept had nothing to do with it.\n",
    "\n",
    "### <span style=\"color:red\"> Exercise 5 </span> (5 pts)\n",
    "\n",
    "The temperature outside is 42 degrees Fahrenheit, plus or minus one degree Fahrenheit. What is the temperature (with absolute error) in degrees Celsius?\n",
    "\n",
    "<h3 style=\"background-color:lightblue\"> Write Answers for Exercise 5 Below </h3>"
   ]
  },
  {
   "cell_type": "markdown",
   "id": "9053f177-3c74-4dbd-b190-3f6bfb76fc11",
   "metadata": {},
   "source": []
  },
  {
   "cell_type": "markdown",
   "id": "8dfb7a46-8b42-4c15-a9e7-86fd19347351",
   "metadata": {},
   "source": [
    "## <span style=\"color:orange;\"> 4. Errors in General Functions </span> "
   ]
  },
  {
   "cell_type": "markdown",
   "id": "c2a521fe-739e-48e0-b77d-90266cef2dbe",
   "metadata": {},
   "source": [
    "If our computations are of any value at all, we have to assume that the input error is pretty small, compared with the other numbers in the computation. Therefore, if a function is differentiable, a linear approximation should be pretty good. That is,\n",
    "\n",
    "$$\n",
    "f(x+\\varepsilon) \\approx f(x) + f'(x)\\varepsilon.\n",
    "$$\n",
    "\n",
    "This lets us propagate errors through any function we can differentiate! Let's do an example: if we measure $x=3\\pm0.05$, what is $y=x^2+6x-3$ with the error? Our best estimate is $3^2+6\\times 3-3=24$, and the error is $f'(3)0.05=12*0.05=0.6$. So, we should report the answer as $y=24\\pm 0.6$.\n",
    "\n",
    "### <span style=\"color:red\"> Exercise 6 </span> (5 pts)\n",
    "\n",
    "For each function and measurement below, report the value of the result with its error.\n",
    "\n",
    " 1. $x=\\pi/6\\pm 0.2$, $y=\\sin(x)$\n",
    " 2. $x=2\\pm 0.05$, $y=e^x$\n",
    " 3. $x=3\\pm 0.01$, $y=x^2$\n",
    " 4. $x=3\\pm 1\\%$, $y=x^2$ \n",
    " \n",
    "<h3 style=\"background-color:lightblue\"> Write Answers for Exercise 6 Below </h3>"
   ]
  },
  {
   "cell_type": "markdown",
   "id": "a2d0bea4-5d31-4745-a37d-3f7803c714b9",
   "metadata": {},
   "source": []
  },
  {
   "cell_type": "markdown",
   "id": "c73d1e43-1779-496b-9a6c-7313e5f01075",
   "metadata": {},
   "source": [
    "## <span style=\"color:orange;\"> 5. A Caution About Small Derivatives </span> "
   ]
  },
  {
   "cell_type": "markdown",
   "id": "e0a44f38-fd9f-419b-bcd6-e14c2bccfb43",
   "metadata": {},
   "source": [
    "Here is an example which shows the limitations of this strategy. What if $x=0\\pm 0.1$, and $y=\\cos(x)$? This approximation would tell you the error should be $0.1f'(0)=-0.1\\sin(0)=0$. Is it accurate to say the error is zero in this case? That was a rhetorical question. The answer is no.\n",
    "\n",
    "### <span style=\"color:red\"> Exercise 7 </span> (10 pts)\n",
    "\n",
    "Explain why it would be wrong to say the error is zero in this case. What is the smallest number $y$ could be? What is the biggest number $y$ could be? Answer in at least 3 sentences.\n",
    "\n",
    "<h3 style=\"background-color:lightblue\"> Write Answers for Exercise 7 Below </h3>"
   ]
  },
  {
   "cell_type": "markdown",
   "id": "bd5e2b55-eeeb-4ac6-8d98-ba416f4bafae",
   "metadata": {},
   "source": []
  },
  {
   "cell_type": "markdown",
   "id": "728e94e0-d739-4fca-8e1e-83132cf1b65a",
   "metadata": {},
   "source": [
    "### How to make the method work, even if the derivative is zero\n",
    "\n",
    "This method of error propagation is based on the approximation \n",
    "$\n",
    "f(x+\\varepsilon) \\approx f(x) +f'(x)\\varepsilon.\n",
    "$\n",
    "If you know Taylor series, you can probably come up with an even better approximation involving $f''(x)$. We won't explore that any further today, but it is good to be aware of it."
   ]
  },
  {
   "cell_type": "markdown",
   "id": "e7416368-45a8-4048-bf50-7da8044f4847",
   "metadata": {},
   "source": [
    "## <span style=\"color:orange;\"> 6. Analyzing the Height Measurements </span> "
   ]
  },
  {
   "cell_type": "markdown",
   "id": "5fdaa246-2fc2-4fe2-9c36-5b083bc6fbe4",
   "metadata": {},
   "source": [
    "Remember the formula we introduced in the previous lab for the height of a building,\n",
    "$\n",
    "h = \\frac{r}{\\cot \\theta -\\cot \\phi}+k.\n",
    "$\n",
    "This depends upon four different values, $r$, $k$, $\\theta$, and $\\phi$. Besides modeling error, every error in our measurement is due to error in one of these values.\n",
    "\n",
    "### <span style=\"color:red\"> Exercise 8 </span> (20 pts)\n",
    "\n",
    "Identify three sources of error which affected your measurement of $r$, and give an estimate of the magnitude of each error. Identify the biggest source of error in your measurement of $k$.\n",
    "\n",
    "Give the errors in $r$ and $k$ as both relative and absolute errors.\n",
    "\n",
    "<h3 style=\"background-color:lightblue\"> Write Answers for Exercise 8 Below </h3>"
   ]
  },
  {
   "cell_type": "markdown",
   "id": "19b48101-41fb-433d-83c5-ac7b9668def3",
   "metadata": {},
   "source": []
  },
  {
   "cell_type": "markdown",
   "id": "174b5e84-e755-4788-bffc-15171a5d0c81",
   "metadata": {},
   "source": [
    "### Errors in angle measurements\n",
    "\n",
    "There are a few things which can affect the precision of $\\theta$ and $\\phi$. This is compounded by the fact that, depending on how you chose to design your inclinometer, you might be using different components of acceleration to do your computation. We will work through an example together, but keep in mind that your formulas might be different.\n",
    "\n",
    "One way to compute the angle would be \n",
    "$\n",
    "\\theta = \\arctan \\frac{\\sqrt{a_x^2 + a_z^2}}{a_y}.\n",
    "$\n",
    "Let's say you have only three digits for each component -- so, the error in each component of acceleration is $\\pm 0.001$ gravities of acceleration. What would be the error in $\\theta$? Let's take some derivatives. First, let's find the error due to $a_x$. We will apply the derivative rule. When taking the derivative, we will treat the other numbers as constants. Depending on your background in calculus, you may recognize this as a \"partial derivative\". Here is what we find:\n",
    "\n",
    "\\begin{align*}\n",
    "\\text{Error due to }a_x &= \\frac{\\partial \\theta}{\\partial a_x} \\varepsilon_x \\\\\n",
    "&= \\frac{a_x a_y \\varepsilon_x}{ \\left(a_y^2 + a_x^2 + a_z^2\\right) \\sqrt{a_x^2 + a_z^2}}.\n",
    "\\end{align*}\n",
    "\n",
    "Some things make this nicer, like we know that there is one gravity of acceleration total, so $\\left(a_y^2 + a_x^2 + a_z^2\\right)=1$. That lets us simplify to \n",
    "\n",
    "$\n",
    "\\text{Error due to }a_x  = \\frac{a_x a_y \\varepsilon_x}{\\sqrt{a_x^2 + a_z^2}}.\n",
    "$\n",
    "\n",
    "### <span style=\"color:red\"> Exercise 9 </span> (10 pts)\n",
    "\n",
    "Write some code to compute this error for the specific values\n",
    "\\begin{align*}\n",
    "a_x &= 0.608\\\\\n",
    "a_y &= 0.839\\\\\n",
    "a_z &= 0.033\\\\\n",
    "\\varepsilon_x &= 0.001,\n",
    "\\end{align*}\n",
    "which I collected using my own inclinometer. As always, the number that calculus gives is in radians. Convert the answer to degrees; your answer should be about 0.05 degrees.\n",
    "\n",
    "<h3 style=\"background-color:lightblue\"> Write Answers for Exercise 9 Below </h3>"
   ]
  },
  {
   "cell_type": "code",
   "execution_count": null,
   "id": "e2e115d6-e38b-40fc-a691-669c926287f4",
   "metadata": {},
   "outputs": [],
   "source": []
  },
  {
   "cell_type": "markdown",
   "id": "7fb34a49-da28-4b5e-8c05-3f2791f833e7",
   "metadata": {},
   "source": [
    "### The partial derivative rule\n",
    "\n",
    "Of course, the other components of acceleration will also affect the angle measurement. We can just add these to the error, to get an estimate of the total error:\n",
    "\n",
    "$\n",
    "\\varepsilon_\\theta = \\frac{\\partial \\theta}{\\partial a_x} \\varepsilon_x + \\frac{\\partial \\theta}{\\partial a_y} \\varepsilon_y + \\frac{\\partial \\theta}{\\partial a_z} \\varepsilon_z.\n",
    "$\n",
    "\n",
    "We don't know if the errors $\\varepsilon_x$, $\\varepsilon_y$, and $\\varepsilon_z$ are positive or negative. To be safe, we should take the absolute value of each term:\n",
    "\n",
    "$\n",
    "\\varepsilon_\\theta = \\left|\\frac{\\partial \\theta}{\\partial a_x}\\right| \\varepsilon_x + \\left|\\frac{\\partial \\theta}{\\partial a_y}\\right| \\varepsilon_y + \\left|\\frac{\\partial \\theta}{\\partial a_z}\\right| \\varepsilon_z.\n",
    "$\n",
    "This is the **partial derivative rule** for error propagation. \n",
    "\n",
    "Using the same values as exercise 9, this gives $\\varepsilon_\\theta = 0.09$ degrees.\n",
    "\n",
    "### <span style=\"color:red\"> Exercise 10 </span> (25 pts)\n",
    "\n",
    "What do you think of this number? When you took your measurements, do you think you managed to orient your inclinometer to within a tenth of a degree?\n",
    "\n",
    "In three to five sentences, explain what happened here using the language of accuracy and precision. How precise is this method you used, and how accurate?\n",
    "\n",
    "Make a better estimate for $\\varepsilon_\\theta$, based on how accurately you think you were holding the inclinometer during measurement. give your estimate in degrees and in radians.\n",
    "\n",
    "<h3 style=\"background-color:lightblue\"> Write Answers for Exercise 10 Below </h3>"
   ]
  },
  {
   "cell_type": "markdown",
   "id": "b0196c83-06e9-4eab-ad0d-d6378ac209f9",
   "metadata": {},
   "source": []
  },
  {
   "cell_type": "markdown",
   "id": "509c66ac-b29b-4d80-8ae3-f41f4ad47d0a",
   "metadata": {},
   "source": [
    "## <span style=\"color:orange;\"> 7. A Final Error Estimate </span> "
   ]
  },
  {
   "cell_type": "markdown",
   "id": "b8c2b58e-f709-49f7-80ac-b76459f05a81",
   "metadata": {},
   "source": [
    "Now we have values for $\\varepsilon_r$, $\\varepsilon_k$, $\\varepsilon_\\theta$, and $\\varepsilon_\\phi$ (we can use the same estimate for $\\varepsilon_\\theta$ and $\\varepsilon_\\phi$). We can apply the partial derivative rule to find the total error in our measurement of height:\n",
    "\n",
    "$\n",
    "\\varepsilon_h = \\left|\\frac{\\partial h}{\\partial r}\\right| \\varepsilon_r + \\left|\\frac{\\partial h}{\\partial k}\\right| \\varepsilon_k + \\left|\\frac{\\partial h}{\\partial \\theta}\\right| \\varepsilon_\\theta + \\left|\\frac{\\partial h}{\\partial \\phi}\\right| \\varepsilon_\\phi.\n",
    "$\n",
    "\n",
    "Let's not take all those derivarives by hand. In the next lab, we will show a tool called \"Sympy\", which is used for doing symbolic computations in Python. Just as a demonstration, here is how we can use it to find these derivatives without much work."
   ]
  },
  {
   "cell_type": "code",
   "execution_count": null,
   "id": "c3ae14ed-cd5a-40bd-9d16-5f809b25eaee",
   "metadata": {},
   "outputs": [],
   "source": [
    "import sympy\n",
    "from sympy.abc import r, k, theta, phi\n",
    "\n",
    "h = r/(sympy.cot(theta)-sympy.cot(phi)) + k\n",
    "h"
   ]
  },
  {
   "cell_type": "code",
   "execution_count": null,
   "id": "e7bdaa53-84be-4978-b2fd-372802b8789a",
   "metadata": {},
   "outputs": [],
   "source": [
    "h.diff(r)"
   ]
  },
  {
   "cell_type": "code",
   "execution_count": null,
   "id": "dfab15dd-3837-4fc3-ae12-537989aed4f6",
   "metadata": {},
   "outputs": [],
   "source": [
    "h.diff(k)"
   ]
  },
  {
   "cell_type": "code",
   "execution_count": null,
   "id": "950da849-0638-424e-978f-a3bcf178a724",
   "metadata": {},
   "outputs": [],
   "source": [
    "h.diff(theta).simplify()"
   ]
  },
  {
   "cell_type": "code",
   "execution_count": null,
   "id": "ba36ac95-4f0a-4905-b058-77bd9cc0656f",
   "metadata": {},
   "outputs": [],
   "source": [
    "h.diff(phi).simplify()"
   ]
  },
  {
   "cell_type": "markdown",
   "id": "04e188c5-a732-4633-82dc-fe8d905d1dc8",
   "metadata": {},
   "source": [
    "Particularly with some of these trig functions, this can be a good way to prevent arithmetic errors. Here is what we just computed:\n",
    "\\begin{align*}\n",
    "\\frac{\\partial h}{\\partial r} &= \\frac{1}{\\cot\\theta-\\cot\\phi}\\\\\n",
    "\\frac{\\partial h}{\\partial k} &= 1\\\\\n",
    "\\frac{\\partial h}{\\partial \\theta} &= \\frac{r}{\\sin^2\\theta (\\cot\\theta-\\cot\\phi)^2}\\\\\n",
    "\\frac{\\partial h}{\\partial \\phi} &= -\\frac{r}{\\sin^2\\phi (\\cot\\theta-\\cot\\phi)^2}.\n",
    "\\end{align*}\n",
    "\n",
    "Combining these with the partial derivative rule (and assuming $\\varepsilon_\\theta = \\varepsilon_\\phi$), we get:\n",
    "$\n",
    "\\varepsilon_h = \\frac{1}{\\cot\\theta-\\cot\\phi} \\varepsilon_r + \\varepsilon_k + \\frac{r\\left(\\csc^2\\theta+\\csc^2\\phi\\right)}{(\\cot\\theta-\\cot\\phi)^2} \\varepsilon_\\theta.\n",
    "$\n",
    "\n",
    "### <span style=\"color:red\"> Exercise 11 </span> (45 pts)\n",
    "\n",
    "Copy the code you wrote in lab 4c to load up the actual values you measured. Use the above formula to find, for each measurement, the error due to $r$, $k$ and $\\theta$. Report all the heights you got together with their combined error. Write a two-paragraph summary of your findings, mentioning which source of error had the biggest effect on your measurement. Which of your measurements was the most precise? The least precise?\n",
    "\n",
    "<h3 style=\"background-color:lightblue\"> Write Answers for Exercise 11 Below </h3>"
   ]
  },
  {
   "cell_type": "code",
   "execution_count": null,
   "id": "128fe8bd-7033-4659-9fc3-bfd83a8e4b55",
   "metadata": {},
   "outputs": [],
   "source": []
  }
 ],
 "metadata": {
  "kernelspec": {
   "display_name": "Python 3 (ipykernel)",
   "language": "python",
   "name": "python3"
  },
  "language_info": {
   "codemirror_mode": {
    "name": "ipython",
    "version": 3
   },
   "file_extension": ".py",
   "mimetype": "text/x-python",
   "name": "python",
   "nbconvert_exporter": "python",
   "pygments_lexer": "ipython3",
   "version": "3.11.5"
  }
 },
 "nbformat": 4,
 "nbformat_minor": 5
}
