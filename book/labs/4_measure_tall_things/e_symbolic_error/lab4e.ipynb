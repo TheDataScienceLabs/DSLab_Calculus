{
 "cells": [
  {
   "cell_type": "markdown",
   "id": "7a25e6f4-d328-4741-8705-016357c5250a",
   "metadata": {},
   "source": [
    "# Week 11: Analyzing the Error Using Symbolic Method (SymPy)\n",
    "<font size=\"6\"> Laboratory 4e  </font> <br>\n",
    "<font size=\"3\"> Last updated July 26, 2022 </font>"
   ]
  },
  {
   "cell_type": "markdown",
   "id": "1f998c13-3209-46e5-9c23-e836b2dc1dd8",
   "metadata": {},
   "source": [
    "## <span style=\"color:orange;\"> 00. Content </span>"
   ]
  },
  {
   "cell_type": "markdown",
   "id": "f6805add-dbfd-43f9-965d-49b94f03fc44",
   "metadata": {},
   "source": [
    "<font size=\"5\"> Mathematics </font>\n",
    "- Error analysis\n",
    "- Limits\n",
    "- Integrals\n",
    "- Derivatives\n",
    "     \n",
    "<font size=\"5\"> Programming Skills </font>\n",
    "- Number type: float\n",
    "- Compute limits, integrals, and derivatives using SymPy\n",
    "    \n",
    "<font size=\"5\"> Embedded Systems </font>\n",
    "- N/A"
   ]
  },
  {
   "cell_type": "markdown",
   "id": "c75abc0f-6e06-460d-896d-4c19dc70fc73",
   "metadata": {},
   "source": [
    "## <span style=\"color:orange;\"> 0. Required Hardware </span>"
   ]
  },
  {
   "cell_type": "markdown",
   "id": "964068ca-e8a4-470a-8170-e53196d1aab5",
   "metadata": {},
   "source": [
    "- N/A"
   ]
  },
  {
   "cell_type": "markdown",
   "id": "479f8a71-173b-462f-b2ae-9c022bcd75e5",
   "metadata": {},
   "source": [
    "<h3 style=\"background-color:lightblue\"> Copy the file `student_info.py` into the folder you are working in, then run this cell to put your name and email into this document.</h3>"
   ]
  },
  {
   "cell_type": "code",
   "execution_count": null,
   "id": "597b63a5-57bf-4cbc-9410-b45ef5e39b85",
   "metadata": {},
   "outputs": [],
   "source": [
    "from student_info import show_info\n",
    "show_info()"
   ]
  },
  {
   "cell_type": "markdown",
   "id": "66acc3f2-cb44-417c-9fc4-25c41e0d1f23",
   "metadata": {},
   "source": [
    "## <span style=\"color:orange;\"> 1. Floating Point Numbers </span> "
   ]
  },
  {
   "cell_type": "markdown",
   "id": "01c843c2-042b-4cad-bbd5-d7832d61fd34",
   "metadata": {},
   "source": [
    "Unfortunately, it's not possible to represent every number exactly in a computer. For numbers which are not whole numbers, Python only keeps a certain number of digits. This way of storing numbers is called *floating point*, and numbers stored this way are called *floating point numbers*. In Python, the type for floating point numbers is `float`."
   ]
  },
  {
   "cell_type": "markdown",
   "id": "15f402a1-cbca-42dc-bdf3-a976874ac741",
   "metadata": {},
   "source": [
    "Floating point numbers have some quirks you need to be aware of. For example, we know that 0.1+0.2=0.3, but look what Python tells us:"
   ]
  },
  {
   "cell_type": "code",
   "execution_count": null,
   "id": "64c3a3c7-7856-46de-aa26-ef578f184666",
   "metadata": {},
   "outputs": [],
   "source": [
    "0.1+0.2"
   ]
  },
  {
   "cell_type": "markdown",
   "id": "069634a0-0300-4847-8a3d-e3ab6a0813b6",
   "metadata": {},
   "source": [
    "It is slightly wrong. What is going on here? Floating point numbers are stored in binary, and in binary, 0.1 and 0.2 are infinite repeating decimals. In binary, we would write the number one tenth as 0.0001100110011... and so on forever. We don't have an infinite amount of memory available on our computers, so Python only stores 53 binary digits, which introduces roundoff error. The relative error is at most $2^{-53} = 1.11\\times 10^{-16}$, so numbers are not reliable beyond sixteen places. Sure enough, in the example above, we got an error sixteen places after the 3."
   ]
  },
  {
   "cell_type": "code",
   "execution_count": null,
   "id": "cc2b1375-99b4-4d1e-9d3c-c495a329a663",
   "metadata": {},
   "outputs": [],
   "source": [
    "2**-53"
   ]
  },
  {
   "cell_type": "markdown",
   "id": "3f6998db-f18e-453c-beea-5ea8e186a7ec",
   "metadata": {},
   "source": [
    "### <span style=\"color:red\"> Exercise 1 </span> (5 pts)\n",
    "\n",
    "What happens if you multiply 0.1 and 0.2 by 10, add them, and then divide by 10? Mathematically, $0.1+0.2 = \\frac{0.1(10)+0.2(10)}{10}$, so do you still get a slightly wrong answer with floating point numbers? \n",
    "\n",
    "<h3 style=\"background-color:lightblue\"> Write Answers for Exercise 1 Below </h3>"
   ]
  },
  {
   "cell_type": "code",
   "execution_count": null,
   "id": "65b95a31-4810-463d-9451-950e6f8c0ffe",
   "metadata": {},
   "outputs": [],
   "source": [
    "# Type out the equation to see its output"
   ]
  },
  {
   "cell_type": "markdown",
   "id": "69a4a3b7-8f08-421d-8061-a060e99de5dd",
   "metadata": {},
   "source": [
    "## <span style=\"color:orange;\"> 2. Symbolic Computation </span> "
   ]
  },
  {
   "cell_type": "markdown",
   "id": "476f937f-14cf-4373-a4e9-2efbe858432a",
   "metadata": {},
   "source": [
    "Most of the time, working with numbers in a computer, close enough is good enough. We use floating point numbers, and they almost never give us any trouble. There are times, though, that you want the exact answer. That's when you need symbolic computation. For this lab, instead of Numpy (short for \"numerical Python\") we will use Sympy  (\"symbolic Python\"). Let's compare what happens when we ask each of them for a square root:"
   ]
  },
  {
   "cell_type": "code",
   "execution_count": null,
   "id": "ab8252c2-527a-4cd0-b2ea-414602f87d64",
   "metadata": {},
   "outputs": [],
   "source": [
    "import numpy as np\n",
    "import sympy\n",
    "\n",
    "display(np.sqrt(12))\n",
    "display(sympy.sqrt(12))"
   ]
  },
  {
   "cell_type": "markdown",
   "id": "c2b57437-9a4e-47c5-a63e-f6688cd0a64f",
   "metadata": {},
   "source": [
    "Numpy gets us the floating point representation of $\\sqrt{12}$ in no time flat. Sympy instead keeps an exact answer, though it kindly simplifies it to $2\\sqrt{3}$. Sympy is more than capable of providing a decimal approximation, to whatever level of precision you like:"
   ]
  },
  {
   "cell_type": "code",
   "execution_count": null,
   "id": "516739fa-ef96-488a-8bf6-f44165bfafde",
   "metadata": {},
   "outputs": [],
   "source": [
    "sympy.sqrt(12).evalf(100)"
   ]
  },
  {
   "cell_type": "markdown",
   "id": "97ef8dcb-fdee-4279-8967-9aec3e00d2c1",
   "metadata": {},
   "source": [
    "Of course, you and I will probably never need 100 digits of precision for anything, but if we ever did need it, it's there. The real power of Sympy is that you don't need to ever work with a decimal representation. For example, let's compare how Numpy and Sympy handle this procedure:"
   ]
  },
  {
   "cell_type": "code",
   "execution_count": null,
   "id": "ed97c533-bb67-4ab7-82a1-2dfd4eb979ee",
   "metadata": {},
   "outputs": [],
   "source": [
    "for x in [np.sqrt(12), sympy.sqrt(12)]:\n",
    "    display((x+1)*(x-1))"
   ]
  },
  {
   "cell_type": "markdown",
   "id": "e355c889-f8d5-449c-a892-43203fff29c4",
   "metadata": {},
   "source": [
    "We are already seeing a little bit of floating point error creep in with Numpy due to the cancellation in the `x-1` term. Sympy gets even more attractive when we use its ability to simplify:"
   ]
  },
  {
   "cell_type": "code",
   "execution_count": null,
   "id": "cce62a82-4c4b-4ef9-9e96-fc013b1fe039",
   "metadata": {},
   "outputs": [],
   "source": [
    "((x+1)*(x-1)).simplify()"
   ]
  },
  {
   "cell_type": "markdown",
   "id": "6172c610-5236-4023-8bb2-25dff1092377",
   "metadata": {},
   "source": [
    "It got us the exact answer, no floating point error at all."
   ]
  },
  {
   "cell_type": "markdown",
   "id": "37c18d6b-150b-476d-80e0-317fd381920f",
   "metadata": {},
   "source": [
    "### Formulas\n",
    "\n",
    "As you saw in lab 4d, we can also use Sympy to manipulate formulas. This can make it way easier to work with big expressions and prevent errors. It's usually pretty simple to do, too. All we need is to create a variable using Sympy. There are two ways to do this. For common variables, you can use the `sympy.abc` module:"
   ]
  },
  {
   "cell_type": "code",
   "execution_count": null,
   "id": "0bb249b8-85a2-466c-ab26-8b2f771faf53",
   "metadata": {},
   "outputs": [],
   "source": [
    "from sympy.abc import x, y, r, theta, phi\n",
    "\n",
    "display(x, y, r, theta, phi)"
   ]
  },
  {
   "cell_type": "markdown",
   "id": "d1ec4835-584b-4f59-b4d0-50cdc2b49754",
   "metadata": {},
   "source": [
    "For more complicated or uncommon symbols, you can use the function `sympy.symbols` to specify them using a bit of Latex."
   ]
  },
  {
   "cell_type": "code",
   "execution_count": null,
   "id": "3b92ee3e-a0f8-4c7b-b498-7756a784034b",
   "metadata": {},
   "outputs": [],
   "source": [
    "e_r = sympy.symbols(r'\\varepsilon_r')\n",
    "e_theta = sympy.symbols(r'\\varepsilon_\\theta')\n",
    "display(e_r, e_theta)"
   ]
  },
  {
   "cell_type": "markdown",
   "id": "2b117987-67bf-4150-9e79-3f4e7486e477",
   "metadata": {},
   "source": [
    "Notice we used a \"raw string\" with the `r'...'` syntax, so that we don't have to worry about Python capturing any backslashes (backslash is also an escape character in Python, and it does different things from Latex).\n",
    "\n",
    "Now that we have the variables, we can just start doing stuff with them."
   ]
  },
  {
   "cell_type": "code",
   "execution_count": null,
   "id": "84e2198b-399a-461c-90c1-5a81f64ab9df",
   "metadata": {},
   "outputs": [],
   "source": [
    "fraction = (x**2 - y**2) / (x-y)\n",
    "display(fraction, fraction.simplify())"
   ]
  },
  {
   "cell_type": "markdown",
   "id": "56c35e21-34e5-4412-b237-3811f11f9754",
   "metadata": {},
   "source": [
    "When you do any operation with a Sympy object, the result becomes another Sympy object. That lets us use normal Python syntax without anything extra."
   ]
  },
  {
   "cell_type": "code",
   "execution_count": null,
   "id": "8cb05d10-1fde-4aa2-9cf3-4afc546b005e",
   "metadata": {},
   "outputs": [],
   "source": [
    "# x is a Sympy object, so x*2 is as well\n",
    "display(x*2)\n",
    "# then when we divide that by 3, we get another Sympy object\n",
    "display((x*2)/3)\n",
    "# and because of the order of operations, that's the same as if we dropped the parentheses\n",
    "display(x*2/3)"
   ]
  },
  {
   "cell_type": "markdown",
   "id": "f5ce3c18-ff6b-479d-a055-5f1582cedb8d",
   "metadata": {},
   "source": [
    "You have to watch out, though: if you combine things which are not Sympy objects, Python will do its normal thing with them. That's why this leads to a floating point in your answer:"
   ]
  },
  {
   "cell_type": "code",
   "execution_count": null,
   "id": "500149f7-4492-4adf-93dd-22017c0f6f0b",
   "metadata": {},
   "outputs": [],
   "source": [
    "x*(2/3)"
   ]
  },
  {
   "cell_type": "markdown",
   "id": "3cc8cacd-119e-4d69-a752-f09a299f178b",
   "metadata": {},
   "source": [
    "Usually you can get around this by changing some parentheses. If necessary, you can also use `sympy.S` to convert any number into a Sympy number."
   ]
  },
  {
   "cell_type": "code",
   "execution_count": null,
   "id": "8fa568c4-44b7-4a4b-ab9b-28a0063f2172",
   "metadata": {},
   "outputs": [],
   "source": [
    "sympy.S(2)/3"
   ]
  },
  {
   "cell_type": "markdown",
   "id": "48b85315-b271-4daf-8ffd-d1d150d516a5",
   "metadata": {},
   "source": [
    "### <span style=\"color:red\"> Exercise 2 </span> (10 pts)\n",
    "\n",
    "The expression below (`((22/7)**2 - sympy.pi**2)**(1/2)`) has multiple floating point numbers which snuck into the computation. Rewrite it so that there are no floating points.\n",
    "\n",
    "<h3 style=\"background-color:lightblue\"> Write Answers for Exercise 2 Below </h3>"
   ]
  },
  {
   "cell_type": "code",
   "execution_count": null,
   "id": "cef44582-7631-41eb-a6db-4393618a0dba",
   "metadata": {},
   "outputs": [],
   "source": [
    "((22/7)**2 - sympy.pi**2)**(1/2)"
   ]
  },
  {
   "cell_type": "markdown",
   "id": "641c5d0c-6154-4160-a217-88d857d9a410",
   "metadata": {},
   "source": [
    "## <span style=\"color:orange;\"> 3. A Practical Computation </span> "
   ]
  },
  {
   "cell_type": "markdown",
   "id": "37d1cd5f-793a-4597-aaa5-5a602ea6d21e",
   "metadata": {},
   "source": [
    "Now that you know the basics of Sympy, let's work together to use it to answer a potentially-tricky question which came up in lab 9. We have an expression for the error in our measurement, and we want to know how we should do the experiment to minimize the error. We can start with the formula."
   ]
  },
  {
   "cell_type": "code",
   "execution_count": null,
   "id": "846da26f-23d4-4b1c-bfbe-7563b4c148a6",
   "metadata": {},
   "outputs": [],
   "source": [
    "y = r/(sympy.cot(theta)-sympy.cot(phi))\n",
    "y"
   ]
  },
  {
   "cell_type": "markdown",
   "id": "477025ab-d6b0-427f-94a0-d5028ead12be",
   "metadata": {},
   "source": [
    "We can ask it for derivatives using builtin functions (I made a few errors when doing this one by hand earlier. It definitely makes sense to use a computer to check the answers here)."
   ]
  },
  {
   "cell_type": "code",
   "execution_count": null,
   "id": "244adb97-a1f7-4d43-a0b1-e9cf4d568a26",
   "metadata": {},
   "outputs": [],
   "source": [
    "y.diff(theta)"
   ]
  },
  {
   "cell_type": "code",
   "execution_count": null,
   "id": "294953ed-eb5b-4a27-afd3-a113effd88c9",
   "metadata": {},
   "outputs": [],
   "source": [
    "y.diff(phi)"
   ]
  },
  {
   "cell_type": "markdown",
   "id": "dd93cd49-5916-4bf7-905a-421080704642",
   "metadata": {},
   "source": [
    "Then make an expression for the combined error."
   ]
  },
  {
   "cell_type": "code",
   "execution_count": null,
   "id": "1197efce-fe90-400b-a1f7-47b6002a0c00",
   "metadata": {},
   "outputs": [],
   "source": [
    "y_error = e_r * y.diff(r) + e_theta * (y.diff(theta) - y.diff(phi))\n",
    "y_error"
   ]
  },
  {
   "cell_type": "markdown",
   "id": "a4b3ab28-ee12-49ed-b620-cfc0e6af80c8",
   "metadata": {},
   "source": [
    "That looks a bit messy. Let's have the computer simplify it before we go on."
   ]
  },
  {
   "cell_type": "code",
   "execution_count": null,
   "id": "ebc875f9-8175-4845-83ba-020ac2276d2e",
   "metadata": {},
   "outputs": [],
   "source": [
    "y_error = y_error.simplify()\n",
    "y_error"
   ]
  },
  {
   "cell_type": "markdown",
   "id": "ac4c89bb-e11d-46c5-99b9-7b2225489b29",
   "metadata": {},
   "source": [
    "Here is something which stands out about this result: the formula for `y` appears in our answer for the error. Let's divide it out to get the relative error."
   ]
  },
  {
   "cell_type": "code",
   "execution_count": null,
   "id": "ba87ffec-3738-4f9d-a537-64502172ef1e",
   "metadata": {},
   "outputs": [],
   "source": [
    "relative_error = (y_error/y).simplify()\n",
    "relative_error"
   ]
  },
  {
   "cell_type": "markdown",
   "id": "7044830f-6cec-4cad-b0af-b00ebfea961e",
   "metadata": {},
   "source": [
    "A bit nicer. Now, here is where we can do something that would be a real pain by hand but is easy by computer. I don't like that the answer depends on $\\theta$ and $\\phi$, since I can't control those. I would rather have an answer which depends on $y$ (which is fixed) and $z$ and $r$ which I can control. Let's do it:"
   ]
  },
  {
   "cell_type": "code",
   "execution_count": null,
   "id": "e951163a-1c55-4e86-9d5c-d9aee80d1e77",
   "metadata": {},
   "outputs": [],
   "source": [
    "from sympy.abc import y, z"
   ]
  },
  {
   "cell_type": "code",
   "execution_count": null,
   "id": "fed4ace7-594f-4bcc-80cb-1b72a3589c15",
   "metadata": {},
   "outputs": [],
   "source": [
    "relative_error = relative_error.replace(sympy.cot(phi), z/y)\n",
    "relative_error"
   ]
  },
  {
   "cell_type": "markdown",
   "id": "7de7e1db-bb5f-4eba-9401-dc25d2ed8e7b",
   "metadata": {},
   "source": [
    "### <span style=\"color:red\"> Exercise 3 </span> (10 pts)\n",
    "\n",
    "Use a similar strategy to replace $\\cot\\theta$ with an expression involving only $y$, $z$, and $r$. After simplifying, you should get \n",
    "\n",
    "$$\n",
    "\\displaystyle \\frac{\\varepsilon_{\\theta} \\left(2 y^{2} + z^{2} + \\left(r + z\\right)^{2}\\right) + \\varepsilon_{r} y}{r y}.\n",
    "$$\n",
    "\n",
    "<h3 style=\"background-color:lightblue\"> Write Answers for Exercise 3 Below </h3>"
   ]
  },
  {
   "cell_type": "code",
   "execution_count": null,
   "id": "7c8ffdd3-f225-4ff0-adb6-fe80e4cfe4f4",
   "metadata": {},
   "outputs": [],
   "source": []
  },
  {
   "cell_type": "markdown",
   "id": "d61342ac-0e13-4621-9a8d-48a3400f013f",
   "metadata": {},
   "source": [
    "## <span style=\"color:orange;\"> 4. Analyzing the Result </span> "
   ]
  },
  {
   "cell_type": "markdown",
   "id": "fac6cdd8-15b7-44a1-9d15-aed1bbb232f2",
   "metadata": {},
   "source": [
    "Now that we have a (remarkably tidy!) expression for the relative error, we should revisit the things we can control. We could reduce $\\varepsilon_\\theta$ by aligning and steadying the inclinometer more carefully. We could reduce $\\varepsilon_r$ by measuring our rope in a more accurate way, or using a more precise tool for measuring horizontal distance. What about $r$ and $z$? How does $z$ affect the answer?\n",
    "\n",
    "### <span style=\"color:red\"> Exercise 4 </span> (10 pts)\n",
    "\n",
    "In two sentences, describe qualitatively how the relative error in the height depends on the parameter $z$. Are bigger or smaller values better, as far as reducing error goes?\n",
    "\n",
    "<h3 style=\"background-color:lightblue\"> Write Answers for Exercise 4 Below </h3>"
   ]
  },
  {
   "cell_type": "markdown",
   "id": "015f1609-0646-461b-957c-b2bd69ea5245",
   "metadata": {},
   "source": []
  },
  {
   "cell_type": "markdown",
   "id": "da2325d6-1d75-4cd3-b5a8-ade630f74ffc",
   "metadata": {},
   "source": [
    "### $r$ dependence\n",
    "\n",
    "The dependence on $r$ is a bit trickier. Let's ask Sympy to tell us what happens as $r$ approaches infinity."
   ]
  },
  {
   "cell_type": "code",
   "execution_count": null,
   "id": "e4eee0e9-2a9f-4c1b-b146-44c09d26fa8c",
   "metadata": {},
   "outputs": [],
   "source": [
    "relative_error.limit(r, sympy.oo)"
   ]
  },
  {
   "cell_type": "markdown",
   "id": "3c417d5a-afe2-4d37-8abd-b1110c9253e6",
   "metadata": {},
   "source": [
    "The answer depends on the sign of $\\varepsilon_\\theta$ and $y$, but we know both are positive so this indicates that the error would grow to infinity if we used an infinitely long rope. Not good!\n",
    "\n",
    "What about using a short rope?"
   ]
  },
  {
   "cell_type": "code",
   "execution_count": null,
   "id": "277ec4df-39a6-4933-90d8-1bd69e9e3341",
   "metadata": {},
   "outputs": [],
   "source": [
    "relative_error.limit(r, 0)"
   ]
  },
  {
   "cell_type": "markdown",
   "id": "68567bba-9436-469b-a2b8-1e1e6a575050",
   "metadata": {},
   "source": [
    "Same thing! if we use a very short rope, we get infinite error. By the open interval method, we know there has to be an ideal rope length in between. Let's find it by setting the derivative to zero. We can take the derivative:"
   ]
  },
  {
   "cell_type": "code",
   "execution_count": null,
   "id": "3e0ca255-99d5-4582-b12b-3da996731750",
   "metadata": {},
   "outputs": [],
   "source": [
    "derivative = relative_error.diff(r)\n",
    "derivative"
   ]
  },
  {
   "cell_type": "markdown",
   "id": "1fb7d967-576f-439e-a23e-b89973464d80",
   "metadata": {},
   "source": [
    "and the function `sympy.solve` will solve the equation `derivative == 0` for $r$."
   ]
  },
  {
   "cell_type": "code",
   "execution_count": null,
   "id": "788bed34-e03f-4d10-b969-a6dd53e9cdae",
   "metadata": {},
   "outputs": [],
   "source": [
    "solutions = sympy.solve(derivative, r)\n",
    "solutions"
   ]
  },
  {
   "cell_type": "markdown",
   "id": "a2c576c3-447b-4ed6-a922-0467e1e4bedb",
   "metadata": {},
   "source": [
    "The first one is negative, and our rope has a positive length. Let's take the other one:"
   ]
  },
  {
   "cell_type": "code",
   "execution_count": null,
   "id": "8bd8f84e-2543-48ba-9b92-6bd9a3d6b7fd",
   "metadata": {},
   "outputs": [],
   "source": [
    "ideal_length = solutions[1].simplify()\n",
    "ideal_length"
   ]
  },
  {
   "cell_type": "markdown",
   "id": "73331358-5f5a-4b8e-b1a5-3265462eb5c3",
   "metadata": {},
   "source": [
    "### <span style=\"color:red\"> Exercise 5 </span> (20 pts)\n",
    "\n",
    "Use the `ideal_length.subs` and one of your measurements from lab 8 to figure out the ideal length of rope. You may need to compute $z$, but remember that it is just $y\\cot\\phi$. How does it compare to the length of rope you actually used? How would you measure it differently, if you wanted to go back and get a more accurate  measurement?\n",
    "\n",
    "<h3 style=\"background-color:lightblue\"> Write Answers for Exercise 5 Below </h3>"
   ]
  },
  {
   "cell_type": "code",
   "execution_count": null,
   "id": "5f556ed2-cc1f-4479-9240-00bb82edebd9",
   "metadata": {},
   "outputs": [],
   "source": []
  },
  {
   "cell_type": "markdown",
   "id": "aac74dfc-1c6f-42b3-ad0b-1978dea026ae",
   "metadata": {},
   "source": [
    "## <span style=\"color:orange;\"> 5. Identifying Limiting Factors </span> "
   ]
  },
  {
   "cell_type": "markdown",
   "id": "156c402c-3d38-49ab-8ed4-6dc9658bffa9",
   "metadata": {},
   "source": [
    "By putting our ideal length back into the expression for the error, we can get see how good our error can get. This will tell us where we should really spend our efforts if we want to get a really accurate answer."
   ]
  },
  {
   "cell_type": "code",
   "execution_count": null,
   "id": "bd2bc556-e01e-402a-b600-f13f6163da6e",
   "metadata": {},
   "outputs": [],
   "source": [
    "best_error = relative_error.subs(r, ideal_length).simplify()\n",
    "best_error"
   ]
  },
  {
   "cell_type": "markdown",
   "id": "e2735647-975e-45a8-b0d1-8e2a31200a7c",
   "metadata": {},
   "source": [
    "Some times, Sympy does not find the best answer right away. We can give it a kick in the right direction, though. Since we have a square root inside that square, it would probably get simpler if we expanded the square, then combined like terms. Let's ask for that explicitly:"
   ]
  },
  {
   "cell_type": "code",
   "execution_count": null,
   "id": "ba72b1f0-c9c6-4c93-b470-b652a01594c9",
   "metadata": {},
   "outputs": [],
   "source": [
    "best_error = best_error.expand().simplify()\n",
    "best_error"
   ]
  },
  {
   "cell_type": "markdown",
   "id": "41b5fc06-972b-4b44-a2b3-1a7bdb4ed757",
   "metadata": {},
   "source": [
    "Very nice! The best error we can hope for, picking an ideal length of rope (after a bit more tidying) is \n",
    "\n",
    "$$\n",
    "2 \\varepsilon_{\\theta} \\left(\\frac{z}{y} + \\sqrt{2  + 2 \\left(\\frac{z}{y}\\right) ^{2} + \\frac{\\varepsilon_{r} }{\\varepsilon_{\\theta} y}}\\right).\n",
    "$$\n",
    "\n",
    "This lets us definitively say: the error depends really strongly on $\\varepsilon_\\theta$. If we want a low relative error, we have to work to get that number down, since it multiplies into every other term. It only makes sense to reduce $\\varepsilon_r$ if the term $\\frac{\\varepsilon_{r} }{\\varepsilon_{\\theta} y}$ is close to 2, otherwise it will be completely dwarfed.\n",
    "\n",
    "### <span style=\"color:red\"> Exercise 6 </span> (10 pts)\n",
    "\n",
    "$\\varepsilon_\\theta$ also appears in the denominator. Does that mean we should try and keep it from getting too small? Use Sympy to find $\\displaystyle\\lim_{\\varepsilon_\\theta \\to 0}$`best_error` and use the result of that computation to justify a decision.\n",
    "\n",
    "<h3 style=\"background-color:lightblue\"> Write Answers for Exercise 6 Below </h3>"
   ]
  },
  {
   "cell_type": "code",
   "execution_count": null,
   "id": "2b814a4c-385f-4607-9cb8-53d5bbe95075",
   "metadata": {},
   "outputs": [],
   "source": []
  },
  {
   "cell_type": "markdown",
   "id": "017c2181-fd52-4f23-94b7-2d070823bd43",
   "metadata": {},
   "source": [
    "## <span style=\"color:orange;\"> 6. Do Your Homework Automatically </span> "
   ]
  },
  {
   "cell_type": "markdown",
   "id": "d85e5c6e-69df-47e9-8ba4-ef1fed42bb2a",
   "metadata": {},
   "source": [
    "In the example above we used lots of useful Sympy tools -- substitution, simplification, differentiation, and taking limits were all essential. There are way more things Sympy can do besides this, which you can read about [in its documentation](https://docs.sympy.org/latest/index.html). What you know already is enough to do some things which could really help you out when doing you calculus homework. For example, look at this question which [was on the third midterm for MA161 in 2021](https://www.math.purdue.edu/academic/courses/oldexams?course=MA16100):\n",
    "\n",
    "$$\n",
    "\\lim_{x\\to 0} \\frac{e^{3x^2}-1}{\\cos(x)-1}.\n",
    "$$\n",
    "With Sympy we check our work effortlessly!"
   ]
  },
  {
   "cell_type": "code",
   "execution_count": null,
   "id": "b71da0df-1bb6-4f4e-9078-8c048142b445",
   "metadata": {},
   "outputs": [],
   "source": [
    "function = (sympy.exp(3*x**2) -1)/(sympy.cos(x)-1)\n",
    "display(function)\n",
    "function.limit(x, 0)"
   ]
  },
  {
   "cell_type": "markdown",
   "id": "613a5ed5-34b2-4f59-82ac-4a92d6a41a83",
   "metadata": {},
   "source": [
    "There are tools to compute Taylor series as well, which might be helpful to check your work studying for the final in MA162. Take this problem, [which was on the MA162 final in the fall of 2021](https://www.math.purdue.edu/academic/courses/oldexams.php?course=MA16200):\n",
    "\n",
    "Find the Taylor Series for $f (x) = \\sin(πx)$ centered at $a = 1$."
   ]
  },
  {
   "cell_type": "code",
   "execution_count": null,
   "id": "8a715b2b-c6ab-4f2b-b646-1a77aaa760ca",
   "metadata": {},
   "outputs": [],
   "source": [
    "sympy.sin(sympy.pi*x).series(x, 1)"
   ]
  },
  {
   "cell_type": "markdown",
   "id": "7f81b252-dd44-4584-9a26-cdbd40125ec9",
   "metadata": {},
   "source": [
    "Or you could do this integral, from the same exam.\n",
    "\n",
    "$$\n",
    "\\int e^{3x}\\sin(x)\\;dx\n",
    "$$"
   ]
  },
  {
   "cell_type": "code",
   "execution_count": null,
   "id": "9044a2ab-6ff5-4aec-8cc0-36600bcc7bce",
   "metadata": {},
   "outputs": [],
   "source": [
    "sympy.integrate(sympy.exp(3*x)*sympy.sin(x), x).simplify()"
   ]
  },
  {
   "cell_type": "markdown",
   "id": "cfdcbfdc-071f-41bb-8dc9-8b0a6380618a",
   "metadata": {},
   "source": [
    "Hopefully this has convinced you that Sympy can be a handy calculator to have around.\n",
    "\n",
    "### <span style=\"color:red\"> Exercise 7 </span> (10 pts)\n",
    "\n",
    "Pick a problem from a previous calculus exam. Copy it here using Latex, and solve it using Sympy.\n",
    "\n",
    "<h3 style=\"background-color:lightblue\"> Write Answers for Exercise 7 Below </h3>"
   ]
  },
  {
   "cell_type": "code",
   "execution_count": null,
   "id": "c2858155-14c5-4439-9fac-9a1120be6ff8",
   "metadata": {},
   "outputs": [],
   "source": []
  }
 ],
 "metadata": {
  "kernelspec": {
   "display_name": "Python 3 (ipykernel)",
   "language": "python",
   "name": "python3"
  },
  "language_info": {
   "codemirror_mode": {
    "name": "ipython",
    "version": 3
   },
   "file_extension": ".py",
   "mimetype": "text/x-python",
   "name": "python",
   "nbconvert_exporter": "python",
   "pygments_lexer": "ipython3",
   "version": "3.11.5"
  }
 },
 "nbformat": 4,
 "nbformat_minor": 5
}
