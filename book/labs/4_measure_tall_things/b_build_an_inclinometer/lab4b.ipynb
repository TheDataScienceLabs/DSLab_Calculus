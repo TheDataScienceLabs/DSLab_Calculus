{
 "cells": [
  {
   "cell_type": "markdown",
   "id": "f66cf5a1-b7a1-494d-897f-7ce4ab3b74f7",
   "metadata": {},
   "source": [
    "# Week 6-7: Build an Inclinometer (Objects on Hardware)\n",
    "<font size=\"6\"> Laboratory 4b  </font> <br>\n",
    "<font size=\"3\"> Last updated September 28, 2023 </font>"
   ]
  },
  {
   "cell_type": "markdown",
   "id": "3f6ff1cb-ee10-4ef2-9ce4-a74fee8c73e4",
   "metadata": {},
   "source": [
    "## <span style=\"color:orange;\"> 00. Content </span>"
   ]
  },
  {
   "cell_type": "markdown",
   "id": "72086f29-ecea-4659-91df-5d52d8c3c86f",
   "metadata": {},
   "source": [
    "<font size=\"5\"> Mathematics </font>\n",
    "- Removing noise by averaging\n",
    "     \n",
    "<font size=\"5\"> Programming Skills </font>\n",
    "- Averaging function\n",
    "- Program components to work together as an inclinometer \n",
    "    \n",
    "<font size=\"5\"> Embedded Systems </font>\n",
    "- Button input\n",
    "- Use a screen to display values\n",
    "- Display a clock\n",
    "- Use an accelerometer \n",
    "- Running a Pi on battery power\n",
    "- Use a voltage regulator \n",
    "- Thonny and Micropython"
   ]
  },
  {
   "cell_type": "markdown",
   "id": "daaefa0d-5618-479e-9fa0-d526deace9d1",
   "metadata": {},
   "source": [
    "## <span style=\"color:orange;\"> 0. Required Hardware </span>"
   ]
  },
  {
   "cell_type": "markdown",
   "id": "8565dd5e-0a93-4e42-97e7-4a6ff99b6400",
   "metadata": {},
   "source": [
    "- Microcontroller: Raspberry Pi Pico\n",
    "- Button\n",
    "- OLED (clock)\n",
    "- MPU-6050 (accelerometer) \n",
    "- 7805 voltage regulator \n",
    "- 9-volt battery\n",
    "- Wires \n",
    "- Breadboard \n",
    "- USB connector "
   ]
  },
  {
   "cell_type": "markdown",
   "id": "43c9b762-2c16-4194-ac5e-3e606d0b4d40",
   "metadata": {},
   "source": [
    "<h3 style=\"background-color:lightblue\"> Copy the file `student_info.py` into the folder you are working in, then run this cell to put your name and email into this document </h3>"
   ]
  },
  {
   "cell_type": "code",
   "execution_count": null,
   "id": "2a310628-4719-455b-bdae-5aa809dc1971",
   "metadata": {},
   "outputs": [],
   "source": [
    "from student_info import show_info\n",
    "\n",
    "show_info()"
   ]
  },
  {
   "cell_type": "markdown",
   "id": "b73f85d7-f26d-433c-98e9-c8c97c02ef73",
   "metadata": {
    "tags": []
   },
   "source": [
    "### Additional lab materials\n",
    "In addition to the student_info.py file, you'll need a couple more specific Python files to complete this lab. \n",
    "\n",
    "Run the following cell. This will download a folder called `lab4B/` into your Downloads folder. After you have done that, pull up thonny, and on the top bar under 'View', select 'Files'. This will bring up a bar on the side that you can use to transfer the file onto your Pico. In this side bar, navigate to your Downloads folder *(If you get lost, you can find it at `This Computer/home/shay/a/\"your username\"/Downloads`)*, right click the `lab4B/` folder, then click on 'Upload to /'. This will copy the entire folder onto your Pico."
   ]
  },
  {
   "cell_type": "code",
   "execution_count": 1,
   "id": "d7a1e4c7-bd4a-43f8-8792-b13859e0f759",
   "metadata": {
    "deletable": false,
    "editable": false
   },
   "outputs": [],
   "source": [
    "%%sh\n",
    "cd ~/Downloads\n",
    "if [ -d \"./lab4B/\" ]; then\n",
    "    rm -r \"./lab4B\"\n",
    "fi\n",
    "mkdir lab4B\n",
    "cd lab4B\n",
    "wget -q -N https://raw.githubusercontent.com/TheDataScienceLabs/DSLab_Calculus/main/book/labs/4_measure_tall_things/b_build_an_inclinometer/scripts/ssd1306.py\n",
    "wget -q -N https://raw.githubusercontent.com/TheDataScienceLabs/DSLab_Calculus/main/book/labs/4_measure_tall_things/b_build_an_inclinometer/scripts/procedural_clock.py\n",
    "wget -q -N https://raw.githubusercontent.com/TheDataScienceLabs/DSLab_Calculus/main/book/labs/4_measure_tall_things/b_build_an_inclinometer/scripts/classy_clock.py\n",
    "wget -q -N https://raw.githubusercontent.com/TheDataScienceLabs/DSLab_Calculus/main/book/labs/4_measure_tall_things/b_build_an_inclinometer/scripts/button.py\n",
    "wget -q -N https://raw.githubusercontent.com/TheDataScienceLabs/DSLab_Calculus/main/book/labs/4_measure_tall_things/b_build_an_inclinometer/scripts/imu.py\n",
    "wget -q -N https://raw.githubusercontent.com/TheDataScienceLabs/DSLab_Calculus/main/book/labs/4_measure_tall_things/b_build_an_inclinometer/scripts/vector3d.py\n",
    "wget -q -N https://raw.githubusercontent.com/TheDataScienceLabs/DSLab_Calculus/main/book/labs/4_measure_tall_things/b_build_an_inclinometer/scripts/accelerometer.py\n",
    "cd .."
   ]
  },
  {
   "cell_type": "markdown",
   "id": "eaa9202c-deff-45b0-a473-a93c5a868f13",
   "metadata": {},
   "source": [
    "Next, run the following block to download the averager.py module into your current directory, which we will use later."
   ]
  },
  {
   "cell_type": "code",
   "execution_count": null,
   "id": "b2bcc029-a242-458f-90e5-0eab6d593cd3",
   "metadata": {
    "deletable": false,
    "editable": false
   },
   "outputs": [],
   "source": [
    "%%sh\n",
    "wget -q -N https://raw.githubusercontent.com/TheDataScienceLabs/DSLab_Calculus/main/book/labs/4_measure_tall_things/b_build_an_inclinometer/averager.py"
   ]
  },
  {
   "cell_type": "markdown",
   "id": "94a26f03-77b1-4557-a98d-1a22272f2e34",
   "metadata": {},
   "source": [
    "## <span style=\"color:orange;\"> 1. Objective </span> "
   ]
  },
  {
   "cell_type": "markdown",
   "id": "4021cf28-11e1-4271-82b1-b4c3437905db",
   "metadata": {},
   "source": [
    "An inclinometer is a device for measuring the angle between a sight line and the horizon. For lab 4c, you will need an inclinometer which you can use outdoors, not connected to a computer. Here are some requirements:\n",
    "\n",
    " - it should run on battery power alone\n",
    " - it should have a display which you can read, telling you the components of acceleration\n",
    " - it should have a \"hold\" button, which freezes the display while pressed so that a reading can be made\n",
    "\n",
    "The cheapest inclinometer on Amazon which meets these requirements costs about 30 dollars. Can we do better? If we spend 4 dollars on a Raspberry Pi Pico, 4 dollars on an OLED display, 3 dollars on an accelerometer chip and 3 dollars on a 9 volt battery with a holder, that leaves us 16 dollars to buy wires and a case. Not bad! Plus, ours will be more customizable -- we could easily add features down the road, if we want them."
   ]
  },
  {
   "cell_type": "markdown",
   "id": "8ba9a14e-8f8d-49dd-9c31-ee77ec12c200",
   "metadata": {},
   "source": [
    "## <span style=\"color:orange;\"> 2. The Button </span> "
   ]
  },
  {
   "cell_type": "markdown",
   "id": "8709c814-ff00-4808-88ae-ea1d9a11647c",
   "metadata": {},
   "source": [
    "You have been provided a button. It is a very common type, more precisely called a *tactile switch*. It has four legs, but opposite pairs of them are connected internally, so there are only two electrical connections to be made. Have a look at the [TL1105 data sheet](https://github.com/TheDataScienceLabs/DSLab_Calculus/blob/main/book/labs/4_measure_tall_things/b_build_an_inclinometer/TL1105_datasheet.pdf) for the TL1105 tactile switch, which shows a schematic of how the legs are connected. _Hint: look at the numbers assigned to each leg of the switch._\n",
    "\n",
    "Connect one side of the button to a ground pin of the Pico and connect the other side to any GP (general purpose) pin with wires on the breadboard (you may need to use the [pico datasheet](https://datasheets.raspberrypi.com/pico/pico-datasheet.pdf)). Then open up [button.py](https://github.com/TheDataScienceLabs/DSLab_Calculus/blob/main/book/labs/4_measure_tall_things/b_build_an_inclinometer/scripts/button.py) in Thonny and configure it according to what pin you chose, replacing the zero with the GP number of the pin, the one in the green box (eg GP0 would be 0, GP10 would be 10). Go ahead and run the program, the built-in LED should turn on only while the button is pressed.\n",
    "\n",
    "### <span style=\"color:red\"> Exercise 1 </span> (10 pts)\n",
    "Modify `button.py` so that instead of coming on while the button is pressed, pressing the button toggles the LED on and off. There are many ways to do this; try and be creative, and if you get stuck, ask for help from an instructor or a classmate. Here are a couple ideas which might get you moving:\n",
    "\n",
    "- you can use variables to keep track of the current condition (whether you are in \"hold\" mode, whether the button is pressed, etc) and compare against them to see if anything has changed.\n",
    "- you can use [any of the time functions](https://docs.micropython.org/en/latest/library/time.html) to avoid registering multiple inputs per button press.\n",
    "- if you lose track of what is happening, it can help to use `print` statements.\n",
    "\n",
    "Copy the contents of the file into the cell below so that it can be graded.\n",
    "<h3 style=\"background-color:lightblue\"> Write Answers for Exercise 1 Below </h3>"
   ]
  },
  {
   "cell_type": "markdown",
   "id": "3e6b5088-b6c3-43bd-a781-d6bc99fdc71a",
   "metadata": {},
   "source": [
    "```Python\n",
    "# if you copy your code here, between the triple backticks, it will be formatted nicely as code.\n",
    "\n",
    "```"
   ]
  },
  {
   "cell_type": "markdown",
   "id": "9b998d8d-6ec3-4d20-a0bb-6f67564bc2e1",
   "metadata": {},
   "source": [
    "## <span style=\"color:orange;\"> 3. The Screen </span> "
   ]
  },
  {
   "cell_type": "markdown",
   "id": "7f9019a1-2818-4982-b0a0-ac1391a6414b",
   "metadata": {},
   "source": [
    "### I2C\n",
    "\n",
    "Usually a modern electronic device will consist of a *microcontroller* (such as the Raspberry Pi Pico) and several *peripherals*. \"Peripherals are what we call any component the microcontroller is \"in charge\" of. The two main peripherals we will be using in our inclinometer are a screen and an accelerometer. You might call the button a peripheral, but usually the word peripheral refers to components which do something on their own, while communicating with the microcontroller.\n",
    "\n",
    "One of the most popular ways for a microcontroller to communicate with a peripheral is using a protocol called the Inter-Integrated-Circuit protocol. Its name is usually abbreviated, either as IIC, I²C, or simply I2C. These are pronounced as \"eye-eye-see\", \"eye-squared-see\" or \"eye-two-see\" respectively. I2C uses two wires, one called Serial Clock (abbreviated as SCL) and the other called Serial Data (abbreviated SDA). One of the brilliant things about I2C is that every I2C peripheral has its own identification number, so when a message is sent using the I2C protocol it can have a label saying \"who it is for\". That means you can have several different peripherals all connected to the same two wires -- potentially connecting dozens of peripherals to a microcontroller using only two wires (assuming none of the devices share an identification number). Since many devices are sharing the same connection an I2C connection is called a \"bus\", from the Latin *Omnibus* which means \"for everyone\". I2C is an example of a *serial* communication protocol, because bits of data are sent one after another (in a series) over relatively few wires, instead of all-at-once over relatively many wires. You have already heard of, and used, another serial bus protocol -- the so-called Universal Serial Bus, usually abbreviated as USB.\n",
    "\n",
    "The Raspberry Pi Pico has two I2C busses, numbered 0 and 1. You can see which pins they are connected to on the Pico's datasheet; for example, to use I2C bus number 0, you can use any of the GP pins labeled as I2C0 SCL and I2C0 SDA. For example, GP pins (20 & 21), or (12 & 13), or (4 & 5). \n",
    "\n",
    "When you set up an I2C bus, you will have to choose a frequency for it to use. This is a fairly straightforward decision. The valid choices of frequency are 100,000; 400,000; 1,000,000; 1,700,000; and 3,400,000 Hertz. If you use a higher frequency then your system will run faster and consume more power. Higher frequencies might not work, depending on several factors such as how long your wires are and how much electromagnetic interference they experience. However, not all peripherals will continue to function properly if the frequency is too high, so because speed is not necessarily important to us, we will stick with 400,000 hertz. \n",
    "\n",
    "### The framebuffer\n",
    "\n",
    "On the hardware side, we interact with the OLED display using I2C. In software, the interface we will use is one of the interfaces built into Micropython: the frame buffer interface.\n",
    "\n",
    "It's called a frame buffer because when interacting with it, you make most of your changes in an array called a buffer, stored on the Pico. We only send data to the display when we call the function `show()`, as a complete frame ready to display. This way, we are using the I2C bus as little as possible, freeing up time for other peripherals to use the I2C bus.\n",
    "\n",
    "The documentation for the frame buffer interface is [part of the Micropython documentation](https://docs.micropython.org/en/latest/library/framebuf.html). There you will find functions for drawing lines, rectangles, and text, as well as a function for writing to individual pixels. It is important to note that pixels on the screen are referenced based on their horizontal and vertical distance from the top left corner.\n",
    "\n",
    "### Two clocks\n",
    "\n",
    "Usually the easiest way to learn a new tool is to see it used. As an example, we have provided two programs (which you have installed earlier) that do the same thing using the OLED display. [procedural_clock.py](https://github.com/TheDataScienceLabs/DSLab_Calculus/blob/main/book/labs/4_measure_tall_things/b_build_an_inclinometer/scripts/procedural_clock.py) draws a clock on the display by performing a sequence of actions one after another, inside a `while True` loop. [classy_clock.py](https://github.com/TheDataScienceLabs/DSLab_Calculus/blob/main/book/labs/4_measure_tall_things/b_build_an_inclinometer/scripts/classy_clock.py) does the exact same steps, but wraps everything to do with the display into one class and defines methods on the class to do the various parts. Note that in practice you would usually define any classes you are using in a separate module, and import those classes into your main file. We have chosen to put the class definition at the bottom of the file to make it easier for you to compare them.\n",
    "\n",
    "In terms of what they do, both of these programs are identical. Their difference lies in how easy they are to read and how easy they are to modify.\n",
    "\n",
    "### <span style=\"color:red\"> Exercise 2 </span> (20 pts)\n",
    "\n",
    "Read the programs procedural_clock.py and classy_clock.py carefully. Reflect on the way the code is organized in each in two thorough paragraphs.\n",
    "\n",
    "What are their relative merits? What might make one or another of these programs easier to read, modify or extend? Which ones would be easiest to split apart into multiple smaller modules? Which ones are more aesthetically pleasing? Give your honest assessment, since many of these questions are matters of opinion. Be sure to refer to specific lines from the programs in your answer.\n",
    "\n",
    "<h3 style=\"background-color:lightblue\"> Write Answers for Exercise 2 Below </h3>"
   ]
  },
  {
   "cell_type": "markdown",
   "id": "da51125b-7dbb-41a2-b87c-30b3b7e0ad53",
   "metadata": {},
   "source": []
  },
  {
   "cell_type": "markdown",
   "id": "e7a03e08-4a48-4672-924e-09949d4cf528",
   "metadata": {},
   "source": [
    "## Display a clock\n",
    "The wiring is very simple for this one. There are only four wires to use: power, ground, and the two I2C wires. **Unplug your microcontroller from the computer** and wire up the display. \n",
    "\n",
    "| OLED | Pico |\n",
    "|------|------|\n",
    "| GND  | GND  |\n",
    "| VCC  | 3V3(OUT) |\n",
    "| SCL  | I2C0 SCL  or I2C1 SCL |\n",
    "| SDA  | I2C0 SDA  or I2C1 SDA |\n",
    "\n",
    "If you are uncertain about your wiring, then ask for an instructor to check it over. If you are confident in your wiring you can continue. It should look as shown in the image below.\n",
    "\n",
    "<div>\n",
    "<img src=\"https://raw.githubusercontent.com/TheDataScienceLabs/DSLab_Calculus/main/book/labs/4_measure_tall_things/b_build_an_inclinometer/display_example.jpg\" width=\"700\"/>\n",
    "</div>\n",
    "\n",
    "\n",
    "### <span style=\"color:red\"> Exercise 3 </span> (5 pts)\n",
    "\n",
    "You should have uploaded the file [ssd1306.py](https://github.com/TheDataScienceLabs/DSLab_Calculus/blob/main/book/labs/4_measure_tall_things/b_build_an_inclinometer/scripts/ssd1306.py) onto your Pico using Thonny earlier. This provides a class for interacting with the specific OLED displays we are using. Then, pick your favorite of the clock programs and run it. If you choose to use different I2C pins than the examply above you may need to modify the line which sets up the I2C bus according to the specific SCL and SDA pins you choose (using the number labeled with GP on the datasheet, not the SCL or SDA numbers) as well as the `id` to 0 for I2C0 or 1 for I2C1. Once you have one of the clocks up and running, just write a note below indicating that you have done so.\n",
    "\n",
    "<h3 style=\"background-color:lightblue\"> Write Answers for Exercise 3 Below </h3>"
   ]
  },
  {
   "cell_type": "markdown",
   "id": "d4f51984-8c05-4064-8f31-f57e5624c541",
   "metadata": {},
   "source": []
  },
  {
   "cell_type": "markdown",
   "id": "5d6a5e33-8187-4ff0-883f-575108b0a176",
   "metadata": {},
   "source": [
    "## <span style=\"color:orange;\"> 4. The Accelerometer </span> "
   ]
  },
  {
   "cell_type": "markdown",
   "id": "288c992e-c15c-46ab-93d2-f9acde5e7864",
   "metadata": {},
   "source": [
    "In recent years so-called Micro Electro Mechanical Systems (MEMS) have become very cheap and reliable. These are made using processes which are similar to the ones used to make computer chips. One common type is an accelerometer, which does pretty much what it says: measures acceleration.\n",
    "\n",
    "Why does this help us to make an inclinometer? An inclinometer is usually held very still to make a measurement; it's not accelerating. Naively, we might think an accelerometer would tell us nothing about a stationary object, except that it is stationary. As it turns out, that naive view is incorrect because of general relativity. As it turns out, the effect of gravity also shows up in our measurements as an acceleration. If you wish to learn more about this, you can see [this short video](https://www.youtube.com/watch?v=mAtRD9_4Oa0) which has helpful animations, or [this more impassioned video](https://www.youtube.com/watch?v=vng2-R64rAY) from a professional physicist who presents the limits of this interpretation of gravity. For our purpose, it is enough to know that if the accelerometer is being held still, it will indicate the direction of gravity. By angling our accelerometer toward a target, we can find the angle between the target and vertical.\n",
    "\n",
    "### Raw readings\n",
    "\n",
    "We will use an accelerometer called the MPU-6050. It also uses I2C, so we can use the same bus to communicate with it. Go ahead and connect it.\n",
    "\n",
    "| MPU-6050 | OLED |\n",
    "|---------|------|\n",
    "| GND     | GND  |\n",
    "| 3Vo     | VCC  |\n",
    "| SCL     | SCL  |\n",
    "| SDA     | SDA  |\n",
    "\n",
    "It should look as shown in the image below.\n",
    "<div>\n",
    "<img src=\"https://raw.githubusercontent.com/TheDataScienceLabs/DSLab_Calculus/main/book/labs/4_measure_tall_things/b_build_an_inclinometer/accelerometer_example.jpg\" width=\"700\"/>\n",
    "</div>\n",
    "\n",
    "Verify that `imu.py` and `vector3d.py` are loaded onto the Pico, and then run the file `accelerometer.py` in Thonny. Again you may need to modify ```accelerometer.py``` so that the line where the I2C bus is configured uses the right pins. You should see it printing values in Thonny.\n",
    "\n",
    "### <span style=\"color:red\"> Exercise 4 </span> (10 pts)\n",
    "\n",
    "Describe the values in words, including a description of what happens when you move the accelerometer around while the program is running. About how many of the digits appear stable, that is, not fluctuating unpredictably?\n",
    "\n",
    "<h3 style=\"background-color:lightblue\"> Write Answers for Exercise 4 Below </h3>"
   ]
  },
  {
   "cell_type": "markdown",
   "id": "51abc6a0-8c04-4d78-a61f-1fb6ac7a7547",
   "metadata": {},
   "source": []
  },
  {
   "cell_type": "markdown",
   "id": "a434698e-adf7-468b-89d6-3eee4df9bec8",
   "metadata": {},
   "source": [
    "### Reducing error through averaging\n",
    "\n",
    "One way we are familiar with reducing error is by taking multiple measurements and averaging them. We could do that ourselves, but why not have the microcontroller do it for us? Since we will be reading off values by eye, this could dramatically reduce the amount of numbers we have to write down. In order to make this easy, let's build a class to do it for us. Since we are using Micropython, we can run and test our module here and have confidence that it will work the same way on our microcontroller."
   ]
  },
  {
   "cell_type": "markdown",
   "id": "3dd3d781",
   "metadata": {},
   "source": [
    "### <span style=\"color:red\"> Warm Up to Exercise 5 </span> (0 pts)\n",
    "\n",
    "Read and understand the following code:\n",
    "\n",
    "__Part 1:__ In one line of code, change the first element of the list `mylist` to the value $11.0$."
   ]
  },
  {
   "cell_type": "code",
   "execution_count": null,
   "id": "816042ce-9a0e-4297-b849-ee593986493a",
   "metadata": {},
   "outputs": [],
   "source": [
    "mylist = [1.0, 22.0, 33.0]\n",
    "print(mylist)  # prints [1.0, 22.0, 33.0]\n",
    "mylist[0] = 11.0\n",
    "print(mylist)  # should print [11.0, 22.0, 33.0]"
   ]
  },
  {
   "cell_type": "markdown",
   "id": "088c201f",
   "metadata": {},
   "source": [
    "__Part 2:__ Write a function called `add_element()` with three inputs: `list`, `value`, and `i`. The function changes the element at index `i` of the given list to `value` and returns the modified list."
   ]
  },
  {
   "cell_type": "code",
   "execution_count": null,
   "id": "6bbb5b71-99da-4984-95c8-ad98d95b87fa",
   "metadata": {},
   "outputs": [],
   "source": [
    "def add_element(list, value, i):\n",
    "    list[i] = value\n",
    "    return list\n",
    "\n",
    "print(add_element(mylist, 2.0, 1))  # changes mylist to [11.0, 2.0, 33.0]"
   ]
  },
  {
   "cell_type": "markdown",
   "id": "73a5d1b5",
   "metadata": {},
   "source": [
    "### <span style=\"color:red\"> Exercise 5 </span> (15 pts)\n",
    "Most of this class is written already -- it's just missing two methods. You can find it in [averager.py](https://github.com/TheDataScienceLabs/DSLab_Calculus/blob/main/book/labs/4_measure_tall_things/b_build_an_inclinometer/averager.py). Your task is to fill in the two missing methods, `append()` and `get()`, so that the class will pass all its tests. You can take a look at the docstrings of the functions and the examples provided above to get an idea of what they need to be doing. Go ahead and remove the lines of code that says *raise NotImplementedError(\"This is an exercise for the student\")* when you are ready to test them.\n",
    "\n",
    "We have provided tests in the form of examples written in the class's docstring. Don't worry, you don't have to check them yourself. There is a convenient tool built into Python which will check the examples in the documentation for us. Run the first two cells below to check your progress. Then, run the third cell which will display the contents of your completed module for grading.\n",
    "<h3 style=\"background-color:lightblue\"> Write Answers for Exercise 5 Below </h3>"
   ]
  },
  {
   "cell_type": "code",
   "execution_count": null,
   "id": "d999ee94-08d9-4530-af77-1102c87cb17d",
   "metadata": {},
   "outputs": [],
   "source": [
    "%load_ext autoreload\n",
    "%autoreload 2"
   ]
  },
  {
   "cell_type": "code",
   "execution_count": null,
   "id": "aae6873d-939f-4a52-8385-a732d777a180",
   "metadata": {},
   "outputs": [],
   "source": [
    "import doctest\n",
    "\n",
    "import averager\n",
    "\n",
    "doctest.testmod(averager)"
   ]
  },
  {
   "cell_type": "code",
   "execution_count": null,
   "id": "6d8e8ef2-5e29-4940-be32-260772a8eadb",
   "metadata": {},
   "outputs": [],
   "source": [
    "import inspect\n",
    "\n",
    "print(inspect.getsource(averager))"
   ]
  },
  {
   "cell_type": "markdown",
   "id": "2074ddd5-f8a5-4b15-8b30-8961b2962356",
   "metadata": {},
   "source": [
    "### <span style=\"color:red\"> Exercise 6 </span> (10 pts)\n",
    "Upload `averager.py` onto the Pico using Thonny, and change `accelerometer.py` so that the components of acceleration are averaged out using the `Averager` class. Play with the size of the averager, in particular paying attention to how long it takes the values to adjust to a change in position. Then answer these questions:\n",
    "\n",
    "1. What are the benefits of keeping fewer previous values? What are the benefits of keeping more?\n",
    "2. How many is too many? At what point does it become no longer practical to store more values?\n",
    "3. Is there a point of diminishing returns, where you could keep more values stored but it wouldn't help much?\n",
    "\n",
    "<h3 style=\"background-color:lightblue\"> Write Answers for Exercise 6 Below </h3>"
   ]
  },
  {
   "cell_type": "markdown",
   "id": "9ce592be-6052-4cc1-922a-40849ad6880a",
   "metadata": {},
   "source": []
  },
  {
   "cell_type": "markdown",
   "id": "956997b2-b721-4c87-922d-8e09c7672fc8",
   "metadata": {},
   "source": [
    "## <span style=\"color:orange;\"> 5. Make an Inclinometer </span> "
   ]
  },
  {
   "cell_type": "markdown",
   "id": "8414190d-b205-4008-a8dc-528cb75f4f7e",
   "metadata": {},
   "source": [
    "### <span style=\"color:red\"> Exercise 7 </span> (30 pts)\n",
    "\n",
    "Now you are ready to combine all the components into a useful tool. You must make an inclinometer, with the following features:\n",
    "\n",
    "- display the x, y, and z components of acceleration\n",
    "  + averaged across a reasonable number of measurements\n",
    "  + reported with a reasonable number of digits\n",
    "  + with a label indicating which is which\n",
    "- have a \"hold\" button which keeps the display from changing while it is pressed\n",
    "\n",
    "There are several additional features you can include if you like (but are not required):\n",
    "\n",
    "- turn on the onboard LED when the z-component is very close to zero, so that you can tell at a distance if it is being held vertically\n",
    "- instead, turn on the onboard LED when the values stored in the averager are very close together (to indicate when you are holding the accelerometer still). This may require modifying `averager.py`, adding another method to check how much the values vary.\n",
    "- don't update the display every time you read a new value, instead pick a reasonable number of measurements to take in between screen updates. This will let you increase the number of samples in your averager without increasing the time it takes to get a reading.\n",
    "- display the measured angle of elevation, in radians and/or degrees\n",
    "- put some decorative art on the screen\n",
    "- make the hold button a toggle, and show an indicator on the screen if the inclinometer is in hold mode.\n",
    "- any other features you may think of\n",
    "\n",
    "In addition you must include a description of your inclinometer, explaining how you chose to organize your code and why -- what parts did you put into modules? What parts made sense to include as object methods, what parts as functions? How did you choose how many samples to average, and how many digits to show? Your description should also explain what the features of your inclinometer are, and how to use it.\n",
    "\n",
    "You will be graded on the following rubric:\n",
    "\n",
    "| Category      | 10 pts | 5 pts | 0 pts |\n",
    "|---------------|--------|-------|-------|\n",
    "| Functionality | Has all the required features, as well as at least one additional feature | Missing one required feature, or one of the features does not work as it should | Missing more than one required feature |\n",
    "| Style         | Uses classes, functions, and modules where appropriate. Uses consistent spacing and style, with comments and docstrings where appropriate. | Some unconventional choices were made which make the code hard to read, but there were clearly deliberate design choices made to make the code easier to understand. | There are several places where functions, classes, or modules would have improved the readability but they were not used. |\n",
    "| Documentation | The description supports the choices made in the code. Based on the description it is clear how to use the inclinometer, and what features it has. The structure of the program is described in full sentences. | One or more major choice about the code was not supported, or at least one feature is not documented, or there are multiple grammatical or spelling errors. | The description does not do a good job of describing the code and does not justify the choices which were made. |\n",
    "\n",
    "You should type your description below, and paste the content of each file you write into this document so that it can be graded. If you choose to include a module which was already graded as part of this lab, you don't need to paste it here.\n",
    "\n",
    "<h3 style=\"background-color:lightblue\"> Write Answers for Exercise 7 Below </h3>"
   ]
  },
  {
   "cell_type": "markdown",
   "id": "75ff277c-7981-4537-8a47-3b7de2a2baa6",
   "metadata": {},
   "source": [
    "*Write your description here*"
   ]
  },
  {
   "cell_type": "markdown",
   "id": "3e221db1",
   "metadata": {},
   "source": [
    "```Python\n",
    "# Paste your code here\n",
    "```"
   ]
  },
  {
   "cell_type": "markdown",
   "id": "f72ba612-ad0e-4d9e-8e6c-4dc3634e36e6",
   "metadata": {},
   "source": [
    "### Run it on batteries\n",
    "\n",
    "At the start of class next week, we will go outside to take some measurements using your accelerometer. We will power the Pico from a 9-volt battery. **Here are a few important cautions:**\n",
    "\n",
    "- 9 volts is more than any part of the Pico can handle. If you connect the battery directly you will damage the microcontroller. We need to use another component to convert the voltage to a range the Pico can handle.\n",
    "- It is not safe to power the Pico from more than one source at a time. That means you must not connect the Pico to a computer while it is powered by a battery, and you must not connect a battery while it is connected to a computer.\n",
    "\n",
    "\n",
    "### `main.py`\n",
    "\n",
    "Before running your inclinometer from a battery, here is a question: how will we start the program without using Thonny? The inclinometer needs to run without being connected to a computer.\n",
    "\n",
    "Here is the trick we will use: when the Pico powers on, the first thing it does is check its memory for a file called `main.py`. If there is a file with that name, it runs the file. So there is our solution: make a file called `main.py` which starts the inclinometer. Or just rename the file we already have. The important thing is that the file is called `main.py`, and it's actually stored on the microcontroller.\n",
    "\n",
    "Before continuing make sure you have your inclinometer starting whenever it gets connected to power. You should be able to plug the the microcontroller into any USB port and watch it start up automatically without doing anything on the computer. Once you have this, you can move on to powering it by battery.\n",
    "\n",
    "### The 7805 voltage regulator\n",
    "\n",
    "This would not be necessary if we were using a battery with a lower voltage. We are using a 9 volt battery because we already had a bunch of 9 volt batteries. To convert the power coming from the battery to a voltage we can use, we will use one of the most common, cheap voltage regulators available: the 7805. These cost roughly ten cents each when you buy them in large quantities. Using it is very simple:\n",
    "\n",
    "| Battery   | 7805   | Pico | Capacitor  |\n",
    "|-----------|--------|------|------------|\n",
    "|           | output | VSYS | either pin |\n",
    "| black (-) | ground | GND  | either pin |\n",
    "| red (+)   | input  |      |            |\n",
    "\n",
    "The pins on the 7805 are not labeled. You will have to check the [data sheet](https://github.com/TheDataScienceLabs/DSLab_Calculus/blob/main/book/labs/4_measure_tall_things/b_build_an_inclinometer/L7805CV_datasheet.pdf). **Do not connect the battery until you have had your circuit checked by an instructor.** The correctly wired voltage regulator should look as shown in the image below.\n",
    "\n",
    "<div>\n",
    "<img src=\"https://raw.githubusercontent.com/TheDataScienceLabs/DSLab_Calculus/main/book/labs/4_measure_tall_things/b_build_an_inclinometer/battery_wiring.jpg\" width=\"700\"/>\n",
    "</div>\n",
    "\n",
    "Once you have had your circuit checked, try turning it on. **Do not take your circuit apart this time**. You will need it next week."
   ]
  }
 ],
 "metadata": {
  "kernelspec": {
   "display_name": "Python 3 (ipykernel)",
   "language": "python",
   "name": "python3"
  },
  "language_info": {
   "codemirror_mode": {
    "name": "ipython",
    "version": 3
   },
   "file_extension": ".py",
   "mimetype": "text/x-python",
   "name": "python",
   "nbconvert_exporter": "python",
   "pygments_lexer": "ipython3",
   "version": "3.11.5"
  }
 },
 "nbformat": 4,
 "nbformat_minor": 5
}
