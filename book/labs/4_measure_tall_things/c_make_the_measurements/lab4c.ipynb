{
 "cells": [
  {
   "cell_type": "markdown",
   "id": "e1050cf1-9dee-42fe-8701-c3da9af4cba0",
   "metadata": {},
   "source": [
    "# Week 8-9: Measure Heights of Campus Landmarks with Your Inclinometer \n",
    "<font size=\"6\">  Laboratory 4c </font> <br>\n",
    "<font size=\"3\"> Last updated Oct 19, 2023 </font>"
   ]
  },
  {
   "cell_type": "markdown",
   "id": "478cf36d-51fb-4303-ab9d-9af7985ab794",
   "metadata": {},
   "source": [
    "## <span style=\"color:orange;\"> 00. Content </span>"
   ]
  },
  {
   "cell_type": "markdown",
   "id": "56e9db5b-d74a-403d-980f-8640fe367d36",
   "metadata": {},
   "source": [
    "<font size=\"5\"> Mathematics </font>\n",
    "- Calculating height using trigonometry \n",
    "     \n",
    "<font size=\"5\"> Programming Skills </font>\n",
    "- Creating and reading CSV files\n",
    "    \n",
    "<font size=\"5\"> Embedded Systems </font>\n",
    "- Use of self-built inclinometer"
   ]
  },
  {
   "cell_type": "markdown",
   "id": "40a447b1-9078-4763-9e4f-02f376c7329e",
   "metadata": {},
   "source": [
    "## <span style=\"color:orange;\"> 0. Required Hardware </span>"
   ]
  },
  {
   "cell_type": "markdown",
   "id": "bbce336f-119d-4572-9ea0-a6ed9a88f66d",
   "metadata": {},
   "source": [
    "- Inclinometer (made previously)\n",
    "- Rope\n",
    "- Measuring tape"
   ]
  },
  {
   "cell_type": "markdown",
   "id": "6c70f565-65d4-4035-a61f-492d2bcd321c",
   "metadata": {},
   "source": [
    "<h3 style=\"background-color:lightblue\"> Copy the file `student_info.py` into the folder you are working in, then run this cell to put your name and email into this document </h3>"
   ]
  },
  {
   "cell_type": "code",
   "execution_count": null,
   "id": "345d58dd-b5cf-4cb5-9da8-97e4f0760ae4",
   "metadata": {},
   "outputs": [],
   "source": [
    "from student_info import show_info\n",
    "show_info()"
   ]
  },
  {
   "cell_type": "markdown",
   "id": "5f26528d-e803-411b-bef6-eb9dbb5aee9e",
   "metadata": {},
   "source": [
    "## <span style=\"color:orange;\"> 1. Put Your Inclinometer to Use </span> "
   ]
  },
  {
   "cell_type": "markdown",
   "id": "c4c90207-fce7-4aae-8ed7-bfce836a6f10",
   "metadata": {},
   "source": [
    "Today, you will gather some data using the inclinometer you built before break. You should work in groups of 2 to 4 today. You should collaborate on your answers. If you find it more convenient, you all may work on one jupyter notebook, **However, there is a written reflection for exercise 9, you will need to do that individually**. Write the names of your group members here.\n",
    "\n",
    "<h3 style=\"background-color:lightblue\"> Write the names of your group members below. </h3>"
   ]
  },
  {
   "cell_type": "markdown",
   "id": "d0b88d74-826a-4d0d-b94d-fb5de01e024a",
   "metadata": {},
   "source": [
    "*(put your group members' names here)*"
   ]
  },
  {
   "cell_type": "markdown",
   "id": "64b26d27-16d7-41e6-bc21-141b51536ab6",
   "metadata": {},
   "source": [
    "### Review the method for measuring heights using an inclinometer and rope\n",
    "\n",
    "Attached is the document [trig_handout.pdf](https://github.com/TheDataScienceLabs/DSLab_Calculus/blob/main/book/labs/4_measure_tall_things/c_make_the_measurements/trig_handout/trig_handout.pdf), which describes a method for measuring the height of an object using only an inclinometer and a rope. Read it and get familiar with the method. Then work with your group members to answer the following questions:\n",
    "\n",
    "\n",
    "### <span style=\"color:red\"> Exercise 1 </span> (10 pts)\n",
    "\n",
    " - Why is it not necessary to measure your distance from the base of the object you are measuring?\n",
    " - Why is it important that the same person make the measurement at the near and far ends of the rope?\n",
    " - What would happen if the rope were not straight, or not pointed toward the object you are measuring?\n",
    "\n",
    "<h3 style=\"background-color:lightblue\"> Write Answers for Exercise 1 Below </h3>"
   ]
  },
  {
   "cell_type": "markdown",
   "id": "b685f10d-25fa-4ad5-9d6d-8b6a6584f0f0",
   "metadata": {},
   "source": []
  },
  {
   "cell_type": "markdown",
   "id": "870617e7-deff-4396-b515-7ef1744d70aa",
   "metadata": {},
   "source": [
    "### Review the types of errors\n",
    "\n",
    "Look back at lab 2, where we first introduced error analysis. Work with your group members to answer the following questions:\n",
    "\n",
    "### <span style=\"color:red\"> Exercise 2 </span> (10 pts)\n",
    "\n",
    " - What are the four types of errors described in lab 2? Just list their names.\n",
    " - Identify at least five sources of error which might apply to the procedure for measuring the heights of buildings. You should include at least one example of a modeling error and at least two examples of measurement errors.\n",
    " - For each type of error you identified, describe a way you can reduce the effect of that error.\n",
    " \n",
    "<h3 style=\"background-color:lightblue\"> Write Answers for Exercise 2 Below </h3>"
   ]
  },
  {
   "cell_type": "markdown",
   "id": "cdbdfce0-b784-47a2-9321-33b420e88267",
   "metadata": {},
   "source": []
  },
  {
   "cell_type": "markdown",
   "id": "aebd4698-7a7d-4a4b-be07-571255d40c33",
   "metadata": {},
   "source": [
    "### Measure a rope\n",
    "\n",
    "We have ropes available for you. Their lengths are unknown. You will have to figure out how long your rope is. A tape measure available, but it is not as long as your rope (long tape measures are expensive and bulky).\n",
    "\n",
    "### <span style=\"color:red\"> Exercise 3 </span> (10 pts)\n",
    "\n",
    "Work with your group to figure out a method you can use to measure the length of your rope. Describe your method here. Carry out your procedure, and write down the length you find. Finally, give an estimate of the error in your measurement. How close do you think you are to the true length of the rope? How do you know?\n",
    " \n",
    "<h3 style=\"background-color:lightblue\"> Write Answers for Exercise 3 Below </h3>"
   ]
  },
  {
   "cell_type": "markdown",
   "id": "fb99ef8e-96a9-4022-9229-ae3b2e285cc6",
   "metadata": {},
   "source": []
  },
  {
   "cell_type": "markdown",
   "id": "7535b820-6881-4eb3-bbea-cf0d374c7c80",
   "metadata": {},
   "source": [
    "## <span style=\"color:orange;\"> 2. Gather Data </span> "
   ]
  },
  {
   "cell_type": "markdown",
   "id": "2c196644-d1b1-41ad-a61a-fe6feb6ebff6",
   "metadata": {},
   "source": [
    "Attached is the file [lab_record_sheet.pdf](https://github.com/TheDataScienceLabs/DSLab_Calculus/blob/main/book/labs/4_measure_tall_things/c_make_the_measurements/record_sheet_handout/lab_record_sheet.pdf). It has pictures of five buildings, and a table for you to fill in. Print this out. You will record the measurer's height, the length of rope, and the components of acceleration from your inclinometer. You will only need one inclinometer; choose one from your group to use. **Record the acceleration components directly, not the angle** for reasons which will become clear next week. You need to get at least three measurements of at least three buildings -- a minimum of nine measurements. You can measure them in whatever order you like. If you have time, measure all five buildings. Here are some tips which you may find useful:\n",
    "\n",
    " - Measure each group members's height, up to their eyeball. This will be easier to do before you go out, since you can use a tape measure. You may find it helpful to write the measurer's name on the sheet, and fill in the height later.\n",
    " - Move the rope in between each measurement, and take turns measuring. This will reduce the chance of a systematic error, since you will be doing it a little different for each measurement.\n",
    " - If anything unusual happens with a specific measurement, write that down as well. This will make it easier to remember what has happened when you are reviewing the data, and possibly help explain the errors you find.\n",
    " - If you don't have room to lay out your whole rope, fold it in half. Alternately, make marks along your rope at known distances. Make sure to record the method you choose.\n",
    " - Your answers will be more accurate if you place the near end of the rope close to the object you are measuring, and the far end far away.\n",
    " \n",
    "**Before you go**, describe the procedure you will use to your instructor. Once you have explained your procedure, go ahead and start measuring!"
   ]
  },
  {
   "cell_type": "markdown",
   "id": "000f9dad-22f3-49da-80d2-5df2c98713a6",
   "metadata": {},
   "source": [
    "## <span style=\"color:orange;\"> 3. Fill in a Table </span> "
   ]
  },
  {
   "cell_type": "markdown",
   "id": "7b008265-dcd8-4bdc-a6e1-9bb87225e825",
   "metadata": {},
   "source": [
    "### <span style=\"color:red\"> Exercise 4 </span> (10 pts)\n",
    "\n",
    "Run the following code cell in order to download the file `building_heights.csv`."
   ]
  },
  {
   "cell_type": "code",
   "execution_count": null,
   "id": "08f698c5-600f-45aa-b37e-174de5954a3a",
   "metadata": {
    "deletable": false,
    "editable": false
   },
   "outputs": [],
   "source": [
    "%%sh\n",
    "wget -q -N https://raw.githubusercontent.com/TheDataScienceLabs/DSLab_Calculus/main/book/labs/4_measure_tall_things/c_make_the_measurements/building_heights.csv"
   ]
  },
  {
   "cell_type": "markdown",
   "id": "ec64fa11-eb7e-49d3-adac-9d2033464ddc",
   "metadata": {},
   "source": [
    "Next, open the file, and fill in the data you collected. Then, run the cell below which will load and display your answers.\n",
    " \n",
    "<h3 style=\"background-color:lightblue\"> Write Answers for Exercise 4 Below </h3>"
   ]
  },
  {
   "cell_type": "code",
   "execution_count": null,
   "id": "9552830f-8e93-44c0-9916-81ca8c8d44e6",
   "metadata": {},
   "outputs": [],
   "source": [
    "import numpy as np\n",
    "import pandas as pd\n",
    "\n",
    "data = pd.read_csv('building_heights.csv')\n",
    "display(data)\n",
    "k = data['k'].to_numpy()\n",
    "r = data['r'].to_numpy()\n",
    "near_ax = data['near ax'].to_numpy()\n",
    "near_ay = data['near ay'].to_numpy()\n",
    "near_az = data['near az'].to_numpy()\n",
    "far_ax = data['far ax'].to_numpy()\n",
    "far_ay = data['far ay'].to_numpy()\n",
    "far_az = data['far az'].to_numpy()"
   ]
  },
  {
   "cell_type": "markdown",
   "id": "9105eaba-c6f6-4256-80da-429e952acd3f",
   "metadata": {},
   "source": [
    "## <span style=\"color:orange;\"> 4. Describe Your Experience </span> "
   ]
  },
  {
   "cell_type": "markdown",
   "id": "a94e4f02-6a71-44d3-98e5-b5b1179e1d87",
   "metadata": {
    "tags": []
   },
   "source": [
    "Any time you gather data, it is good to produce a written reflection on what happened. Together with your group members, answer the following questions:\n",
    "\n",
    "### <span style=\"color:red\"> Exercise 5 </span> (15 pts)\n",
    "\n",
    "- Approximately how long did you spend on each part of the process? Did any parts take longer than expected?\n",
    "- Did any surprises occur while you were gathering data? Did you notice any sources of error which you did not expect?\n",
    "- Which of your measurements do you suspect to be the most accurate? Which do you suspect to be the least accurate?\n",
    "\n",
    "<h3 style=\"background-color:lightblue\"> Write Answers for Exercise 5 Below </h3>"
   ]
  },
  {
   "cell_type": "markdown",
   "id": "cb04d03d-6436-4490-92d6-59be2c7b2448",
   "metadata": {},
   "source": []
  },
  {
   "cell_type": "markdown",
   "id": "a1288929-1612-4b4f-9feb-80771dcf5b93",
   "metadata": {},
   "source": [
    "## <span style=\"color:orange;\"> 5. Compute Some Answers </span> "
   ]
  },
  {
   "cell_type": "markdown",
   "id": "539af070-fab9-441d-a3d8-b43291d7a367",
   "metadata": {},
   "source": [
    "Remember the formula we found in [trig_handout.pdf](https://github.com/TheDataScienceLabs/DSLab_Calculus/blob/main/book/labs/4_measure_tall_things/c_make_the_measurements/trig_handout/trig_handout.pdf):\n",
    "\\begin{align*}\n",
    "h = \\frac{r}{\\cot \\theta -\\cot \\phi}+k\n",
    "\\end{align*}\n",
    "It has terms $\\cot\\theta$ and $\\cot\\phi$. We will need to compute these from the data you gathered -- the components of acceleration (x, y and z). In order to calculate $\\theta$ and $\\phi$, you can plug the acceleration components (y and x in this case) into the following formula to get the angle in degrees:\n",
    "\\begin{align*}\n",
    "\\theta\\ and\\ \\phi = \\tan^{-1}(\\dfrac{-x}{y}) \\cdot \\dfrac{180}{\\pi}\n",
    "\\end{align*}\n",
    "\n",
    "### <span style=\"color:red\"> Exercise 6 </span> (10 pts)\n",
    "\n",
    "While it is possible to directly calculate $\\cot\\theta$ and $\\cot\\phi$, there is a more direct way. After reading through [avoiding_trig_calculations.pdf](https://github.com/TheDataScienceLabs/DSLab_Calculus/blob/main/book/labs/4_measure_tall_things/c_make_the_measurements/avoiding_trig_calculations/avoiding_trig_calculations.pdf), find a simpler way to calculate $h$, reducing the use of trig functions.\n",
    "\n",
    "*HINT: When plug in our formula for $\\theta$ and $\\phi$ into the cotangent, we will end up with $\\cot(\\tan^{-1}(\\frac{-x}{y}))$*\n",
    "\n",
    "<h3 style=\"background-color:lightblue\"> Write Answers for Exercise 6 Below </h3>"
   ]
  },
  {
   "cell_type": "markdown",
   "id": "48e33b89-ab53-40a1-8132-aea3f6c8a8e9",
   "metadata": {},
   "source": []
  },
  {
   "cell_type": "markdown",
   "id": "0011eabd-290d-460b-b7d4-4e4bded11588",
   "metadata": {},
   "source": [
    "### Check if your angles are reasonable\n",
    "\n",
    "### <span style=\"color:red\"> Exercise 7 </span> (10 pts)\n",
    "\n",
    "Use the first formula you found in exercise 6 to compute $\\theta$ and $\\phi$ for the data you collected. Note that the components of acceleration are available in numpy arrays, `near_ax`, `near_ay`, etc. Then, write two to three sentences about whether you think your answers are reasonable. If you think your answers are not reasonable, figure out what went wrong.\n",
    "\n",
    "<h3 style=\"background-color:lightblue\"> Write Answers for Exercise 7 Below </h3>"
   ]
  },
  {
   "cell_type": "code",
   "execution_count": null,
   "id": "7cdae8c6-cdac-4a86-a3ba-260fd4f1e52f",
   "metadata": {},
   "outputs": [],
   "source": [
    "# write some code here to find theta and phi"
   ]
  },
  {
   "cell_type": "markdown",
   "id": "bf8f2ffb-2445-49d3-b2e2-48e187dcc727",
   "metadata": {},
   "source": [
    "(write your statement about the reasonableness of your answers here)"
   ]
  },
  {
   "cell_type": "markdown",
   "id": "01991cc6-f283-4a58-8766-d50593daf337",
   "metadata": {},
   "source": [
    "### Find the heights\n",
    "\n",
    "### <span style=\"color:red\"> Exercise 8 </span> (10 pts)\n",
    "\n",
    "Compute the height $h$ of each building using the second formula from exercise 6. Then, comment on whether your answers are reasonable. Based on the range of values you got, how precise do you think your answers are? Next time, we will explore a way to figure out exactly how accurate your answers are. For now, take an educated guess and explain how you made your guess.\n",
    "\n",
    "<h3 style=\"background-color:lightblue\"> Write Answers for Exercise 8 Below </h3>"
   ]
  },
  {
   "cell_type": "code",
   "execution_count": null,
   "id": "e74b7c2c-5dec-41e9-a18a-7a7b38726c72",
   "metadata": {},
   "outputs": [],
   "source": [
    "#compute h here"
   ]
  },
  {
   "cell_type": "markdown",
   "id": "48587783-f0e0-407d-b079-e09f1defd24c",
   "metadata": {},
   "source": [
    "(comment on reasonableness here)"
   ]
  },
  {
   "cell_type": "markdown",
   "id": "ca9b2469-ee80-4f4d-a1a0-a0d3974986e4",
   "metadata": {},
   "source": [
    "## <span style=\"color:orange;\"> 6. Reflect on the Lab </span> "
   ]
  },
  {
   "cell_type": "markdown",
   "id": "b7362e36-90d1-48e4-81b2-c412414e15b3",
   "metadata": {},
   "source": [
    "**Answer this part on your own -- your answer should be different from your teammates'.**\n",
    "\n",
    "### <span style=\"color:red\"> Exercise 9 </span> (15 pts)\n",
    "\n",
    "How did the lab today go? Write two paragraphs explaining how you feel about it. Any answer which has at least two full paragraphs will receive full credit. If you need an idea, here are some things you could discuss:\n",
    "\n",
    "- Which parts did you feel you did well? How did you contribute to your group?\n",
    "- What, if anything, have you learned today?\n",
    "- Are there any topics we discussed today which you feel you don't fully understand yet? Where is there room for you to grow?\n",
    "- What parts of the lab can the instructors improve? Do you have any suggestions?\n",
    "\n",
    "<h3 style=\"background-color:lightblue\"> Write Answers for Exercise 9 Below </h3>"
   ]
  },
  {
   "cell_type": "markdown",
   "id": "421a6f10-10ee-4c8c-a6ad-3ff7d7ed5c4f",
   "metadata": {},
   "source": []
  }
 ],
 "metadata": {
  "kernelspec": {
   "display_name": "Python 3 (ipykernel)",
   "language": "python",
   "name": "python3"
  },
  "language_info": {
   "codemirror_mode": {
    "name": "ipython",
    "version": 3
   },
   "file_extension": ".py",
   "mimetype": "text/x-python",
   "name": "python",
   "nbconvert_exporter": "python",
   "pygments_lexer": "ipython3",
   "version": "3.11.5"
  }
 },
 "nbformat": 4,
 "nbformat_minor": 5
}
