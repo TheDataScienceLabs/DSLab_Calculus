{
 "cells": [
  {
   "cell_type": "markdown",
   "id": "2290628c-4e7b-4517-b10a-343c0fe26411",
   "metadata": {},
   "source": [
    "# Week 2: Introduction to Python, Data Visualization, Sampling/Aliasing\n",
    "<font size=\"6\"> Laboratory 1 </font> <br>\n",
    "<font size=\"3\"> Last updated Aug 29, 2023 </font>"
   ]
  },
  {
   "cell_type": "markdown",
   "id": "4c838dd0",
   "metadata": {},
   "source": [
    "## <span style=\"color:orange;\"> 00. Content </span>"
   ]
  },
  {
   "cell_type": "markdown",
   "id": "ef4d94bd",
   "metadata": {},
   "source": [
    "<font size=\"5\"> Mathematics </font>\n",
    "- Functions \n",
    "- Sampling \n",
    "- Aliasing\n",
    "     \n",
    "<font size=\"5\"> Programming Skills </font>\n",
    "- Importing libraries\n",
    "- Importing files\n",
    "- NumPy Python library\n",
    "- Matplotlib Python library\n",
    "- Functions\n",
    "- Variables values, types and basic operations\n",
    "- Lists and arrays\n",
    "- Line plot, title, axes labels\n",
    "- For loops\n",
    "    \n",
    "<font size=\"5\"> Embedded Systems </font>\n",
    "- N/A"
   ]
  },
  {
   "cell_type": "markdown",
   "id": "4a6b2a8a",
   "metadata": {},
   "source": [
    "## <span style=\"color:orange;\"> 0. Required Hardware </span> "
   ]
  },
  {
   "cell_type": "markdown",
   "id": "0d037ff8",
   "metadata": {},
   "source": [
    "- N/A"
   ]
  },
  {
   "cell_type": "markdown",
   "id": "806bf082-bc86-4ca1-a6ed-f3ed7cd8a221",
   "metadata": {},
   "source": [
    "<h3 style=\"background-color:lightblue\"> Write your name and email below: </h3>\n",
    "\n",
    "First Name, Last Name, Email"
   ]
  },
  {
   "cell_type": "markdown",
   "id": "cd4f2cf2",
   "metadata": {},
   "source": [
    "## <span style=\"color:orange;\"> 1. About Python and Jupyter </span>"
   ]
  },
  {
   "cell_type": "markdown",
   "id": "28f037b5",
   "metadata": {},
   "source": [
    "Python is a programming language with a simple, easy to learn, and easy to read syntax. It is a free and open source software that includes many handy libraries for doing mathematics. The labs in this course use Python 3.\n",
    "\n",
    "The document you are reading is a \"Jupyter\" file called a \"Jupyter notebook.\" Jupyter (formerly IPython) is a system that allows you to embed Python code within a web document.  Jupyter is called a \"REPL\" system. REPL stands for \"Read, Evaluate, Print, Loop.\" In concrete terms, this means that Jupyter files are executed piece-by-piece. Each piece is put in a box. The user executes a box by pressing shift-enter. The output is returned to the user right below the box. This makes Jupyter notebooks interactive.  "
   ]
  },
  {
   "cell_type": "markdown",
   "id": "db9efc45",
   "metadata": {},
   "source": [
    "## <span style=\"color:orange;\"> 2. Python Libraries </span>"
   ]
  },
  {
   "cell_type": "markdown",
   "id": "f8e81c9b",
   "metadata": {},
   "source": [
    "In this lab, two Python libraries will be heavily used, __*NumPy*__ and __*Matplotlib*__.\n",
    "\n",
    "[__*NumPy*__](https://numpy.org) supports multi-dimensional arrays and matrices, and provides numerous mathematical functions to be operated on these arrays and matrices.\n",
    "\n",
    "[__*Matplotlib*__](https://matplotlib.org) is a plotting library, and in this lab, we will be mainly using __*matplotlib.pyplot*__, which provides a MATLAB-like way of plotting. You can refer to [Pyplot Tutorial](https://matplotlib.org/tutorials/introductory/pyplot.html) for more detailed instructions."
   ]
  },
  {
   "cell_type": "markdown",
   "id": "2dcd9757",
   "metadata": {},
   "source": [
    "These libraries need to be imported before one can access the attributes and functions within these libraries. \n",
    "Let's import these libraries. For simplicity, we will rename numpy as \"np\" and matplotlib.pyplot as \"plt\". This is a common convention. \n",
    "Execute the following blocks by pressing (shift-enter) after clicking on the gray box of code below."
   ]
  },
  {
   "cell_type": "code",
   "execution_count": null,
   "id": "9f246516",
   "metadata": {},
   "outputs": [],
   "source": [
    "import numpy as np\n",
    "import matplotlib.pyplot as plt"
   ]
  },
  {
   "cell_type": "markdown",
   "id": "cc512b20",
   "metadata": {},
   "source": [
    "Notice that the modules were imported using the syntax $\\mathtt{\\quad import\\quad [module\\_name] \\quad as \\quad [alias]}$. We used the alias \"np\" for numpy, and \"plt\"  for matplotlib.pyplot. This means that, from now on, we can  simply type \"np\" in place of numpy, and \"plt\" in place of matplotlib.pyplot. \n",
    "\n",
    "Note that __np__ and __plt__ are the conventional aliases of __NumPy__ and __matplotlib.pyplot__, respectively, and we will be following the conventions throughout this and the remaining labs. "
   ]
  },
  {
   "cell_type": "markdown",
   "id": "d45dc9aa",
   "metadata": {},
   "source": [
    "In addition, we will need some functions that have been defined specifically for this lab. These are written inside a python file called `lab1.py`, which you can download by pressing *shift+enter* to execute the following block."
   ]
  },
  {
   "cell_type": "code",
   "execution_count": 2,
   "id": "f4872dba-bb5a-4b8b-8fde-712a444ad9b3",
   "metadata": {
    "deletable": false,
    "editable": false
   },
   "outputs": [],
   "source": [
    "%%sh\n",
    "wget -qN https://raw.githubusercontent.com/TheDataScienceLabs/DSLab_Calculus/main/book/labs/1_intro_to_notebooks/lab1.py"
   ]
  },
  {
   "cell_type": "markdown",
   "id": "69f827cd-c7a1-4c9d-92f0-e0e40e561923",
   "metadata": {},
   "source": [
    "Now, let's import the library we just downloaded. We will also need functions from the __math__ library for this lab, so lets import that too"
   ]
  },
  {
   "cell_type": "code",
   "execution_count": null,
   "id": "6781ab6e",
   "metadata": {},
   "outputs": [],
   "source": [
    "import math\n",
    "import lab1 as lab1"
   ]
  },
  {
   "cell_type": "markdown",
   "id": "a4dcc073",
   "metadata": {},
   "source": [
    "Throughout the course of these labs, you'll be given files which, like `lab1.py`, contain certain functions that you will need to complete the experiments. You should not need to edit the files, you will only be asked to import their functions and use them based on a specific syntax that will be given to you."
   ]
  },
  {
   "cell_type": "markdown",
   "id": "753609d3",
   "metadata": {},
   "source": [
    "Please execute the following block of code. This will set some parameters for the plots you will produce below. It will also automatically reload all external modules.  This will prevent you from having to reload `lab1.py` every time you use it. "
   ]
  },
  {
   "cell_type": "code",
   "execution_count": null,
   "id": "a3462050",
   "metadata": {},
   "outputs": [],
   "source": [
    "# make sure the plot is displayed in this notebook\n",
    "%matplotlib inline\n",
    "# specify the size of the plot\n",
    "plt.rcParams['figure.figsize'] = (16, 6)\n",
    "\n",
    "# for auto-reloading external modules\n",
    "%load_ext autoreload\n",
    "%autoreload 2"
   ]
  },
  {
   "cell_type": "markdown",
   "id": "a5466abe",
   "metadata": {},
   "source": [
    "## <span style=\"color:orange;\"> 3. Functions </span>"
   ]
  },
  {
   "cell_type": "markdown",
   "id": "944dc571",
   "metadata": {},
   "source": [
    "Functions are groups of code that always run together. When you call a function, you execute the code that is associated within that function. Functions can take inputs, manipulate the inputs, and return an output. "
   ]
  },
  {
   "cell_type": "markdown",
   "id": "9736f557",
   "metadata": {},
   "source": [
    "The file `lab1.py` contains a function named `pyramid`. The function simply takes an integer value `x`, displays a half pyramid of # symbols with  `x` rows (using the value  of `x` given), and returns the total number of #s in the half pyramid. In this case, the returned value is stored in a variable named `k`. In the example below, we inputted the value `4` into the function, created a half pyramid with the input value `k=4` as the number of rows, and returned the resulting number of # symbols in the half pyramid.\n",
    "\n",
    "You can view the content of the function `pyramid` by opening the [lab1.py](https://github.com/TheDataScienceLabs/DSLab_Calculus/blob/main/book/labs/1_intro_to_notebooks/lab1.py) file. Take a look at it!"
   ]
  },
  {
   "cell_type": "markdown",
   "id": "23dd3ec5",
   "metadata": {},
   "source": [
    "Now let's evaluate the function ```pyramid``` and print the result. "
   ]
  },
  {
   "cell_type": "code",
   "execution_count": null,
   "id": "415f8d58",
   "metadata": {},
   "outputs": [],
   "source": [
    "k = lab1.pyramid(4)\n",
    "print(\"The number of #s in the half pyramid is {}.\".format(k))"
   ]
  },
  {
   "cell_type": "markdown",
   "id": "b97bef0b",
   "metadata": {},
   "source": [
    "### <span style=\"color:red;\"> Exercise 1 </span> (10 pts)"
   ]
  },
  {
   "cell_type": "markdown",
   "id": "98389a23",
   "metadata": {},
   "source": [
    "__*Question 1*__: What would the expected value of ```m``` be if the following code was given? How many #s would be on the 5th row?\n",
    "\n",
    "```python\n",
    "m = lab1.pyramid(7)\n",
    "```\n",
    "__*Question 2*__: Use the pyramid function to build a half-pyramid with 10 rows and compute the number of # symbols in the half pyramid."
   ]
  },
  {
   "cell_type": "markdown",
   "id": "07f05b9c",
   "metadata": {
    "tags": []
   },
   "source": [
    "<h3 style=\"background-color:lightblue\"> Write Answers for Exercise 1 Question 1 Below </h3>"
   ]
  },
  {
   "cell_type": "markdown",
   "id": "15844aa0",
   "metadata": {},
   "source": [
    "Write your answer here"
   ]
  },
  {
   "cell_type": "markdown",
   "id": "59d3edd0",
   "metadata": {},
   "source": [
    "<h3 style=\"background-color:lightblue\"> Write Answers for Exercise 1 Question 2 Below </h3>"
   ]
  },
  {
   "cell_type": "code",
   "execution_count": null,
   "id": "43c5a1ba",
   "metadata": {},
   "outputs": [],
   "source": [
    "# Write your answer here "
   ]
  },
  {
   "cell_type": "markdown",
   "id": "fc2d70f6",
   "metadata": {},
   "source": [
    "### Basic Operations"
   ]
  },
  {
   "cell_type": "markdown",
   "id": "7fb864cd",
   "metadata": {},
   "source": [
    "Python 3 provides basic types including integers, floats, strings, and booleans. We can assign a value of any of these types to a variable."
   ]
  },
  {
   "cell_type": "markdown",
   "id": "764bd579",
   "metadata": {},
   "source": [
    "For instance, if we want the variable called $\\mathtt{a}$ to hold the value of 5. This is referred to as initializing a variable with a value.\n",
    "\n",
    "We can also use a function called $\\mathtt{print()}$ to print out a specified input."
   ]
  },
  {
   "cell_type": "code",
   "execution_count": null,
   "id": "ca3be5bd",
   "metadata": {
    "scrolled": true
   },
   "outputs": [],
   "source": [
    "a = 5                        # initialize a with the value of 5\n",
    "print(a)                     # print out the value of a            "
   ]
  },
  {
   "cell_type": "markdown",
   "id": "6d201767",
   "metadata": {},
   "source": [
    "Basic operations like adding, subtracting, multiplying, and dividing can be used to manipulate these variables and/or values."
   ]
  },
  {
   "cell_type": "code",
   "execution_count": null,
   "id": "1bfeb134",
   "metadata": {},
   "outputs": [],
   "source": [
    "a = 5                         # initialize a with the value of 5\n",
    "b = a + 10                    # assign a + 10 to b\n",
    "c = a - 5                     # subtract a by 5\n",
    "d = b * 4                     # multiply b by 4\n",
    "e = 50 / a                    # divide 50 by a\n",
    "f = b // 7                    # integer division, result is the division without the succeeding numbers after the decimal\n",
    "g = a ** 2                    # a to the power of 2\n",
    "h = (d + 3) ** 0.5            # add 3 to d and take it to the 0.5 power (that's a square root!)\n",
    "i = f == 2                    # return True if f is 2, otherwise return False \n",
    "j = d % 13                    # d modulo 13, result is the remainder\n",
    "\n",
    "print(a)\n",
    "print(b)\n",
    "print(c)\n",
    "print(d)\n",
    "print(e)\n",
    "print(f)\n",
    "print(g)\n",
    "print(h)\n",
    "print(i)\n",
    "print(j)"
   ]
  },
  {
   "cell_type": "markdown",
   "id": "8850bc0d",
   "metadata": {},
   "source": [
    "Most of these operations are probably familiar to you, though the last two are typically only used in computing. \n",
    "\n",
    "`==` tests if the term to its right has the same value as the term to its left. If they are the same, it gives the value `True` and if they are different it gives the value `False`.\n",
    "\n",
    "`%` is the \"modulo\" function, which gives the remainder after division. For example, since 14/4 is three with a remainder of 2, the expression `14%4` gives the value `2`.\n",
    "\n",
    "Try some other operations on your own! For example, try printing the roots of $ax^2+bx+c$ using the quadratic formula and some specified values for $a,b$ and $c$. This portion is a sandbox, and is not graded. Just play around a bit! Remember that you can do a square root by raising a number to the power 0.5.\n",
    "\n",
    "<h3 style=\"color:green;\"><left> Sandbox </left></h3>"
   ]
  },
  {
   "cell_type": "code",
   "execution_count": 6,
   "id": "85ab3072",
   "metadata": {},
   "outputs": [],
   "source": [
    "# Sandbox"
   ]
  },
  {
   "cell_type": "markdown",
   "id": "ebde6ea0",
   "metadata": {},
   "source": [
    "### <span style=\"color:red;\"> Exercise 2 </span> (10 pts)"
   ]
  },
  {
   "cell_type": "markdown",
   "id": "5a6aeb5e",
   "metadata": {},
   "source": [
    "__Part 1__ (5 pts)\n",
    "\n",
    "Code the following operations.\n",
    "\n",
    "1. Initialize the variable ```xyz``` to the value ```9```.\n",
    "2. Take the third power of ```xyz``` and store it in a new variable called ```abc```.\n",
    "3. Create another variable called ```okay``` and copy the value of ```xyz``` to it.\n",
    "4. Multiply ```okay``` by 14 and store it in ```okay```.\n",
    "5. Take the remainder of ```okay / 5``` and store it in ```rem```.\n",
    "6. Add together ```okay```, ```xyz```, ```rem```, and ```abc``` and store it in a variable called ```sum```.\n",
    "7. Print the value of ```sum```.\n",
    "\n",
    "__Part 2__ (5 pts)\n",
    "\n",
    "Answer the following questions.\n",
    "\n",
    "__*Question 1*__: What is 8 % 9?<br>\n",
    "__*Question 2*__: What operation would help you decide whether a given number is even or odd?"
   ]
  },
  {
   "cell_type": "markdown",
   "id": "668a060c",
   "metadata": {},
   "source": [
    "<h3 style=\"background-color:lightblue\"> Write Answers for Exercise 2 Part 1 Below </h3>\n",
    "You may create additional boxes as needed by clicking the \"+\" sign in the menu above this window or by hovering your mouse at the bottom of a cell. This will create a box of code, by default. If you want to switch it to a box of Markdown, in order to write text, then select \"Markdown\" from the dropdown menu above this window. "
   ]
  },
  {
   "cell_type": "markdown",
   "id": "2a3b7ea6",
   "metadata": {},
   "source": [
    "Write your ansewr here"
   ]
  },
  {
   "cell_type": "markdown",
   "id": "9d09972f",
   "metadata": {},
   "source": [
    "<h3 style=\"background-color:lightblue\"> Write Answers for Exercise 2 Part 2 Below </h3>"
   ]
  },
  {
   "cell_type": "markdown",
   "id": "f661f32b",
   "metadata": {},
   "source": [
    "Write your answer here"
   ]
  },
  {
   "cell_type": "markdown",
   "id": "2f461336",
   "metadata": {},
   "source": [
    "## <span style=\"color:orange;\"> 4. Formatting </span> "
   ]
  },
  {
   "cell_type": "markdown",
   "id": "a855e4f3",
   "metadata": {},
   "source": [
    "A variable can also be initialized by a string. A string can also be formatted for output. When formatting a string, the $\\mathtt{format()}$ function replaces $\\mathtt{\\{\\}}$ with its specified inputs."
   ]
  },
  {
   "cell_type": "code",
   "execution_count": null,
   "id": "c8e22278",
   "metadata": {},
   "outputs": [],
   "source": [
    "j = \"Hello World!\"                             # assign j to a string\n",
    "str1 = \"The value of j is {}\".format(j)\n",
    "str2 = \"The values of f and g are {} and {}, respectively.\".format(f, g)\n",
    "str3 = \"The value of h is {:.3f}.\".format(h)   # formats the value of h to be rounded to 3 decimal places\n",
    "print(\"Data Science is cool!\")\n",
    "print(str1)\n",
    "print(str2)\n",
    "print(str3)"
   ]
  },
  {
   "cell_type": "markdown",
   "id": "704caed0",
   "metadata": {},
   "source": [
    "### <span style=\"color:red;\"> Exercise 3 </span> (10 pts)"
   ]
  },
  {
   "cell_type": "markdown",
   "id": "57fc81cd",
   "metadata": {},
   "source": [
    "When you analyzed the code in ```lab1.py``` earlier, you would have noticed that there are three additional functions in the file. Follow the instructions below to see what the ```mystery``` function does. \n",
    "\n",
    "__Part 1__ (5 pts)\n",
    "\n",
    "Code the following operations.\n",
    "\n",
    "1. Call the ```mystery``` function from the file like we did earlier. The ```mystery``` function takes an integer as an input and returns an integer as an output. Assign the input to the value ```7``` and the output of the function to a variable named ```num```.\n",
    "3. Manipulate the value of ```num``` in one line of code by first adding ```51```, then dividing that value by ```7```, and multiplying that value by ```3```. Assign this new number to the variable ```new_num```. **Don't forget to use parentheses when appropriate.** \n",
    "4. Print the value of ```num``` to 2 decimal places and the value of ```new_num``` to the 5th decimal. Follow the output of ```\"The value of num is ___ and the value of new_num is ___.\"```.\n",
    "\n",
    "__Part 2__ (5 pts)\n",
    "\n",
    "Describe what the ```mystery``` function outputted. How did the value we inputted into the function get manipulated?"
   ]
  },
  {
   "cell_type": "markdown",
   "id": "fb459a9b",
   "metadata": {},
   "source": [
    "<h3 style=\"background-color:lightblue\"> Write Answers for Exercise 3 Part 1 Below </h3>"
   ]
  },
  {
   "cell_type": "code",
   "execution_count": null,
   "id": "eaebb43f",
   "metadata": {},
   "outputs": [],
   "source": [
    "# Write your answer here"
   ]
  },
  {
   "cell_type": "markdown",
   "id": "0074918c",
   "metadata": {},
   "source": [
    "<h3 style=\"background-color:lightblue\"> Write Answers for Exercise 3 Part 2 Below </h3>"
   ]
  },
  {
   "cell_type": "markdown",
   "id": "aa81d00f",
   "metadata": {},
   "source": [
    "Write your ansewr here"
   ]
  },
  {
   "cell_type": "markdown",
   "id": "e8c60dde",
   "metadata": {},
   "source": [
    "## <span style=\"color:orange;\"> 5. For Loops </span>"
   ]
  },
  {
   "cell_type": "markdown",
   "id": "a6d8f395",
   "metadata": {},
   "source": [
    "*For* loops help us iterate through a range of values or lists. These will be very helpful in analyzing data in future labs.\n",
    "\n",
    "To help us understand *for* loops we will use a function called $\\mathtt{range()}$. This function creates a sequence of values given a set of numbers as its inputs. $\\mathtt{range(i, j, k)}$ where ```i``` is the closed interval start value, ```j``` is the open interval end value, and ```k``` is the stepping size."
   ]
  },
  {
   "cell_type": "code",
   "execution_count": null,
   "id": "d0d7470f",
   "metadata": {},
   "outputs": [],
   "source": [
    "for i in range(5):           # i begins from 0 as default, and ends at 4 (not 5). Interval of sequence is [0, 5) \n",
    "  print(i)\n",
    "print(\"------------\")\n",
    "for j in range(13, 17, 1):   # j begins from 13 and increments by 1 until 16 (not 17). Interval of sequence is [13,17)\n",
    "  print(j)\n",
    "print(\"------------\")\n",
    "for k in range(0, 10, 2):    # k begins from 0 and increments by 2 until 8 (not 10). Interval of sequence is [0, 10)\n",
    "  print(k)\n",
    "print(\"------------\")\n",
    "for z in range(45, 40, -1):  # z begins from 45 and decrements by 1 until 41 (not 40). Interval of sequence is (40, 45]\n",
    "  print(z)"
   ]
  },
  {
   "cell_type": "markdown",
   "id": "665749ae",
   "metadata": {},
   "source": [
    "### <span style=\"color:red;\"> Exercise 4 </span> (10 pts)"
   ]
  },
  {
   "cell_type": "markdown",
   "id": "0f236fee",
   "metadata": {},
   "source": [
    "What would you expect the sequences for the following ```range()``` functions be?\n",
    "\n",
    "__*Question 1*__: ```range(2, 14, 1)``` <br>\n",
    "__*Question 2*__: ```range(14, 2, -6)``` <br>\n",
    "__*Question 3*__: ```range(11)```<br>\n",
    "__*Question 4*__: ```range(7, 15)```"
   ]
  },
  {
   "cell_type": "markdown",
   "id": "019e3237",
   "metadata": {},
   "source": [
    "<h3 style=\"background-color:lightblue\"> Write Answers for Exercise 4 Below </h3>"
   ]
  },
  {
   "cell_type": "markdown",
   "id": "d2d4f3ea",
   "metadata": {},
   "source": [
    "Write your answer here"
   ]
  },
  {
   "cell_type": "markdown",
   "id": "8f10165d",
   "metadata": {},
   "source": [
    "## <span style=\"color:orange;\"> 6. Lists </span>"
   ]
  },
  {
   "cell_type": "markdown",
   "id": "4fc50724",
   "metadata": {},
   "source": [
    "*Lists* are used to store multiple items in a single variable.\n",
    "\n",
    "*Lists* are indexed by starting with 0. So, an element at index 0 of a *list* is the first element of the *list*, index 1 is the second element, index 2 is the third element,... and so on until the end of list.\n",
    "\n",
    "Examples of some lists are shown below.\n",
    "\n",
    "For accessing sections of the list, we can splice the list by indexing. Essentially, we are obtaining a sublist. The basic slicing syntax is ```list[i:j:k]```, where ```i``` is the starting index, ```j``` is the stopping index, and ```k``` is the step. If the starting index is $\\mathtt{0}$, it can be ignored. If the ending index is the length of the list, you can ignore it. If the step size is $\\mathtt{1}$, it can also be ignored. The indexing interval rules are similar to that of the $\\mathtt{range()}$ we had done earlier."
   ]
  },
  {
   "cell_type": "code",
   "execution_count": null,
   "id": "f4bbfe45",
   "metadata": {},
   "outputs": [],
   "source": [
    "thislist = [\"mango\", \"strawberry\", \"peach\", \"plum\", \"orange\"]   # initialize thislist with strings\n",
    "print(thislist[0])                                              # value of thislist at index 0 (first element)\n",
    "print(thislist[2])                                              # value of thislist at index 2 (third element)\n",
    "print(thislist[-1])                                             # 1st element from the end of list                      \n",
    "print(thislist[-3])                                             # 3rd element from the end of list\n",
    "sublist = thislist[1:4:2]                                       # sublist of every other element starting from index 1 to 3 \n",
    "print(sublist)                                          \n",
    "print(thislist[:3:1])                                           # sublist from index 0 to 2\n",
    "print(thislist[3::1])                                           # sublist from index 3 to end of list\n",
    "print(thislist[1:4])                                            # sublist from index 1 to 3\n",
    "\n",
    "nextlist = [2, 4, 5, 7, 9]                                      # initialize nextlist with integers\n",
    "num = 0\n",
    "for m in nextlist:                                              # iterate through all the elements of nextlist\n",
    "  num = num + m                                                 # sum all the elements of list together\n",
    "  print(m)                                                      # print the current values of nextlist\n",
    "print(\"The sum of the values of nextlist is stored in 'num' which is {}.\".format(num))"
   ]
  },
  {
   "cell_type": "markdown",
   "id": "ba1ba786-b214-48a0-a9a2-f751c815fab1",
   "metadata": {},
   "source": [
    "When coding, there are \"good practices\" that people tend to follow. This includes naming conventions. In the case of lists, it's good practice to not name them \"list.\" This is because it can mess up the program and cause it to get confused, especially if there's more than one being used. This goes for other similar structures, such as arrays (\"array\"), variable types (integer \"int,\" string \"string,\" etc.), and really anything else that you can think of.\n",
    "\n",
    "Remember to follow implement these good practices throughout this course and any other time you're coding!"
   ]
  },
  {
   "cell_type": "markdown",
   "id": "2237284a",
   "metadata": {},
   "source": [
    "### <span style=\"color:red;\"> Exercise 5 </span> (10 pts)"
   ]
  },
  {
   "cell_type": "markdown",
   "id": "4f776859",
   "metadata": {},
   "source": [
    "Follow the instructions below:\n",
    "\n",
    "__Part 1__ (2.5 pts)\n",
    "\n",
    "- Initialize a *list* of integers with the values of 10, 45, 6, 90, 5, 87, 56.\n",
    "- Calculate the average of this *list* using a *for* loop.\n",
    "- Print the average. *Format* the average and have it rounded to the 2nd decimal point.\n",
    "\n",
    "__Part 2__ (2.5 pts)\n",
    "\n",
    "- Create a sublist of *list* that includes every other element starting from index 0, including the last element.\n",
    "- Print this sublist.\n",
    "\n",
    "__Part 3__ (2.5 pts)\n",
    "\n",
    "- Create a *for* loop that prints out the odd numbers between 1 and 21, including 1 and not including 21.\n",
    "\n",
    "__Part 4__ (2.5 pts)\n",
    "\n",
    "- Create a *for* loop that prints out the values 36, 29, 22, 15, 8 in this order."
   ]
  },
  {
   "cell_type": "markdown",
   "id": "c7ca69b3",
   "metadata": {},
   "source": [
    "<h3 style=\"background-color:lightblue\"> Write Answers for Exercise 5 Part 1 Below </h3>"
   ]
  },
  {
   "cell_type": "code",
   "execution_count": null,
   "id": "1bbc78e0",
   "metadata": {},
   "outputs": [],
   "source": [
    "# Write your answer here"
   ]
  },
  {
   "cell_type": "markdown",
   "id": "e4366f78",
   "metadata": {},
   "source": [
    "<h3 style=\"background-color:lightblue\"> Write Answers for Exercise 5 Part 2 Below </h3>"
   ]
  },
  {
   "cell_type": "code",
   "execution_count": null,
   "id": "fa4d4808",
   "metadata": {},
   "outputs": [],
   "source": [
    "# Write your answer here"
   ]
  },
  {
   "cell_type": "markdown",
   "id": "bcaa9b5d",
   "metadata": {},
   "source": [
    "<h3 style=\"background-color:lightblue\"> Write Answers for Exercise 5 Part 3 Below </h3>"
   ]
  },
  {
   "cell_type": "code",
   "execution_count": null,
   "id": "c4384bea",
   "metadata": {},
   "outputs": [],
   "source": [
    "# Write your answer here"
   ]
  },
  {
   "cell_type": "markdown",
   "id": "c6c6c803",
   "metadata": {},
   "source": [
    "<h3 style=\"background-color:lightblue\"> Write Answers for Exercise 5 Part 4 Below </h3>"
   ]
  },
  {
   "cell_type": "code",
   "execution_count": null,
   "id": "47161b59",
   "metadata": {},
   "outputs": [],
   "source": [
    "# Write your answer here"
   ]
  },
  {
   "cell_type": "markdown",
   "id": "f635295d",
   "metadata": {},
   "source": [
    "## <span style=\"color:orange;\"> 7. Matplotlib Interface </span> "
   ]
  },
  {
   "cell_type": "markdown",
   "id": "6bd0d7b7",
   "metadata": {},
   "source": [
    "So now that we know how to create *lists*. We can now use these *lists* to create graphs. \n",
    "\n",
    "Earlier, we imported the Matplotlib library using the instructive, ```import matplotlib.pyplot as plt```. Matplotlib is a low level graph plotting library. You will notice that ```matplotlib``` has an extension to it, ```pyplot```. ```pyplot``` is a submodule of ```matplotlib``` that will help us plot our graphs.\n",
    "\n",
    "Let's look at how this can be done."
   ]
  },
  {
   "cell_type": "markdown",
   "id": "41bf018b",
   "metadata": {},
   "source": [
    "Often when we have a graph, we will have a set of ```x``` coordinates and a set of ```y``` coordinates. In this case, we are going to define ```x``` and ```y``` as lists. These lists have to be of equal length, and each coordinate value corresponds to the same indices. For instance, in the example below, the coordinates that will be graphed are ```(1,1), (2,2), (3,3), (4,4), (5,5), (6,6), and (7,7)```. When using the ```plt.plot()``` function, a line graph will be drawn. __Remember that in future labs, you should be more descriptive in your variable names when describing the dependent and independent variables of a data set that you are plotting.__"
   ]
  },
  {
   "cell_type": "code",
   "execution_count": null,
   "id": "4965825c",
   "metadata": {},
   "outputs": [],
   "source": [
    "x = [1, 2, 3, 4, 5, 6, 7]                               # x coordinate list\n",
    "y = [1, 2, 3, 4, 5, 6, 7]                               # y coordinate list\n",
    "\n",
    "plt.plot(x, y)                                          # plots x by y\n",
    "plt.title(\"X vs. Y\")                                    # adds a title\n",
    "plt.xlabel(\"X\")                                         # adds a label on the x axis\n",
    "plt.ylabel(\"Y\")                                         # adds a label on the y axis\n",
    "plt.show()                                              # displays the graph as an output"
   ]
  },
  {
   "cell_type": "markdown",
   "id": "41e792fe",
   "metadata": {},
   "source": [
    "As default, ```plt.plot()``` graphs a line graph. However, you can change this graph to a scatter plot. We can do this by adding an additional input to the function, ```'ro'```. Let's do this."
   ]
  },
  {
   "cell_type": "code",
   "execution_count": null,
   "id": "05772ff5",
   "metadata": {},
   "outputs": [],
   "source": [
    "plt.plot(x, y, 'ro')                                    # plots x by y as a scatter plot\n",
    "plt.show()                                              # displays the graph as an output"
   ]
  },
  {
   "cell_type": "markdown",
   "id": "37e2ff32",
   "metadata": {},
   "source": [
    "You will have noticed that the graph is now a scatter plot, but additionally, the markers are red in color. The first character signifies the color of the marker. In this case, ```r``` is red. And the second character signifies the shape of the marker. ```o``` gave us circle markers. Now that we can change the color and shape of the markers, we can add more data to our graphs. You can look here for different marker types and colors [__*Matplotlib markers*__](https://www.w3schools.com/python/matplotlib_markers.asp)."
   ]
  },
  {
   "cell_type": "code",
   "execution_count": null,
   "id": "88a033ba",
   "metadata": {},
   "outputs": [],
   "source": [
    "x = [1, 2, 3, 4, 5, 6, 7]                               # x coordinate list\n",
    "y1 = [1, 2, 3, 4, 5, 6, 7]                              # y1 coordinate list\n",
    "y2 = [2, 2.5, 3, 3.5, 4, 4.5, 5]                        # y2 coordinate list\n",
    "y3 = [3, 3.75, 4.5, 5.25, 6, 6.75, 7.5]                 # y3 coordinate list\n",
    "\n",
    "plt.plot(x, y1, 'ro', x, y2, 'b^', x, y3, 'g-')         # plots x by y as a scatter plot and a line graph\n",
    "plt.legend(['y1', 'y2', 'y3'], loc=\"lower right\")       # legend, in lower right position\n",
    "plt.title(\"X vs. Y\")                                    # adds a title\n",
    "plt.xlabel(\"X\")                                         # adds a label on the x axis\n",
    "plt.ylabel(\"Y\")                                         # adds a label on the y axis\n",
    "plt.show()                                              # displays the graph as an output"
   ]
  },
  {
   "cell_type": "markdown",
   "id": "52899e59",
   "metadata": {},
   "source": [
    "### <span style=\"color:red;\"> Exercise 6 </span> (10 pts)"
   ]
  },
  {
   "cell_type": "markdown",
   "id": "4ecb8928",
   "metadata": {},
   "source": [
    " **Part 1** (10 pts)\n",
    "\n",
    "Do the following exercises below to implement plotting using matplotlib.\n",
    "\n",
    "1. Create a list called ```x1``` with the following values: ```1, 1.5, 2, 2.5, 3, 2.5, 2, 1.5, 1```.\n",
    "2. Create a list called ```x2``` with the following values: ```1.625, 1.625, 1.75, 1.75, 1.625```.\n",
    "3. Create a list called ```x3``` with the following values: ```2.25, 2.25, 2.375, 2.375, 2.25```.\n",
    "4. Create a list called ```x4``` with the following values: ```1.5, 2.5, 2.375, 1.625, 1.5```.\n",
    "5. Create a list called ```y1``` with the following values: ```2, 2.5, 3, 2.5, 2, 1.5, 1, 1.5, 2```.\n",
    "6. Create a list called ```y2``` with the following values: ```2.5, 2.25, 2.25, 2.5, 2.5```.\n",
    "7. Create a list called ```y3``` with the following values: ```1.75, 1.75, 1.5, 1.5, 1.75```.\n",
    "8. On the same graph, plot ```x1``` by ```y1``` as a solid yellow line, and ```x2``` by ```y2```, ```x3``` by ```y2```, and ```x4``` by ```y3``` as solid black lines. *Hint: You can use the link about markers to find the appropriate colors and marker shapes.*\n",
    "9. Make sure to *show* the plot as an output.\n",
    "\n",
    "Follow the coordinates for the ```x1``` by ```y1``` plot. Notice that the values are drawn and connected in the order they show up in the list from left to right. Essentially, all we are doing is connecting the dots when drawing these graphs.\n",
    "\n",
    "**Part 2** (Optional - 0 pts)\n",
    "\n",
    "Now that you know how to plot on matplotlib, In a similar manner as in Part 1, in a new block of code, draw your first initial in block letters. Make your output a line that is not solid and a color that we have not used already."
   ]
  },
  {
   "cell_type": "markdown",
   "id": "54f5d473",
   "metadata": {},
   "source": [
    "<h3 style=\"background-color:lightblue\"> Write Answers for Exercise 6 Part 1 Below </h3>"
   ]
  },
  {
   "cell_type": "code",
   "execution_count": null,
   "id": "b012add2",
   "metadata": {},
   "outputs": [],
   "source": [
    "# Write your answer here"
   ]
  },
  {
   "cell_type": "markdown",
   "id": "9c900021-c2e1-4aea-a54a-6b177241d8ad",
   "metadata": {},
   "source": [
    "<h3 style=\"background-color:lightblue\"> Write Answers for Exercise 6 Part 2 Below (Optional) </h3>"
   ]
  },
  {
   "cell_type": "code",
   "execution_count": null,
   "id": "8559af42-4f68-4808-984b-03aa23dec459",
   "metadata": {},
   "outputs": [],
   "source": [
    "# Write your answer here"
   ]
  },
  {
   "cell_type": "markdown",
   "id": "f1323ab2",
   "metadata": {},
   "source": [
    "## <span style=\"color:orange;\"> 8. NumPy Arrays </span> "
   ]
  },
  {
   "cell_type": "markdown",
   "id": "7d7cda9b",
   "metadata": {},
   "source": [
    "Arrays are very similar to lists. To build one-dimensional arrays we use the NumPy library that we had imported earlier: ```import numpy as np```. To create an array, we can use the following code."
   ]
  },
  {
   "cell_type": "code",
   "execution_count": null,
   "id": "1d66f777",
   "metadata": {},
   "outputs": [],
   "source": [
    "A = np.array([5, 3, 6, 8, 2, 1])     # initialize A with array [5, 3, 6, 8, 2, 1]\n",
    "print(\"A = {}.\".format(A))"
   ]
  },
  {
   "cell_type": "markdown",
   "id": "a908e654",
   "metadata": {},
   "source": [
    "You can also create arrays by using functions like ```arange()```, ```zeros()```, ```linspace()```.\n",
    "\n",
    "```arange()``` - creates an array between a range of values, similar to ```range()```<br>\n",
    "```zeros()``` - creates an array of zeros <br>\n",
    "```linspace()``` - creates an array of linearly spaced values"
   ]
  },
  {
   "cell_type": "code",
   "execution_count": null,
   "id": "eb8a122e",
   "metadata": {},
   "outputs": [],
   "source": [
    "A1 = np.arange(2, 10, 4)    # (start, stop, stepping size)\n",
    "A2 = np.zeros(4)            # number of elements            \n",
    "A3 = np.linspace(2, 10, 4)  # (start, stop, number of elements)\n",
    "\n",
    "print(\"A1 =\", A1)\n",
    "print(\"A2 =\", A2)\n",
    "print(\"A3 =\", A3)"
   ]
  },
  {
   "cell_type": "markdown",
   "id": "f08a87d1",
   "metadata": {},
   "source": [
    "We can find the length of the array by using the ```len()``` function."
   ]
  },
  {
   "cell_type": "code",
   "execution_count": null,
   "id": "a271531b",
   "metadata": {},
   "outputs": [],
   "source": [
    "length = len(A1)\n",
    "print(\"The length of the array is {}.\".format(length))"
   ]
  },
  {
   "cell_type": "markdown",
   "id": "6674173f",
   "metadata": {},
   "source": [
    "The indexing rules for an array are the same rules that we had used earlier for lists. Similar to lists, we can create subarrays with index manipulation. Here are some examples to corroborate this. "
   ]
  },
  {
   "cell_type": "code",
   "execution_count": null,
   "id": "18a7f335",
   "metadata": {
    "scrolled": true
   },
   "outputs": [],
   "source": [
    "print(A[3])                         # 4th element in A, index 3\n",
    "print(A[-3])                        # 3rd to last element in A, index 3 \n",
    "print(A[1:5:1])                     # index 1-4\n",
    "print(A[4:0:-2])                    # index 4, 2\n",
    "v = A[3::1]\n",
    "print(\"v =\", v)                     # index 3, 4, 5"
   ]
  },
  {
   "cell_type": "markdown",
   "id": "9bea14d4",
   "metadata": {},
   "source": [
    "Why are we learning arrays when the same thing can be done with lists?\n",
    "\n",
    "Arrays using NumPy are easier to manipulate. NumPy also includes additional functions for array manipulation.\n",
    "\n",
    "It is also possible to use basic operations on an entire array. This is like evaluating functions at several points at once. This is easier than creating *for* loops."
   ]
  },
  {
   "cell_type": "code",
   "execution_count": null,
   "id": "ffac5f6e",
   "metadata": {},
   "outputs": [],
   "source": [
    "V = np.array([1, 2, 3, 4, 5, 6, 7, 8, 9])\n",
    "V1 = V * 11                                           # y = x * 11\n",
    "V2 = V ** 2                                           # y = x ^ 2\n",
    "V3 = V == 5                                           \n",
    "print(\"V multiplied by 11: {}\".format(V1))\n",
    "print(\"V squared: {}\".format(V2))\n",
    "print(\"Elements of V that equal 5: {}.\".format(V3))"
   ]
  },
  {
   "cell_type": "markdown",
   "id": "d24caa05",
   "metadata": {},
   "source": [
    "The addition with lists is different than addition with arrays.\n",
    "\n",
    "Let's test this."
   ]
  },
  {
   "cell_type": "code",
   "execution_count": null,
   "id": "bbe0e9c1",
   "metadata": {},
   "outputs": [],
   "source": [
    "list1 = [4, 6, 8]\n",
    "list2 = [1, 3, 7]\n",
    "array1 = np.array([4, 6, 8])\n",
    "array2 = np.array([1, 3, 7])\n",
    "\n",
    "list3 = list1 + list2\n",
    "array3 = array1 + array2\n",
    "\n",
    "print(\"Lists create join lists together called concatenation.\")\n",
    "print(\"The value of list3 is {}.\".format(list3))\n",
    "print(\"Arrays add the each corresponding elements together.\")\n",
    "print(\"The value of array3 is {}.\".format(array3))"
   ]
  },
  {
   "cell_type": "markdown",
   "id": "e7f9f1a3",
   "metadata": {},
   "source": [
    "Try some other basic operations on arrays. What happens when you subtract arrays? When you divide an array by a scalar? When you multiply two arrays?\n",
    "<h3 style=\"color:green;\"><left> Sandbox </left></h3>"
   ]
  },
  {
   "cell_type": "code",
   "execution_count": 4,
   "id": "8c8b293d",
   "metadata": {},
   "outputs": [],
   "source": [
    "# Sandbox"
   ]
  },
  {
   "cell_type": "markdown",
   "id": "8be96957",
   "metadata": {},
   "source": [
    "### <span style=\"color:red;\"> Exercise 7 </span> (20 pts)"
   ]
  },
  {
   "cell_type": "markdown",
   "id": "057a6071",
   "metadata": {},
   "source": [
    "__Part 1__ (10 pts)\n",
    "\n",
    "The equation for calculating kinetic energy is given by<br>\n",
    "\\begin{align*}\n",
    "KE = \\frac{mv^2}{2}\n",
    "\\end{align*}\n",
    "where <br>\n",
    "KE is kinetic energy (J) <br>\n",
    "m is mass (kg), <br>\n",
    "v is velocity (m/s)\n",
    "\n",
    "Given that an object has a mass of 20 kg, how much kinetic energy does this object have at the given velocities between the interval \\[0, 7\\] using 8 linearly-spaced points.\n",
    "1. Use a NumPy array to calculate the kinetic energy at the different velocities.\n",
    "2. Create a scatterplot plotting ```Velocity (m/s)``` by ```Kinetic Energy (J)```. *Make sure to include an appropriate title and axes labels.*\n",
    "\n",
    "__Part 2__ (10 pts)\n",
    "\n",
    "In Exercise 5, we used lists to find and print the average of 10, 45, 6, 90, 5, 87, 56. Now, let's use an array to find the average. Use this link [__*NumPy Math Functions*__](https://numpy.org/doc/stable/reference/routines.math.html) to find a function that may help you. *You must use __array notation__, and do __not__ use the average() function. Hint: think about what you need to do to find the average of a set of numbers step-by-step and see what function fits each step, if possible.*\n",
    "\n",
    "__Part 3__ (Optional - 0 pts)\n",
    "\n",
    "Question 1: What kind of relationship do the variables have? Linear? Quadratic? Cubic? Exponential?\n",
    "\n",
    "Question 2: Using your graph that you made, estimate what the kinetic energy of the object is when it is moving at a speed of 4.5 m/s."
   ]
  },
  {
   "cell_type": "markdown",
   "id": "2a57a1a1",
   "metadata": {},
   "source": [
    "<h3 style=\"background-color:lightblue\"> Write Answers for Exercise 7 Part 1 Below </h3>"
   ]
  },
  {
   "cell_type": "code",
   "execution_count": 2,
   "id": "aa5ef8d3",
   "metadata": {},
   "outputs": [],
   "source": [
    "# Write your answer here"
   ]
  },
  {
   "cell_type": "markdown",
   "id": "9cabacb0",
   "metadata": {},
   "source": [
    "<h3 style=\"background-color:lightblue\"> Write Answers for Exercise 7 Part 2 Below </h3>"
   ]
  },
  {
   "cell_type": "markdown",
   "id": "c801958e",
   "metadata": {},
   "source": [
    "Write your answer here"
   ]
  },
  {
   "cell_type": "markdown",
   "id": "ddc73900-692c-4651-aeaf-cdd254a16493",
   "metadata": {},
   "source": [
    "<h3 style=\"background-color:lightblue\"> Write Answers for Exercise 7 Part 3 Below (Optional)</h3>"
   ]
  },
  {
   "cell_type": "markdown",
   "id": "6ccd4814-2094-42ca-8a02-112311d7de15",
   "metadata": {},
   "source": [
    "Write your answer here"
   ]
  },
  {
   "cell_type": "markdown",
   "id": "c25a53bd",
   "metadata": {},
   "source": [
    "## <span style=\"color:orange;\"> 9. Function Visualizations </span> "
   ]
  },
  {
   "cell_type": "markdown",
   "id": "b18c4a4a",
   "metadata": {},
   "source": [
    "In __Exercise 7, Part 1__ we learned how to discretize an interval of a function using NumPy operations. \n",
    "\n",
    "Let's look at how the number of points we choose within an interval affects the output of a function. In this example, we are going to look at $\\mathtt{sin(x)}$ by dividing the interval \\[0, 2pi] into 5, 10, and 50 points."
   ]
  },
  {
   "cell_type": "code",
   "execution_count": null,
   "id": "6e846cde",
   "metadata": {},
   "outputs": [],
   "source": [
    "t5 = np.linspace(0, 2 * math.pi, 5)                          # 5 linearly-spaced elements within the interval of [0, 2pi]\n",
    "sin5 = np.sin(t5)                                            # Map these 5 points to sin(x)\n",
    "t10 = np.linspace(0, 2 * math.pi, 10)                        # 10 linearly-spaced elements within the interval of [0, 2pi]\n",
    "sin10 = np.sin(t10)                                          # Map these 10 points to sin(x) \n",
    "t50 = np.linspace(0, 2 * math.pi, 50)                        # 50 linearly-spaced elements within the interval of [0, 2pi]\n",
    "sin50 = np.sin(t50)                                          # Map these 50 points to sin(x)\n",
    "\n",
    "# Graph for 5 points\n",
    "plt.plot(t5, sin5, 'r-')\n",
    "plt.title(\"sin(x) discretized at 5 points\")\n",
    "plt.xlabel(\"x\")\n",
    "plt.ylabel(\"y\")\n",
    "plt.show()\n",
    "# Graph for 10 points\n",
    "plt.plot(t10, sin10, 'g-')\n",
    "plt.title(\"sin(x) discretized at 10 points\")\n",
    "plt.xlabel(\"x\")\n",
    "plt.ylabel(\"y\")\n",
    "plt.show()\n",
    "# Graph for 50 points\n",
    "plt.plot(t50, sin50, 'b-')\n",
    "plt.title(\"sin(x) discretized at 50 points\")\n",
    "plt.xlabel(\"x\")\n",
    "plt.ylabel(\"y\")\n",
    "plt.show()"
   ]
  },
  {
   "cell_type": "markdown",
   "id": "92bfce40",
   "metadata": {},
   "source": [
    "Through this, we can see that choosing a valid number of points to graph a function is very important.\n",
    "\n",
    "For the next example, we are going to analyze how an ordered x-coordinate __*list*__ differs from an unordered __*list*__. Run the following code."
   ]
  },
  {
   "cell_type": "code",
   "execution_count": null,
   "id": "1c46fac0",
   "metadata": {},
   "outputs": [],
   "source": [
    "x1 = np.array([1, 2, 3, 4, 5, 6, 7])       # Ordered\n",
    "x2 = np.array([3, 4, 6, 7, 2, 1, 5])       # Unordered\n",
    "\n",
    "# y = x ^3\n",
    "y1 = x1 ** 3\n",
    "y2 = x2 ** 3\n",
    "\n",
    "# Ordered Graph\n",
    "plt.plot(x1, y1, 'm-')\n",
    "plt.title(\"Ordered x-coordinates\")\n",
    "plt.xlabel(\"x\")\n",
    "plt.ylabel(\"y\")\n",
    "plt.show()\n",
    "# Unordered Graph\n",
    "plt.plot(x2, y2, \"c-\")\n",
    "plt.title(\"Unordered x-coordinates\")\n",
    "plt.xlabel(\"x\")\n",
    "plt.ylabel(\"y\")\n",
    "plt.show()"
   ]
  },
  {
   "cell_type": "markdown",
   "id": "e14e311c",
   "metadata": {},
   "source": [
    "Now let's graph the same plots, but instead of a line graph, let's use a scatter plot."
   ]
  },
  {
   "cell_type": "code",
   "execution_count": null,
   "id": "31f7e3da",
   "metadata": {},
   "outputs": [],
   "source": [
    "# Ordered Graph\n",
    "plt.plot(x1, y1, 'mo')\n",
    "plt.title(\"Ordered x-coordinates\")\n",
    "plt.xlabel(\"x\")\n",
    "plt.ylabel(\"y\")\n",
    "plt.show()\n",
    "# Unordered Graph\n",
    "plt.plot(x2, y2, \"co\")\n",
    "plt.title(\"Unordered x-coordinates\")\n",
    "plt.xlabel(\"x\")\n",
    "plt.ylabel(\"y\")\n",
    "plt.show()"
   ]
  },
  {
   "cell_type": "markdown",
   "id": "0bd64c9c",
   "metadata": {},
   "source": [
    "### <span style=\"color:red;\"> Exercise 8 </span> (20 pts)"
   ]
  },
  {
   "cell_type": "markdown",
   "id": "a0250857-3350-4ccb-af16-1a5f1da3a844",
   "metadata": {},
   "source": [
    "__Part 1__ (10 pts)\n",
    "\n",
    "Consider the function $y = \\sin(100 x)$.\n",
    "\n",
    "1. What is the period of the function?\n",
    "2. What is the frequency of the function?\n",
    "3. If we graph this function on the interval $[0, \\pi]$, how many oscillations will we see? Describe in words how you expect the plot to look.\n",
    "4. Run the cell below, which creates a graph of the equation between the interval \\[$\\mathtt{0, \\pi}$\\].\n",
    "5. Does the graph match what you expected it to be? Why or why not? \n",
    "\n",
    "In the next part we will explore what went wrong here."
   ]
  },
  {
   "cell_type": "code",
   "execution_count": null,
   "id": "85bec991",
   "metadata": {},
   "outputs": [],
   "source": [
    "x = np.linspace(0, np.pi)\n",
    "y = np.sin(100*x)\n",
    "plt.plot(x, y)\n",
    "plt.show()"
   ]
  },
  {
   "cell_type": "markdown",
   "id": "4562d884",
   "metadata": {},
   "source": [
    "<h3 style=\"background-color:lightblue\"> Write Answers for Exercise 8 Part 1 Below </h3>"
   ]
  },
  {
   "cell_type": "markdown",
   "id": "5dd97ae1-73f3-46a9-8f5a-b7e121a10970",
   "metadata": {},
   "source": [
    "Write your answer here"
   ]
  },
  {
   "cell_type": "markdown",
   "id": "b05d591a-fdba-478e-9d23-76f961569135",
   "metadata": {},
   "source": [
    "__Part 2__ (10 pts)\n",
    "\n",
    "To better understand what went wrong in Part 2, let's zoom in on just the first tenth of the graph. We can do this without changing the plot in any other way, simply by changing the x limits. In order to see exactly which points are shown, let's make this a scatter plot as well."
   ]
  },
  {
   "cell_type": "code",
   "execution_count": null,
   "id": "954a81a3-086e-463b-b6d0-393c93f9bafa",
   "metadata": {},
   "outputs": [],
   "source": [
    "plt.plot(x, y, 'o')\n",
    "plt.xlim(0, np.pi/10)\n",
    "plt.show()"
   ]
  },
  {
   "cell_type": "markdown",
   "id": "6cdc6661-a508-4c7d-8698-fced2b1e7a14",
   "metadata": {},
   "source": [
    "Now we see that there are only five points being drawn in the first tenth of the interval! We expect there to be ten oscillations here, so that just is not enough. Let's make an additional plot on top of this one, but sampling at way more points. In the following cell, assign a number to `number_of_samples`. Start with 200, and increase it until the graph shows a smooth, sinusoidal shape."
   ]
  },
  {
   "cell_type": "code",
   "execution_count": null,
   "id": "a5cb5c8a-c60f-419d-a9f4-b1e8121211b4",
   "metadata": {},
   "outputs": [],
   "source": [
    "number_of_samples = # You need to fill this in.\n",
    "x_detailed = np.linspace(0, np.pi, number_of_samples)\n",
    "y_detailed = np.sin(100 * x_detailed)\n",
    "\n",
    "plt.plot(x, y, 'o')\n",
    "plt.plot(x_detailed, y_detailed)\n",
    "plt.xlim(0, np.pi/10)\n",
    "plt.show()"
   ]
  },
  {
   "cell_type": "markdown",
   "id": "c8742d4e-7e3f-4507-9f6d-9cd504833d59",
   "metadata": {},
   "source": [
    "Now we can see what was going on: the points are coming from the correct function, but they are being sampled in a way which gives a misleading picture. Let's see the same plot, but zoomed out to show the whole interval."
   ]
  },
  {
   "cell_type": "code",
   "execution_count": null,
   "id": "d0c229aa-5b26-4815-ae7b-1011f05ee0f9",
   "metadata": {},
   "outputs": [],
   "source": [
    "plt.plot(x, y, 'o')\n",
    "plt.plot(x_detailed, y_detailed)\n",
    "plt.show()"
   ]
  },
  {
   "cell_type": "markdown",
   "id": "057b8fd8-ad91-4093-83dc-18d987df0349",
   "metadata": {},
   "source": [
    "This phenomenon is called *aliasing*. There are actually lots of things called aliasing; it means a different thing in computer programming, and a different thing in radio engineering. This is what aliasing means in computer graphics and signal processing: if you sample a periodic function at too low a frequency, you can get a very misleading effect. You have to be careful to avoid this, by always ensuring that you have a high enough number of samples.\n",
    "\n",
    "Now answer the following question.\n",
    "\n",
    "1. We did not specify how many samples to take in our initial plot. Why were there only five points in our zoomed-in plot? *Hint: look up the function `linspace` in the official NumPy documentation here: https://numpy.org/doc/stable/*\n",
    "\n",
    "<h3 style=\"background-color:lightblue\"> Write Answers for Exercise 8 Part 2 Below </h3>"
   ]
  },
  {
   "cell_type": "markdown",
   "id": "92a093ef-9dd7-45ee-a292-b322ed8a684d",
   "metadata": {},
   "source": [
    "Write your answer here"
   ]
  }
 ],
 "metadata": {
  "kernelspec": {
   "display_name": "Python 3 (ipykernel)",
   "language": "python",
   "name": "python3"
  },
  "language_info": {
   "codemirror_mode": {
    "name": "ipython",
    "version": 3
   },
   "file_extension": ".py",
   "mimetype": "text/x-python",
   "name": "python",
   "nbconvert_exporter": "python",
   "pygments_lexer": "ipython3",
   "version": "3.11.5"
  },
  "toc-autonumbering": false,
  "toc-showcode": false,
  "toc-showmarkdowntxt": false,
  "toc-showtags": false,
  "vscode": {
   "interpreter": {
    "hash": "076ea2df6a962f3ca9feed853ca00bbf4379b68c3a07478b3b9a2535b0488b8d"
   }
  }
 },
 "nbformat": 4,
 "nbformat_minor": 5
}
