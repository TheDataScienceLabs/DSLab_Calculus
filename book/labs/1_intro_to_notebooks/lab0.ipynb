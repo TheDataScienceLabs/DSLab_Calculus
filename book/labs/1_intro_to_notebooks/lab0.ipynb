{
 "cells": [
  {
   "cell_type": "markdown",
   "id": "a86c853b-b82f-4883-bf03-15a2c05b87db",
   "metadata": {},
   "source": [
    "# Week 1: Course Intro, Markdown, Latex\n",
    "\n",
    "<font size=\"6\"> Laboratory 0 </font> <br>\n",
    "<font size=\"3\"> Last updated July 26, 2022 </font>"
   ]
  },
  {
   "cell_type": "markdown",
   "id": "e90879f5-f730-44da-ad7a-be77ee8b2eaa",
   "metadata": {},
   "source": [
    "## <span style=\"color:orange;\"> 00. Content </span>"
   ]
  },
  {
   "cell_type": "markdown",
   "id": "ba827722-0c2f-493b-a2d2-d7f0bda08882",
   "metadata": {},
   "source": [
    "<font size=\"5\"> Mathematics </font>\n",
    "- N/A\n",
    "     \n",
    "<font size=\"5\"> Programming Skills </font>\n",
    "- REPL system\n",
    "- Editing code/Markdown boxes\n",
    "- Markdown\n",
    "- Latex    \n",
    "    \n",
    "<font size=\"5\"> Embedded Systems </font>\n",
    "- N/A"
   ]
  },
  {
   "cell_type": "markdown",
   "id": "40ef17dd-1c68-43ed-9406-c2b55840c4b5",
   "metadata": {},
   "source": [
    "## <span style=\"color:orange;\"> 0. Required Hardware </span>"
   ]
  },
  {
   "cell_type": "markdown",
   "id": "ec4e4a28-936f-4676-8286-c69f06d2ac08",
   "metadata": {},
   "source": [
    "- N/A"
   ]
  },
  {
   "cell_type": "markdown",
   "id": "a9b4a375-00e6-40d3-bea2-dcc8a1492083",
   "metadata": {},
   "source": [
    "## <span style=\"color:orange;\"> 1. Before Starting </span>"
   ]
  },
  {
   "cell_type": "markdown",
   "id": "38663706-99db-4699-9cf3-4d78ae5131bc",
   "metadata": {},
   "source": [
    "Before really getting started with this course, navigate to the Brightspace and read through the Syllabus.\n",
    "\n",
    "After this is completed, we will be setting up a file for organizational purposes that will be used to store all files throughout this course. To do this, navigate to the *Home* directory and add a new folder by right-clicking. Name the folder something that will be easy to find, such as \"DSLab_Calc2.\" If you'd like to put it at the top of the list of folders and make it even easier to find, add a tilde (~) at the beginning of the name you chose.\n",
    "\n",
    "Save this and all other files going forward to this folder. It'll make everything much easier to find and will especially come in handy when submitting the labs at the end of each class. This includes files that are downloaded through links during labs. When you click on a file link, it'll send you to the GitHub page for that file. To download and save it to your folder, click on the button that says \"Raw\" on the top right of the file preview (unless it's a PDF, then just click \"Download\"). This will take you to a white page with the information in black text. To see the file in the proper environment, right-click the screen and click \"Save as...\" and once you open it after this, it should appear in the correct environment!\n",
    "\n",
    "## Laboratory ethics\n",
    "\n",
    "\"I pledge to behave ethically and with honesty in this course. I may discuss approaches for a solution with others, but my submitted lab report will be my own work, including all code. I will not make my finished reports available to other students, even after the semester is over. In particular, I will not post my labs on the Internet or make my files available to other people. I will not be a cheater.\""
   ]
  },
  {
   "cell_type": "markdown",
   "id": "63b905c3-9507-486f-a88c-a214095c2df3",
   "metadata": {},
   "source": [
    "## <span style=\"color:orange;\"> 2. Introduction to IPython Notebook </span>"
   ]
  },
  {
   "cell_type": "markdown",
   "id": "dab618d6-1a09-464d-a120-f84ad3f122a3",
   "metadata": {},
   "source": [
    "Welcome to the first of \"The Data Science Labs on Differential and Integral Calculus!\"\n",
    "\n",
    "You are reading an interactive textbook. As you read the text, you will be asked to perform certain tasks and answer some questions. You will write your answers directly in this textbook. Keep reading to learn how to do this!\n",
    "\n",
    "## Two types of cells\n",
    "\n",
    "The application you are currently on is an IPython Notebook. The content of an IPython Notebook consists of two types of cells, \"markdown\" cells and \"code\" cells. Markdown cells are used to display nicely-formatted text for people to read. Code cells are used to display nicely-formatted code for people and computers to read. The words you are reading right now are part of a markdown cell. The gray cell below is a code cell. When you run the code cell, each line of code is executed in order. The output of the last line is shown under the cell. You can run these code cells by holding the \"shift\" key while pressing the \"enter\" key (shift-enter). \n",
    "\n",
    "Some of these boxes are labeled as \"Sandbox\". Feel free to use the sandboxes as a place to experiment with functions and see the capabilities of Python as you read about them, (and feel free to make your own code cells, which will be explained shortly). No code or text in the sandboxes will be graded. Here is an example. Try running it!"
   ]
  },
  {
   "cell_type": "markdown",
   "id": "d1e4668a-f67e-4be5-9866-b0992fce90b9",
   "metadata": {},
   "source": [
    "<h3 style=\"color:green;\"><left> Sandbox </left></h3>"
   ]
  },
  {
   "cell_type": "code",
   "execution_count": null,
   "id": "c8627af6-6fdc-4ed6-a193-1e1c10957b6e",
   "metadata": {},
   "outputs": [],
   "source": [
    "2+3+4"
   ]
  },
  {
   "cell_type": "markdown",
   "id": "fd96108a-26aa-46d2-8ac0-723c272cf8b0",
   "metadata": {},
   "source": [
    "The markdown cells are actually transparent, so you will not really see them unless you go into \"edit\" mode, by double-clicking on the box. For example, the text you are currently reading is inside a markdown cell. Feel free to double-click on it to see what \"edit\" mode looks like. To go back to formatted text, press shift-enter while still in the cell.\n",
    "\n",
    "While in edit mode, you will notice that the text is written in some coding language. The language is called \"markdown.\" Markdown allows one to format the text inside the cell, for example adding colors and controlling the font types. There are many good tutorials and cheat sheets for Markdown available on the Internet, for example \n",
    "<a href=\"https://www.datacamp.com/community/tutorials/markdown-in-jupyter-notebook\"> this one </a>. It may be confusing at first, but as you continue to use these formatting options, it'll become easier and more natural.\n",
    "\n",
    "Please continue by reading all the text boxes you encounter below, and running all the code boxes (shift-enter) as you encounter them. \n",
    "\n",
    "If you are asked to answer a question, there will be a designated text box below a light blue highlighted cell for you to type in your answer. To begin typing, double-click the box to enter the edit mode. Type your answer using the Markdown language.  When finished typing, type shift-enter; this will run your code or display your answer as formatted text, depending on the cell type.\n",
    "\n",
    "Let's try it out. Below is a markdown cell containing some Markdown code. Double-click on it and write your name and email in place of the one that is already there. Keep the code that makes the cell highlights in blue. When you are done editing the text, press shift-enter to see the result. "
   ]
  },
  {
   "cell_type": "markdown",
   "id": "0176ebc1-2fe7-4928-8468-b822a491cfa6",
   "metadata": {},
   "source": [
    "<h3 style=\"background-color:lightblue\"> Write your name and email below: </h3>\n",
    "\n",
    "First Name, Last Name, Email"
   ]
  },
  {
   "cell_type": "markdown",
   "id": "a9c7f138-33b9-4841-bf61-35fc7e07a5de",
   "metadata": {},
   "source": [
    "## A brief intro to markdown\n",
    "\n",
    "Since you will be turning in work throughout this class using these notebooks, not with pen and paper, it is important that you are able to communicate clearly using markdown cells.\n",
    "\n",
    "Double-click this cell to see some of the useful Markdown formatting shown below\n",
    "1. Numbered lists\n",
    "- Bulleted lists\n",
    "    - Can also do indents\n",
    "- *Italic text*\n",
    "- **Bold text**\n",
    "- ***Italic and bold text***\n",
    "- `Code listings` (use backticks(`this`), not inverted commas ('not this'))\n",
    "\n",
    "One of the most useful things about markdown is that we can use it to express mathematical formulas written using Latex. It is important that you are able to write formulas and equations so that they can be read on the computer."
   ]
  },
  {
   "cell_type": "markdown",
   "id": "ac73c605-bbc5-452c-a686-8a01b6449d50",
   "metadata": {},
   "source": [
    "## <span style=\"color:orange;\"> 2. Try it Out </span>"
   ]
  },
  {
   "cell_type": "markdown",
   "id": "8e4b65db-52d2-46f5-b7dc-88a2a973b604",
   "metadata": {},
   "source": [
    "You can use the \"plus\" button in the top left corner of the document to insert a cell, or you can right-click a cell and click \"Paste Cells Below,\" if you want to copy a cell. Inside a cell, you can use the dropdown menu to the right of the plus button to switch it between being a code or markdown cell.\n",
    "\n",
    "Try adding a markdown cell below and write a short message."
   ]
  },
  {
   "cell_type": "markdown",
   "id": "9c98777b-8bd3-42ed-bcbd-234a64601c0c",
   "metadata": {},
   "source": [
    "Along with adding a cell, you can also delete them by right-clicking the cell you want to delete and pressing \"Delete Cells.\" While you shouldn't be using this capability much during this course, it is useful to know about.\n",
    "\n",
    "Try deleting the cell below."
   ]
  },
  {
   "cell_type": "markdown",
   "id": "213b5dad-adfa-4f1b-9144-fe3b3865e1ae",
   "metadata": {},
   "source": [
    "**Delete me!**"
   ]
  },
  {
   "cell_type": "markdown",
   "id": "88fff227-c165-484a-a00c-b0b03d0c5a6d",
   "metadata": {},
   "source": [
    "### <span style=\"color:red\"> Exercise 1 </span> (5 pts)\n",
    "\n",
    "**Part 1** (2.5 pts)\n",
    "\n",
    "The following code cell contains code but it is labeled as a markdown cell. Change it to a code cell and run it.\n",
    "\n",
    "<h3 style=\"background-color:lightblue\"> Write Answers for Exercise 1 Part 1 Below </h3>"
   ]
  },
  {
   "cell_type": "markdown",
   "id": "c42434c4-6b5a-4fda-84e3-ad1f35e1accc",
   "metadata": {},
   "source": [
    "sum([1, 2, 3, 4, 5])"
   ]
  },
  {
   "cell_type": "markdown",
   "id": "fefc3d9d-b057-4dd1-bedc-8f43c927273e",
   "metadata": {},
   "source": [
    "**Part 2** (2.5 pts)\n",
    "\n",
    "Make a new markdown cell underneath this one. Write a sentence in it and execute the cell to make it format.\n",
    "\n",
    "<h3 style=\"background-color:lightblue\"> Write Answers for Exercise 1 Part 2 Below </h3>"
   ]
  },
  {
   "cell_type": "markdown",
   "id": "d0f19fc1-3d0b-43c1-969c-9385f645fd7a",
   "metadata": {},
   "source": [
    "## <span style=\"color:orange;\"> 3. A Very Brief Introduction to $\\LaTeX$ </span>"
   ]
  },
  {
   "cell_type": "markdown",
   "id": "2535f7b3-5f7d-4742-83a7-71f424710364",
   "metadata": {},
   "source": [
    "Latex (written stylized as $\\LaTeX$) is a very popular, very old, very well-established tool for making typeset documents. The \"x\" should really be a letter chi, $\\chi$, which makes a \"k\" sound -- Latex is pronounced \"law-tek\", or \"lay-tek\". Here are some common ways people use it:\n",
    "\n",
    " - writing submissions to academic journals\n",
    " - writing textbooks\n",
    " - preparing fiction books for publishing\n",
    " - writing assignments and exams for students\n",
    " - making slide presentations (like PowerPoint)\n",
    " - writing letters to their friends\n",
    " \n",
    "Many mathematicians use Latex almost exclusively when preparing written documents. We are going to use only a tiny, tiny fraction of Latex in this course -- the portion which prints formulas nicely. Many Markdown interpreters (including the one that comes with JupyterLab) know how to turn expressions written in Latex into nicely printed expressions. That's how I can write a nice formula like\n",
    "\n",
    "$$\n",
    "e^x = \\sum_{n=0}^\\infty \\frac{x^n}{n!}.\n",
    "$$\n",
    "\n",
    "If you double-click on this cell of the document, you will see the characters which I typed to make that formula happen. Notice the `$$ and $$` which are used to tell Markdown that a formula is happening."
   ]
  },
  {
   "cell_type": "markdown",
   "id": "6e1b8035-a2a9-4ca5-9d7f-ee49522fb5bd",
   "metadata": {},
   "source": [
    "### <span style=\"color:red\"> Exercise 2 </span> (5 pts)\n",
    "\n",
    "Copy and paste the formula from the cell above into the cell below. Change it so that instead of $x$, the variable is $y$.\n",
    "\n",
    "<h3 style=\"background-color:lightblue\"> Write Answers for Exercise 2 Below </h3>"
   ]
  },
  {
   "cell_type": "markdown",
   "id": "dc69be84-70ba-458f-bf0c-22991eff3e7f",
   "metadata": {},
   "source": []
  },
  {
   "cell_type": "markdown",
   "id": "b679e679-4dbc-470f-8766-7b1c6a446ac2",
   "metadata": {},
   "source": [
    "One of the reasons Latex is so popular is that you can use the same formulas in different places, and they will show up differently based on context. If you want to put Latex in a line of text (without its own line) you can just put your code between dollar signs (`$`) like this: $e^x = \\sum_{n=0}^\\infty \\frac{x^n}{n!}.$ Notice that the sum is written smaller, so it doesn't break up the text as much, but I used the exact same code.\n",
    "\n",
    "## Escape sequences\n",
    "\n",
    "A lot of the symbols we like to use in math are not on a typical keyboard. If you want a lower case sigma, you are usually out of luck. In Latex you can write a lower case sigma by writing `\\sigma`, which shows up like $\\sigma$. Everything written after a backslash (the symbol `\\`, which is found just under the backspace key on most keyboards) is not printed, but instead is treated like a command. In this case, the command is \"put a letter sigma here\". To do a capital sigma, just type `\\Sigma` with a capital `S`, like so $\\Sigma$.\n",
    "\n",
    "### <span style=\"color:red\"> Exercise 3 </span> (5 pts)\n",
    "\n",
    "Write some Latex code in the cell below to produce an phi, psi, gamma, and delta, first in lower case then in upper case.\n",
    "\n",
    "<h3 style=\"background-color:lightblue\"> Write Answers for Exercise 3 Below </h3>"
   ]
  },
  {
   "cell_type": "markdown",
   "id": "207d6ce2-0068-4621-8ff6-a99405d45633",
   "metadata": {},
   "source": []
  },
  {
   "cell_type": "markdown",
   "id": "90f128b6-4c70-42a6-b3f5-b4060e7e3a45",
   "metadata": {},
   "source": [
    "## Subscripts, superscripts, and grouping\n",
    "\n",
    "It is really common in math to want to write a superscript like the 2 in $x^2$ or the $r$ in $\\varepsilon_r$. We do that with the `^` and `_` keys (caret and underscore). **Watch out**: Latex is different from Python. In Python, we would write $x^2$ as `x**2`. It can be easy to get mixed up when switching back and forth.\n",
    "\n",
    "Here is another thing to watch out for: the subscript (or superscript) only works on the first thing after it. So, if I try to raise x to the 23rd power with just one caret (`x^23`) I get this: $x^23$. No good! In order to fix this, we will tell the 2 and the 3 that they go together. We use the `{` and `}` symbols (braces) to group things together in Latex. I can type this instead as `x^{23}` which gives $x^{23}$.\n",
    "\n",
    "### <span style=\"color:red\"> Exercise 4 </span> (5 pts)\n",
    "\n",
    "The formula below is all wrong! Put in braces to make it correct.\n",
    "\n",
    "<h3 style=\"background-color:lightblue\"> Write Answers for Exercise 4 Below </h3>"
   ]
  },
  {
   "cell_type": "markdown",
   "id": "10acdb8d-a69c-40dd-a814-0c90e49d8100",
   "metadata": {},
   "source": [
    "$$\n",
    "\\cos(x) = \\sum_k=0^\\infty \\frac{(-1)^k x^2k}{(2k)!}\n",
    "$$"
   ]
  },
  {
   "cell_type": "markdown",
   "id": "1d9d8df9-4cab-410c-bb23-bcf182f2edeb",
   "metadata": {},
   "source": [
    "## Fractions and parentheses\n",
    "\n",
    "Fractions in Latex are a bit unusual in that they act on the *two* symbols which come after them. If I write `\\frac12` that makes $\\frac12$. Usually, fractions have more than one character in the numerator and denominator, so you will usually write a fraction with two pairs of braces, `\\frac{1}{2}`. That is easier to read anyhow, I think. This makes it possible to more complicated fractions, or even fractions inside of fractions.\n",
    "\n",
    "$$\n",
    "\\frac{pq}{p+q} = \\frac{1}{\\frac{1}{p} + \\frac{1}{q}}\n",
    "$$\n",
    "\n",
    "If you are in \"text mode\" (the smaller in-line text you get with `$`) the fractions are smaller, and if you are in \"display mode\" they are bigger. If you want to override that, you could use the command `\\tfrac` which always does the smaller-style fraction, or the command `\\dfrac` which always does the display style fraction.\n",
    "\n",
    "When you have expressions involving fractions, they are often quite a bit taller than a single character. This can lead to ugly expressions:\n",
    "\\begin{align*}\n",
    "1 = \\sum_{n=1}^\\infty (\\frac{1}{2})^n\n",
    "\\end{align*}\n",
    "\n",
    "We would prefer if the parentheses knew what was inside them, so they can get bigger. We can do that with the commands `\\left` and `\\right`, which turn normal parentheses into scaling parentheses.\n",
    "\\begin{align*}\n",
    "1 = \\sum_{n=1}^\\infty \\left( \\frac{1}{2} \\right)^n\n",
    "\\end{align*}"
   ]
  },
  {
   "cell_type": "markdown",
   "id": "2c4a36be-fc81-481f-8bd0-24581735799a",
   "metadata": {},
   "source": [
    "## Getting help\n",
    "\n",
    "Almost nobody knows every Latex command they use by heart. There are lots of ways to get help on the internet. One popular tool is [Detexify](http://detexify.kirelabs.org/classify.html) which can help you find the escape sequence for a symbol you need. Try it out.\n",
    "\n",
    "### <span style=\"color:red\"> Exercise 5 </span> (5 pts)\n",
    "\n",
    "Use Detexify to find the escape sequence for the symbol ![symbol](https://raw.githubusercontent.com/TheDataScienceLabs/DSLab_Calculus/main/book/labs/1_intro_to_notebooks/symbol.png), then type it using Latex below.\n",
    "\n",
    "<h3 style=\"background-color:lightblue\"> Write Answers for Exercise 5 Below </h3>"
   ]
  },
  {
   "cell_type": "markdown",
   "id": "568ef5ae-71dd-416f-9c0d-213fb8e24bc3",
   "metadata": {},
   "source": []
  },
  {
   "cell_type": "markdown",
   "id": "a25c5506-9df0-46b0-9e62-6de6825c8695",
   "metadata": {
    "tags": []
   },
   "source": [
    "Another powerful way is to copy someone else's working code. One great place to find it is on Wikipedia.\n",
    "\n",
    "### <span style=\"color:red\"> Exercise 6 </span> (5 pts)\n",
    "\n",
    "You have not been told yet how to write a binomial coefficient in Latex. To figure it out, go to [the Wikipedia page for the binomial theorem](https://en.wikipedia.org/wiki/Binomial_theorem) and find this formula:\n",
    "\n",
    "![img](https://raw.githubusercontent.com/TheDataScienceLabs/DSLab_Calculus/main/book/labs/1_intro_to_notebooks/binomial.png)\n",
    "\n",
    "Go to \"edit source\" on Wikipedia and copy the Latex code you find there to reproduce the formula here below. Then, change the index of summation from a $k$ to an $i$.\n",
    "\n",
    "<h3 style=\"background-color:lightblue\"> Write Answers for Exercise 6 Below </h3>"
   ]
  },
  {
   "cell_type": "markdown",
   "id": "0239f781-beb0-4388-9b99-91277a90e135",
   "metadata": {},
   "source": []
  },
  {
   "cell_type": "markdown",
   "id": "f3a9dff0-74d1-4d7e-af6b-033eaae31c0c",
   "metadata": {},
   "source": [
    "## <span style=\"color:orange;\"> 4. Submitting Labs </span>"
   ]
  },
  {
   "cell_type": "markdown",
   "id": "6425a5b8-6ef6-4ce4-872e-e1bba659e1ae",
   "metadata": {},
   "source": [
    "Now that you've finished the first lab, you're probably wondering how to submit it. This was briefly explained in the Introduction, but here it'll be explained a bit better.\n",
    "\n",
    "First, make sure that everything is completely filled out and saved (either by typing Ctrl+S or by clicking the floppy disk icon in the top left of this application). Once you've done this, look at Brightspace for instructions on how to submit the lab.\n",
    "\n",
    "Once you've done this, you've completed your first lab for this class!"
   ]
  }
 ],
 "metadata": {
  "kernelspec": {
   "display_name": "Python 3 (ipykernel)",
   "language": "python",
   "name": "python3"
  },
  "language_info": {
   "codemirror_mode": {
    "name": "ipython",
    "version": 3
   },
   "file_extension": ".py",
   "mimetype": "text/x-python",
   "name": "python",
   "nbconvert_exporter": "python",
   "pygments_lexer": "ipython3",
   "version": "3.11.5"
  },
  "vscode": {
   "interpreter": {
    "hash": "31f2aee4e71d21fbe5cf8b01ff0e069b9275f58929596ceb00d14d90e3e16cd6"
   }
  }
 },
 "nbformat": 4,
 "nbformat_minor": 5
}
